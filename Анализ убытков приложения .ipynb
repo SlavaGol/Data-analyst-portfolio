{
 "cells": [
  {
   "cell_type": "markdown",
   "metadata": {
    "id": "r-BO88CnWVwe"
   },
   "source": [
    "### Загрузите данные и подготовьте их к анализу"
   ]
  },
  {
   "cell_type": "markdown",
   "metadata": {
    "id": "LCZi0P80WVwj"
   },
   "source": [
    "Загрузите данные о визитах, заказах и рекламных расходах из CSV-файлов в переменные.\n",
    "\n",
    "**Пути к файлам**\n",
    "\n",
    "- визиты: `/datasets/visits_info_short.csv`. [Скачать датасет](https://code.s3.yandex.net/datasets/visits_info_short.csv);\n",
    "- заказы: `/datasets/orders_info_short.csv`. [Скачать датасет](https://code.s3.yandex.net/datasets/orders_info_short.csv);\n",
    "- расходы: `/datasets/costs_info_short.csv`. [Скачать датасет](https://code.s3.yandex.net/datasets/costs_info_short.csv).\n",
    "\n",
    "Изучите данные и выполните предобработку. Есть ли в данных пропуски и дубликаты? Убедитесь, что типы данных во всех колонках соответствуют сохранённым в них значениям. Обратите внимание на столбцы с датой и временем."
   ]
  },
  {
   "cell_type": "markdown",
   "metadata": {},
   "source": [
    "Все библиотеки,которые использовал, выпишу ниже для удобства"
   ]
  },
  {
   "cell_type": "code",
   "execution_count": 39,
   "metadata": {
    "id": "_vsKinGUWVwk"
   },
   "outputs": [],
   "source": [
    "import pandas as pd\n",
    "import numpy as np\n",
    "from datetime import date, datetime, timedelta\n",
    "from matplotlib import pyplot as plt\n",
    "import seaborn as sns\n",
    "import datetime\n",
    "import math\n",
    "import time\n",
    "from datetime import datetime\n",
    "from datetime import date, timedelta as td\n",
    "\n",
    "\n"
   ]
  },
  {
   "cell_type": "code",
   "execution_count": 40,
   "metadata": {},
   "outputs": [],
   "source": [
    "visits=pd.read_csv('/datasets/visits_info.csv')\n",
    "orders=pd.read_csv('/datasets/orders_info.csv')\n",
    "costs=pd.read_csv('/datasets/costs_info.csv')"
   ]
  },
  {
   "cell_type": "markdown",
   "metadata": {},
   "source": [
    "**Займемся предобработкой.**"
   ]
  },
  {
   "cell_type": "code",
   "execution_count": 41,
   "metadata": {},
   "outputs": [
    {
     "name": "stdout",
     "output_type": "stream",
     "text": [
      "<class 'pandas.core.frame.DataFrame'>\n",
      "RangeIndex: 309901 entries, 0 to 309900\n",
      "Data columns (total 6 columns):\n",
      " #   Column         Non-Null Count   Dtype \n",
      "---  ------         --------------   ----- \n",
      " 0   User Id        309901 non-null  int64 \n",
      " 1   Region         309901 non-null  object\n",
      " 2   Device         309901 non-null  object\n",
      " 3   Channel        309901 non-null  object\n",
      " 4   Session Start  309901 non-null  object\n",
      " 5   Session End    309901 non-null  object\n",
      "dtypes: int64(1), object(5)\n",
      "memory usage: 14.2+ MB\n"
     ]
    }
   ],
   "source": [
    "visits.info()"
   ]
  },
  {
   "cell_type": "code",
   "execution_count": 42,
   "metadata": {},
   "outputs": [
    {
     "data": {
      "text/html": [
       "<div>\n",
       "<style scoped>\n",
       "    .dataframe tbody tr th:only-of-type {\n",
       "        vertical-align: middle;\n",
       "    }\n",
       "\n",
       "    .dataframe tbody tr th {\n",
       "        vertical-align: top;\n",
       "    }\n",
       "\n",
       "    .dataframe thead th {\n",
       "        text-align: right;\n",
       "    }\n",
       "</style>\n",
       "<table border=\"1\" class=\"dataframe\">\n",
       "  <thead>\n",
       "    <tr style=\"text-align: right;\">\n",
       "      <th></th>\n",
       "      <th>User Id</th>\n",
       "      <th>Region</th>\n",
       "      <th>Device</th>\n",
       "      <th>Channel</th>\n",
       "      <th>Session Start</th>\n",
       "      <th>Session End</th>\n",
       "    </tr>\n",
       "  </thead>\n",
       "  <tbody>\n",
       "    <tr>\n",
       "      <th>0</th>\n",
       "      <td>981449118918</td>\n",
       "      <td>United States</td>\n",
       "      <td>iPhone</td>\n",
       "      <td>organic</td>\n",
       "      <td>01.05.2019 02:36</td>\n",
       "      <td>01.05.2019 02:45</td>\n",
       "    </tr>\n",
       "    <tr>\n",
       "      <th>1</th>\n",
       "      <td>278965908054</td>\n",
       "      <td>United States</td>\n",
       "      <td>iPhone</td>\n",
       "      <td>organic</td>\n",
       "      <td>01.05.2019 04:46</td>\n",
       "      <td>01.05.2019 04:47</td>\n",
       "    </tr>\n",
       "    <tr>\n",
       "      <th>2</th>\n",
       "      <td>590706206550</td>\n",
       "      <td>United States</td>\n",
       "      <td>Mac</td>\n",
       "      <td>organic</td>\n",
       "      <td>01.05.2019 14:09</td>\n",
       "      <td>01.05.2019 15:32</td>\n",
       "    </tr>\n",
       "    <tr>\n",
       "      <th>3</th>\n",
       "      <td>326433527971</td>\n",
       "      <td>United States</td>\n",
       "      <td>Android</td>\n",
       "      <td>TipTop</td>\n",
       "      <td>01.05.2019 00:29</td>\n",
       "      <td>01.05.2019 00:54</td>\n",
       "    </tr>\n",
       "    <tr>\n",
       "      <th>4</th>\n",
       "      <td>349773784594</td>\n",
       "      <td>United States</td>\n",
       "      <td>Mac</td>\n",
       "      <td>organic</td>\n",
       "      <td>01.05.2019 03:33</td>\n",
       "      <td>01.05.2019 03:57</td>\n",
       "    </tr>\n",
       "  </tbody>\n",
       "</table>\n",
       "</div>"
      ],
      "text/plain": [
       "        User Id         Region   Device  Channel     Session Start  \\\n",
       "0  981449118918  United States   iPhone  organic  01.05.2019 02:36   \n",
       "1  278965908054  United States   iPhone  organic  01.05.2019 04:46   \n",
       "2  590706206550  United States      Mac  organic  01.05.2019 14:09   \n",
       "3  326433527971  United States  Android   TipTop  01.05.2019 00:29   \n",
       "4  349773784594  United States      Mac  organic  01.05.2019 03:33   \n",
       "\n",
       "        Session End  \n",
       "0  01.05.2019 02:45  \n",
       "1  01.05.2019 04:47  \n",
       "2  01.05.2019 15:32  \n",
       "3  01.05.2019 00:54  \n",
       "4  01.05.2019 03:57  "
      ]
     },
     "execution_count": 42,
     "metadata": {},
     "output_type": "execute_result"
    }
   ],
   "source": [
    "visits.head()"
   ]
  },
  {
   "cell_type": "code",
   "execution_count": 43,
   "metadata": {},
   "outputs": [],
   "source": [
    "visits.columns = ['user_id', 'region', 'device', 'channel', 'session_start', 'session_end']"
   ]
  },
  {
   "cell_type": "markdown",
   "metadata": {},
   "source": [
    "Session Start и Session End приведем к формату даты.\n"
   ]
  },
  {
   "cell_type": "code",
   "execution_count": 44,
   "metadata": {},
   "outputs": [],
   "source": [
    "\n",
    "visits['session_start'] = pd.to_datetime(visits['session_start'], format=\"%d.%m.%Y %H:%M\")\n",
    "visits['session_end'] = pd.to_datetime(visits['session_end'], format=\"%d.%m.%Y %H:%M\")"
   ]
  },
  {
   "cell_type": "markdown",
   "metadata": {},
   "source": [
    "region ,device,channel приведем к строковому типу"
   ]
  },
  {
   "cell_type": "code",
   "execution_count": 45,
   "metadata": {},
   "outputs": [],
   "source": [
    "visits['region'] = visits['region'].astype(str)\n",
    "visits['device'] = visits['device'].astype(str)\n",
    "visits['channel'] = visits['channel'].astype(str)"
   ]
  },
  {
   "cell_type": "markdown",
   "metadata": {},
   "source": [
    "Проверим данные visits"
   ]
  },
  {
   "cell_type": "code",
   "execution_count": 46,
   "metadata": {},
   "outputs": [
    {
     "data": {
      "text/plain": [
       "33606575057     46\n",
       "943775408561    36\n",
       "901180916748    35\n",
       "870784569391    34\n",
       "764086596354    33\n",
       "                ..\n",
       "350468480225     1\n",
       "748123264144     1\n",
       "909267360937     1\n",
       "816252757222     1\n",
       "425788122907     1\n",
       "Name: user_id, Length: 150008, dtype: int64"
      ]
     },
     "execution_count": 46,
     "metadata": {},
     "output_type": "execute_result"
    }
   ],
   "source": [
    "visits['user_id'].value_counts()"
   ]
  },
  {
   "cell_type": "markdown",
   "metadata": {},
   "source": [
    "Уникальных пользователей 150008, самый частый пользователь под id **33606575057** (46 отметок в логах)"
   ]
  },
  {
   "cell_type": "code",
   "execution_count": 47,
   "metadata": {},
   "outputs": [
    {
     "data": {
      "text/plain": [
       "array(['United States', 'UK', 'France', 'Germany'], dtype=object)"
      ]
     },
     "execution_count": 47,
     "metadata": {},
     "output_type": "execute_result"
    }
   ],
   "source": [
    "visits['region'].unique()"
   ]
  },
  {
   "cell_type": "markdown",
   "metadata": {},
   "source": [
    "Данные о регионах показывают наличие только 4-ех стран: Америка,Англия,Франция и Германия"
   ]
  },
  {
   "cell_type": "code",
   "execution_count": 48,
   "metadata": {},
   "outputs": [
    {
     "data": {
      "text/plain": [
       "iPhone     112603\n",
       "Android     72590\n",
       "PC          62686\n",
       "Mac         62022\n",
       "Name: device, dtype: int64"
      ]
     },
     "execution_count": 48,
     "metadata": {},
     "output_type": "execute_result"
    }
   ],
   "source": [
    "visits['device'].value_counts()"
   ]
  },
  {
   "cell_type": "markdown",
   "metadata": {},
   "source": [
    "Данные об устройствах показывают наличие 4-ех видов устройств: Iphone(самый частый),Android,PC,Mac(самый редкий)"
   ]
  },
  {
   "cell_type": "code",
   "execution_count": 49,
   "metadata": {},
   "outputs": [
    {
     "data": {
      "text/plain": [
       "309901"
      ]
     },
     "execution_count": 49,
     "metadata": {},
     "output_type": "execute_result"
    }
   ],
   "source": [
    "visits['session_start'].count()"
   ]
  },
  {
   "cell_type": "code",
   "execution_count": 50,
   "metadata": {},
   "outputs": [
    {
     "data": {
      "text/plain": [
       "2019-09-19 12:10:00    9\n",
       "2019-07-09 10:59:00    8\n",
       "2019-08-24 18:51:00    8\n",
       "2019-10-06 18:08:00    8\n",
       "2019-10-04 23:27:00    8\n",
       "                      ..\n",
       "2019-08-24 09:43:00    1\n",
       "2019-06-17 09:33:00    1\n",
       "2019-05-18 20:58:00    1\n",
       "2019-09-02 08:43:00    1\n",
       "2019-07-23 04:19:00    1\n",
       "Name: session_start, Length: 180519, dtype: int64"
      ]
     },
     "execution_count": 50,
     "metadata": {},
     "output_type": "execute_result"
    }
   ],
   "source": [
    "visits['session_start'].value_counts()"
   ]
  },
  {
   "cell_type": "code",
   "execution_count": 51,
   "metadata": {},
   "outputs": [
    {
     "data": {
      "text/plain": [
       "2019-10-27 16:09:00    10\n",
       "2019-10-04 12:55:00     9\n",
       "2019-10-08 18:07:00     9\n",
       "2019-07-05 19:29:00     8\n",
       "2019-09-24 15:42:00     8\n",
       "                       ..\n",
       "2019-07-26 04:39:00     1\n",
       "2019-06-26 16:04:00     1\n",
       "2019-08-04 03:39:00     1\n",
       "2019-08-22 01:39:00     1\n",
       "2019-08-17 15:40:00     1\n",
       "Name: session_end, Length: 180778, dtype: int64"
      ]
     },
     "execution_count": 51,
     "metadata": {},
     "output_type": "execute_result"
    }
   ],
   "source": [
    "visits['session_end'].value_counts()"
   ]
  },
  {
   "cell_type": "code",
   "execution_count": 52,
   "metadata": {},
   "outputs": [
    {
     "data": {
      "text/plain": [
       "309901"
      ]
     },
     "execution_count": 52,
     "metadata": {},
     "output_type": "execute_result"
    }
   ],
   "source": [
    "visits['session_end'].count()"
   ]
  },
  {
   "cell_type": "markdown",
   "metadata": {},
   "source": [
    "Всего записей 309901,а уникальных значений в session_start = 180519 и session_end = 180778\n",
    "\n",
    "259 человек еще не закончили сессию ?"
   ]
  },
  {
   "cell_type": "code",
   "execution_count": 53,
   "metadata": {},
   "outputs": [
    {
     "data": {
      "text/html": [
       "<div>\n",
       "<style scoped>\n",
       "    .dataframe tbody tr th:only-of-type {\n",
       "        vertical-align: middle;\n",
       "    }\n",
       "\n",
       "    .dataframe tbody tr th {\n",
       "        vertical-align: top;\n",
       "    }\n",
       "\n",
       "    .dataframe thead th {\n",
       "        text-align: right;\n",
       "    }\n",
       "</style>\n",
       "<table border=\"1\" class=\"dataframe\">\n",
       "  <thead>\n",
       "    <tr style=\"text-align: right;\">\n",
       "      <th></th>\n",
       "      <th>user_id</th>\n",
       "      <th>region</th>\n",
       "      <th>device</th>\n",
       "      <th>channel</th>\n",
       "      <th>session_start</th>\n",
       "      <th>session_end</th>\n",
       "    </tr>\n",
       "  </thead>\n",
       "  <tbody>\n",
       "  </tbody>\n",
       "</table>\n",
       "</div>"
      ],
      "text/plain": [
       "Empty DataFrame\n",
       "Columns: [user_id, region, device, channel, session_start, session_end]\n",
       "Index: []"
      ]
     },
     "execution_count": 53,
     "metadata": {},
     "output_type": "execute_result"
    }
   ],
   "source": [
    "visits[visits.duplicated()]"
   ]
  },
  {
   "cell_type": "markdown",
   "metadata": {},
   "source": [
    "Дубликатов нет."
   ]
  },
  {
   "cell_type": "markdown",
   "metadata": {},
   "source": [
    "**Перейдем к данным orders**"
   ]
  },
  {
   "cell_type": "code",
   "execution_count": 54,
   "metadata": {},
   "outputs": [
    {
     "data": {
      "text/html": [
       "<div>\n",
       "<style scoped>\n",
       "    .dataframe tbody tr th:only-of-type {\n",
       "        vertical-align: middle;\n",
       "    }\n",
       "\n",
       "    .dataframe tbody tr th {\n",
       "        vertical-align: top;\n",
       "    }\n",
       "\n",
       "    .dataframe thead th {\n",
       "        text-align: right;\n",
       "    }\n",
       "</style>\n",
       "<table border=\"1\" class=\"dataframe\">\n",
       "  <thead>\n",
       "    <tr style=\"text-align: right;\">\n",
       "      <th></th>\n",
       "      <th>User Id</th>\n",
       "      <th>Event Dt</th>\n",
       "      <th>Revenue</th>\n",
       "    </tr>\n",
       "  </thead>\n",
       "  <tbody>\n",
       "    <tr>\n",
       "      <th>0</th>\n",
       "      <td>188246423999</td>\n",
       "      <td>2019-05-01 23:09:52</td>\n",
       "      <td>4.99</td>\n",
       "    </tr>\n",
       "    <tr>\n",
       "      <th>1</th>\n",
       "      <td>174361394180</td>\n",
       "      <td>2019-05-01 12:24:04</td>\n",
       "      <td>4.99</td>\n",
       "    </tr>\n",
       "    <tr>\n",
       "      <th>2</th>\n",
       "      <td>529610067795</td>\n",
       "      <td>2019-05-01 11:34:04</td>\n",
       "      <td>4.99</td>\n",
       "    </tr>\n",
       "    <tr>\n",
       "      <th>3</th>\n",
       "      <td>319939546352</td>\n",
       "      <td>2019-05-01 15:34:40</td>\n",
       "      <td>4.99</td>\n",
       "    </tr>\n",
       "    <tr>\n",
       "      <th>4</th>\n",
       "      <td>366000285810</td>\n",
       "      <td>2019-05-01 13:59:51</td>\n",
       "      <td>4.99</td>\n",
       "    </tr>\n",
       "  </tbody>\n",
       "</table>\n",
       "</div>"
      ],
      "text/plain": [
       "        User Id             Event Dt  Revenue\n",
       "0  188246423999  2019-05-01 23:09:52     4.99\n",
       "1  174361394180  2019-05-01 12:24:04     4.99\n",
       "2  529610067795  2019-05-01 11:34:04     4.99\n",
       "3  319939546352  2019-05-01 15:34:40     4.99\n",
       "4  366000285810  2019-05-01 13:59:51     4.99"
      ]
     },
     "execution_count": 54,
     "metadata": {},
     "output_type": "execute_result"
    }
   ],
   "source": [
    "orders.head()\n"
   ]
  },
  {
   "cell_type": "code",
   "execution_count": 55,
   "metadata": {},
   "outputs": [
    {
     "name": "stdout",
     "output_type": "stream",
     "text": [
      "<class 'pandas.core.frame.DataFrame'>\n",
      "RangeIndex: 40212 entries, 0 to 40211\n",
      "Data columns (total 3 columns):\n",
      " #   Column    Non-Null Count  Dtype  \n",
      "---  ------    --------------  -----  \n",
      " 0   User Id   40212 non-null  int64  \n",
      " 1   Event Dt  40212 non-null  object \n",
      " 2   Revenue   40212 non-null  float64\n",
      "dtypes: float64(1), int64(1), object(1)\n",
      "memory usage: 942.6+ KB\n"
     ]
    }
   ],
   "source": [
    "orders.info()"
   ]
  },
  {
   "cell_type": "markdown",
   "metadata": {},
   "source": [
    "Переименуем User Id,Event Dt,Revenue"
   ]
  },
  {
   "cell_type": "code",
   "execution_count": 56,
   "metadata": {},
   "outputs": [],
   "source": [
    "orders.columns = ['user_id', 'event_dt', 'revenue']"
   ]
  },
  {
   "cell_type": "code",
   "execution_count": 57,
   "metadata": {},
   "outputs": [],
   "source": [
    "orders['event_dt'] = pd.to_datetime(orders['event_dt']) # Event Dt должен быть в формате даты."
   ]
  },
  {
   "cell_type": "markdown",
   "metadata": {},
   "source": [
    "Посмотрим на нулевые значения"
   ]
  },
  {
   "cell_type": "code",
   "execution_count": 58,
   "metadata": {},
   "outputs": [
    {
     "data": {
      "text/html": [
       "<style  type=\"text/css\" >\n",
       "#T_bd5dc_row0_col0,#T_bd5dc_row1_col0,#T_bd5dc_row2_col0{\n",
       "            background-color:  #3b4cc0;\n",
       "            color:  #f1f1f1;\n",
       "        }</style><table id=\"T_bd5dc_\" ><thead>    <tr>        <th class=\"blank level0\" ></th>        <th class=\"col_heading level0 col0\" >0</th>    </tr></thead><tbody>\n",
       "                <tr>\n",
       "                        <th id=\"T_bd5dc_level0_row0\" class=\"row_heading level0 row0\" >user_id</th>\n",
       "                        <td id=\"T_bd5dc_row0_col0\" class=\"data row0 col0\" >0.000000</td>\n",
       "            </tr>\n",
       "            <tr>\n",
       "                        <th id=\"T_bd5dc_level0_row1\" class=\"row_heading level0 row1\" >event_dt</th>\n",
       "                        <td id=\"T_bd5dc_row1_col0\" class=\"data row1 col0\" >0.000000</td>\n",
       "            </tr>\n",
       "            <tr>\n",
       "                        <th id=\"T_bd5dc_level0_row2\" class=\"row_heading level0 row2\" >revenue</th>\n",
       "                        <td id=\"T_bd5dc_row2_col0\" class=\"data row2 col0\" >0.000000</td>\n",
       "            </tr>\n",
       "    </tbody></table>"
      ],
      "text/plain": [
       "<pandas.io.formats.style.Styler at 0x7f83b942e7f0>"
      ]
     },
     "execution_count": 58,
     "metadata": {},
     "output_type": "execute_result"
    }
   ],
   "source": [
    "pd.DataFrame(round((orders.isna().mean()*100),2)).style.background_gradient('coolwarm')"
   ]
  },
  {
   "cell_type": "markdown",
   "metadata": {},
   "source": [
    "Нулевых значений нет."
   ]
  },
  {
   "cell_type": "code",
   "execution_count": 59,
   "metadata": {},
   "outputs": [
    {
     "data": {
      "text/plain": [
       "901180916748    22\n",
       "883098437811    20\n",
       "75337957494     19\n",
       "512471511263    19\n",
       "295795879965    19\n",
       "                ..\n",
       "237296010927     1\n",
       "319939546352     1\n",
       "742075710598     1\n",
       "202972423389     1\n",
       "775233404832     1\n",
       "Name: user_id, Length: 8881, dtype: int64"
      ]
     },
     "execution_count": 59,
     "metadata": {},
     "output_type": "execute_result"
    }
   ],
   "source": [
    "orders['user_id'].value_counts()"
   ]
  },
  {
   "cell_type": "markdown",
   "metadata": {},
   "source": [
    "Всего уникальных значений 8881 , а самых частый пользователь под id **901180916748**"
   ]
  },
  {
   "cell_type": "code",
   "execution_count": 60,
   "metadata": {},
   "outputs": [
    {
     "data": {
      "text/plain": [
       "2019-09-29 09:03:24    2\n",
       "2019-10-25 16:24:24    2\n",
       "2019-09-27 03:56:55    2\n",
       "2019-08-12 22:50:49    2\n",
       "2019-09-09 20:01:39    2\n",
       "                      ..\n",
       "2019-09-26 04:24:10    1\n",
       "2019-10-26 06:25:45    1\n",
       "2019-07-10 17:04:38    1\n",
       "2019-08-06 08:55:42    1\n",
       "2019-09-25 16:41:33    1\n",
       "Name: event_dt, Length: 40163, dtype: int64"
      ]
     },
     "execution_count": 60,
     "metadata": {},
     "output_type": "execute_result"
    }
   ],
   "source": [
    "orders['event_dt'].value_counts()"
   ]
  },
  {
   "cell_type": "code",
   "execution_count": 61,
   "metadata": {},
   "outputs": [
    {
     "data": {
      "text/plain": [
       "40212"
      ]
     },
     "execution_count": 61,
     "metadata": {},
     "output_type": "execute_result"
    }
   ],
   "source": [
    "orders['event_dt'].count()"
   ]
  },
  {
   "cell_type": "markdown",
   "metadata": {},
   "source": [
    "Всего строк 40212 , а уникальных значений 40163"
   ]
  },
  {
   "cell_type": "code",
   "execution_count": 62,
   "metadata": {},
   "outputs": [
    {
     "data": {
      "text/plain": [
       "count    40212.000000\n",
       "mean         5.370608\n",
       "std          3.454208\n",
       "min          4.990000\n",
       "25%          4.990000\n",
       "50%          4.990000\n",
       "75%          4.990000\n",
       "max         49.990000\n",
       "Name: revenue, dtype: float64"
      ]
     },
     "execution_count": 62,
     "metadata": {},
     "output_type": "execute_result"
    }
   ],
   "source": [
    "orders['revenue'].describe()"
   ]
  },
  {
   "cell_type": "markdown",
   "metadata": {},
   "source": [
    "Среднее равно 5.37 (к сожалению не указана валюта)\n",
    "\n",
    "\n",
    "1,2,3 и 4 квантили равны 4.99 "
   ]
  },
  {
   "cell_type": "code",
   "execution_count": 63,
   "metadata": {},
   "outputs": [
    {
     "data": {
      "text/html": [
       "<div>\n",
       "<style scoped>\n",
       "    .dataframe tbody tr th:only-of-type {\n",
       "        vertical-align: middle;\n",
       "    }\n",
       "\n",
       "    .dataframe tbody tr th {\n",
       "        vertical-align: top;\n",
       "    }\n",
       "\n",
       "    .dataframe thead th {\n",
       "        text-align: right;\n",
       "    }\n",
       "</style>\n",
       "<table border=\"1\" class=\"dataframe\">\n",
       "  <thead>\n",
       "    <tr style=\"text-align: right;\">\n",
       "      <th></th>\n",
       "      <th>user_id</th>\n",
       "      <th>event_dt</th>\n",
       "      <th>revenue</th>\n",
       "    </tr>\n",
       "  </thead>\n",
       "  <tbody>\n",
       "  </tbody>\n",
       "</table>\n",
       "</div>"
      ],
      "text/plain": [
       "Empty DataFrame\n",
       "Columns: [user_id, event_dt, revenue]\n",
       "Index: []"
      ]
     },
     "execution_count": 63,
     "metadata": {},
     "output_type": "execute_result"
    }
   ],
   "source": [
    "orders[orders.duplicated()]"
   ]
  },
  {
   "cell_type": "markdown",
   "metadata": {},
   "source": [
    "Дубликатов нет"
   ]
  },
  {
   "cell_type": "markdown",
   "metadata": {},
   "source": [
    "Перейдем к данным о рекламных тратах"
   ]
  },
  {
   "cell_type": "code",
   "execution_count": 64,
   "metadata": {},
   "outputs": [
    {
     "name": "stdout",
     "output_type": "stream",
     "text": [
      "<class 'pandas.core.frame.DataFrame'>\n",
      "RangeIndex: 1800 entries, 0 to 1799\n",
      "Data columns (total 3 columns):\n",
      " #   Column   Non-Null Count  Dtype  \n",
      "---  ------   --------------  -----  \n",
      " 0   dt       1800 non-null   object \n",
      " 1   Channel  1800 non-null   object \n",
      " 2   costs    1800 non-null   float64\n",
      "dtypes: float64(1), object(2)\n",
      "memory usage: 42.3+ KB\n"
     ]
    }
   ],
   "source": [
    "costs.info()"
   ]
  },
  {
   "cell_type": "code",
   "execution_count": 65,
   "metadata": {},
   "outputs": [
    {
     "data": {
      "text/html": [
       "<div>\n",
       "<style scoped>\n",
       "    .dataframe tbody tr th:only-of-type {\n",
       "        vertical-align: middle;\n",
       "    }\n",
       "\n",
       "    .dataframe tbody tr th {\n",
       "        vertical-align: top;\n",
       "    }\n",
       "\n",
       "    .dataframe thead th {\n",
       "        text-align: right;\n",
       "    }\n",
       "</style>\n",
       "<table border=\"1\" class=\"dataframe\">\n",
       "  <thead>\n",
       "    <tr style=\"text-align: right;\">\n",
       "      <th></th>\n",
       "      <th>dt</th>\n",
       "      <th>Channel</th>\n",
       "      <th>costs</th>\n",
       "    </tr>\n",
       "  </thead>\n",
       "  <tbody>\n",
       "    <tr>\n",
       "      <th>0</th>\n",
       "      <td>2019-05-01</td>\n",
       "      <td>FaceBoom</td>\n",
       "      <td>113.3</td>\n",
       "    </tr>\n",
       "    <tr>\n",
       "      <th>1</th>\n",
       "      <td>2019-05-02</td>\n",
       "      <td>FaceBoom</td>\n",
       "      <td>78.1</td>\n",
       "    </tr>\n",
       "    <tr>\n",
       "      <th>2</th>\n",
       "      <td>2019-05-03</td>\n",
       "      <td>FaceBoom</td>\n",
       "      <td>85.8</td>\n",
       "    </tr>\n",
       "    <tr>\n",
       "      <th>3</th>\n",
       "      <td>2019-05-04</td>\n",
       "      <td>FaceBoom</td>\n",
       "      <td>136.4</td>\n",
       "    </tr>\n",
       "    <tr>\n",
       "      <th>4</th>\n",
       "      <td>2019-05-05</td>\n",
       "      <td>FaceBoom</td>\n",
       "      <td>122.1</td>\n",
       "    </tr>\n",
       "  </tbody>\n",
       "</table>\n",
       "</div>"
      ],
      "text/plain": [
       "           dt   Channel  costs\n",
       "0  2019-05-01  FaceBoom  113.3\n",
       "1  2019-05-02  FaceBoom   78.1\n",
       "2  2019-05-03  FaceBoom   85.8\n",
       "3  2019-05-04  FaceBoom  136.4\n",
       "4  2019-05-05  FaceBoom  122.1"
      ]
     },
     "execution_count": 65,
     "metadata": {},
     "output_type": "execute_result"
    }
   ],
   "source": [
    "costs.head()"
   ]
  },
  {
   "cell_type": "markdown",
   "metadata": {},
   "source": [
    "Приведем к нижнему регистру."
   ]
  },
  {
   "cell_type": "code",
   "execution_count": 66,
   "metadata": {},
   "outputs": [],
   "source": [
    "costs.columns = ['dt', 'channel', 'costs']"
   ]
  },
  {
   "cell_type": "markdown",
   "metadata": {},
   "source": [
    "Приведем к формату даты"
   ]
  },
  {
   "cell_type": "code",
   "execution_count": 67,
   "metadata": {},
   "outputs": [],
   "source": [
    "costs['dt'] = pd.to_datetime(costs['dt'], format=\"%Y-%m-%d\")"
   ]
  },
  {
   "cell_type": "code",
   "execution_count": 68,
   "metadata": {},
   "outputs": [],
   "source": [
    "costs['channel'] = costs['channel'].astype('str')#просто для удобства переведу в str формат"
   ]
  },
  {
   "cell_type": "code",
   "execution_count": 69,
   "metadata": {},
   "outputs": [
    {
     "data": {
      "text/plain": [
       "2019-10-10    10\n",
       "2019-06-01    10\n",
       "2019-08-30    10\n",
       "2019-10-14    10\n",
       "2019-06-12    10\n",
       "              ..\n",
       "2019-05-24    10\n",
       "2019-07-08    10\n",
       "2019-08-22    10\n",
       "2019-10-06    10\n",
       "2019-08-26    10\n",
       "Name: dt, Length: 180, dtype: int64"
      ]
     },
     "execution_count": 69,
     "metadata": {},
     "output_type": "execute_result"
    }
   ],
   "source": [
    "costs['dt'].value_counts()"
   ]
  },
  {
   "cell_type": "code",
   "execution_count": 70,
   "metadata": {},
   "outputs": [
    {
     "data": {
      "text/plain": [
       "1800"
      ]
     },
     "execution_count": 70,
     "metadata": {},
     "output_type": "execute_result"
    }
   ],
   "source": [
    "costs['dt'].count()"
   ]
  },
  {
   "cell_type": "markdown",
   "metadata": {},
   "source": [
    "Всего 1800 строк с данными о затратах на маркетинг. Из них 180 уникальных строк с датами"
   ]
  },
  {
   "cell_type": "code",
   "execution_count": 71,
   "metadata": {},
   "outputs": [
    {
     "data": {
      "text/plain": [
       "array(['FaceBoom', 'MediaTornado', 'RocketSuperAds', 'TipTop', 'YRabbit',\n",
       "       'AdNonSense', 'LeapBob', 'OppleCreativeMedia', 'WahooNetBanner',\n",
       "       'lambdaMediaAds'], dtype=object)"
      ]
     },
     "execution_count": 71,
     "metadata": {},
     "output_type": "execute_result"
    }
   ],
   "source": [
    "costs['channel'].unique()"
   ]
  },
  {
   "cell_type": "code",
   "execution_count": 72,
   "metadata": {},
   "outputs": [
    {
     "data": {
      "text/plain": [
       "count    1800.000000\n",
       "mean       58.609611\n",
       "std       107.740223\n",
       "min         0.800000\n",
       "25%         6.495000\n",
       "50%        12.285000\n",
       "75%        33.600000\n",
       "max       630.000000\n",
       "Name: costs, dtype: float64"
      ]
     },
     "execution_count": 72,
     "metadata": {},
     "output_type": "execute_result"
    }
   ],
   "source": [
    "costs['costs'].describe()"
   ]
  },
  {
   "cell_type": "markdown",
   "metadata": {},
   "source": [
    "Средние и медианные значения разнятся,возможно на некоторые каналы уходит больше денег\n",
    "\n",
    "Максимальное значение равно 630 , а минимальное 0.8"
   ]
  },
  {
   "cell_type": "code",
   "execution_count": 73,
   "metadata": {},
   "outputs": [
    {
     "data": {
      "text/html": [
       "<div>\n",
       "<style scoped>\n",
       "    .dataframe tbody tr th:only-of-type {\n",
       "        vertical-align: middle;\n",
       "    }\n",
       "\n",
       "    .dataframe tbody tr th {\n",
       "        vertical-align: top;\n",
       "    }\n",
       "\n",
       "    .dataframe thead th {\n",
       "        text-align: right;\n",
       "    }\n",
       "</style>\n",
       "<table border=\"1\" class=\"dataframe\">\n",
       "  <thead>\n",
       "    <tr style=\"text-align: right;\">\n",
       "      <th></th>\n",
       "      <th>dt</th>\n",
       "      <th>channel</th>\n",
       "      <th>costs</th>\n",
       "    </tr>\n",
       "  </thead>\n",
       "  <tbody>\n",
       "  </tbody>\n",
       "</table>\n",
       "</div>"
      ],
      "text/plain": [
       "Empty DataFrame\n",
       "Columns: [dt, channel, costs]\n",
       "Index: []"
      ]
     },
     "execution_count": 73,
     "metadata": {},
     "output_type": "execute_result"
    }
   ],
   "source": [
    "costs[costs.duplicated()]"
   ]
  },
  {
   "cell_type": "markdown",
   "metadata": {},
   "source": [
    "Дубликатов нет."
   ]
  },
  {
   "cell_type": "markdown",
   "metadata": {},
   "source": [
    "**Вывод**\n",
    "\n",
    "Загрузили и просмотрели данные.\n",
    "\n",
    "В ходе предобработки данных :\n",
    "\n",
    "Проверили данные на наличие дубликатов, в итоге явных дубликатов не обнаружено.\n",
    "\n",
    "Привели к нижнему регистру название столбцов\n",
    "\n",
    "Изменили тип данных , там где требовалось.\n",
    "\n",
    "Привели данных к формату даты\n",
    "\n",
    "Изучили данные методами describe/value_counts/unique/count\n",
    "\n",
    "Так же вывели основную информацию методами head/info\n",
    "\n"
   ]
  },
  {
   "cell_type": "code",
   "execution_count": null,
   "metadata": {},
   "outputs": [],
   "source": []
  },
  {
   "cell_type": "markdown",
   "metadata": {
    "id": "AS1eCqCpWVwk"
   },
   "source": [
    "### Задайте функции для расчёта и анализа LTV, ROI, удержания и конверсии.\n",
    "\n",
    "Разрешается использовать функции, с которыми вы познакомились в теоретических уроках.\n",
    "\n",
    "Это функции для вычисления значений метрик:\n",
    "\n",
    "- `get_profiles()` — для создания профилей пользователей,\n",
    "- `get_retention()` — для подсчёта Retention Rate,\n",
    "- `get_conversion()` — для подсчёта конверсии,\n",
    "- `get_ltv()` — для подсчёта LTV.\n",
    "\n",
    "А также функции для построения графиков:\n",
    "\n",
    "- `filter_data()` — для сглаживания данных,\n",
    "- `plot_retention()` — для построения графика Retention Rate,\n",
    "- `plot_conversion()` — для построения графика конверсии,\n",
    "- `plot_ltv_roi` — для визуализации LTV и ROI."
   ]
  },
  {
   "cell_type": "markdown",
   "metadata": {},
   "source": [
    "Соберём функции для создания профилей, расчёта удержания, конверсии, LTV и ROI : get_profiles(), get_retention(), get_conversion() и get_ltv()"
   ]
  },
  {
   "cell_type": "markdown",
   "metadata": {
    "id": "igOfMgBpWVwl"
   },
   "source": [
    "**Функция для создания пользовательских профилей**"
   ]
  },
  {
   "cell_type": "markdown",
   "metadata": {},
   "source": [
    "Заранее задам момент анализа и горизонт анализа "
   ]
  },
  {
   "cell_type": "code",
   "execution_count": 82,
   "metadata": {},
   "outputs": [],
   "source": [
    "observation_date = datetime(2019, 11, 1).date()  \n",
    "horizon_days = 14"
   ]
  },
  {
   "cell_type": "code",
   "execution_count": 83,
   "metadata": {},
   "outputs": [],
   "source": [
    "# функция для создания пользовательских профилей\n",
    "\n",
    "def get_profiles(sessions, orders, ad_costs):\n",
    "\n",
    "    # находим параметры первых посещений\n",
    "    profiles = (\n",
    "        sessions.sort_values(by=['user_id', 'session_start'])\n",
    "        .groupby('user_id')\n",
    "        .agg(\n",
    "            {\n",
    "                'session_start': 'first',\n",
    "                'channel': 'first',\n",
    "                'device': 'first',\n",
    "                'region': 'first',\n",
    "            }\n",
    "        )\n",
    "        .rename(columns={'session_start': 'first_ts'})\n",
    "        .reset_index()\n",
    "    )\n",
    "\n",
    "    # для когортного анализа определяем дату первого посещения\n",
    "    # и первый день месяца, в который это посещение произошло\n",
    "    profiles['dt'] = profiles['first_ts'].dt.date\n",
    "    profiles['dt'] = pd.to_datetime(profiles['dt'], format=\"%Y-%m-%d\")\n",
    "    profiles['month'] = profiles['first_ts'].astype('datetime64[M]')\n",
    "\n",
    "    # добавляем признак платящих пользователей\n",
    "    profiles['payer'] = profiles['user_id'].isin(orders['user_id'].unique())\n",
    "\n",
    "\n",
    "    # считаем количество уникальных пользователей\n",
    "    # с одинаковыми источником и датой привлечения\n",
    "    new_users = (\n",
    "        profiles.groupby(['dt', 'channel'])\n",
    "        .agg({'user_id': 'nunique'})\n",
    "        .rename(columns={'user_id': 'unique_users'})\n",
    "        .reset_index()\n",
    "    )\n",
    "\n",
    "    # объединяем траты на рекламу и число привлечённых пользователей\n",
    "    ad_costs = ad_costs.merge(new_users, on=['dt', 'channel'], how='left')\n",
    "\n",
    "    # делим рекламные расходы на число привлечённых пользователей\n",
    "    ad_costs['acquisition_cost'] = ad_costs['costs'] / ad_costs['unique_users']\n",
    "\n",
    "    # добавляем стоимость привлечения в профили\n",
    "    profiles = profiles.merge(\n",
    "        ad_costs[['dt', 'channel', 'acquisition_cost']],\n",
    "        on=['dt', 'channel'],\n",
    "        how='left',\n",
    "    )\n",
    "\n",
    "    # стоимость привлечения органических пользователей равна нулю\n",
    "    profiles['acquisition_cost'] = profiles['acquisition_cost'].fillna(0)\n",
    "\n",
    "    return profiles"
   ]
  },
  {
   "cell_type": "markdown",
   "metadata": {},
   "source": [
    "**Функция для расчета удержания**"
   ]
  },
  {
   "cell_type": "code",
   "execution_count": 84,
   "metadata": {},
   "outputs": [],
   "source": [
    "# функция для расчёта удержания\n",
    "\n",
    "def get_retention(\n",
    "    profiles,\n",
    "    sessions,\n",
    "    observation_date,\n",
    "    horizon_days,\n",
    "    dimensions=[],\n",
    "    ignore_horizon=False,\n",
    "):\n",
    "\n",
    "    # добавляем столбец payer в передаваемый dimensions список\n",
    "    dimensions = ['payer'] + dimensions\n",
    "\n",
    "    # исключаем пользователей, не «доживших» до горизонта анализа\n",
    "    last_suitable_acquisition_date = observation_date\n",
    "    if not ignore_horizon:\n",
    "        last_suitable_acquisition_date = observation_date - timedelta(\n",
    "            days=horizon_days - 1\n",
    "        )\n",
    "    result_raw = profiles.query('dt <= @last_suitable_acquisition_date')\n",
    "\n",
    "    # собираем «сырые» данные для расчёта удержания\n",
    "    result_raw = result_raw.merge(\n",
    "        sessions[['user_id', 'session_start']], on='user_id', how='left'\n",
    "    )\n",
    "    result_raw['lifetime'] = (\n",
    "        result_raw['session_start'] - result_raw['first_ts']\n",
    "    ).dt.days"
   ]
  },
  {
   "cell_type": "markdown",
   "metadata": {},
   "source": [
    "**Функция для расчёта конверсии**"
   ]
  },
  {
   "cell_type": "code",
   "execution_count": 85,
   "metadata": {},
   "outputs": [],
   "source": [
    "def get_conversion(\n",
    "    profiles,\n",
    "    purchases,\n",
    "    observation_date,\n",
    "    horizon_days,\n",
    "    dimensions=[],\n",
    "    ignore_horizon=False,\n",
    "):\n",
    "\n",
    "    # исключаем пользователей, не «доживших» до горизонта анализа\n",
    "    last_suitable_acquisition_date = observation_date\n",
    "    if not ignore_horizon:\n",
    "        last_suitable_acquisition_date = observation_date - timedelta(\n",
    "            days=horizon_days - 1\n",
    "        )\n",
    "    result_raw = profiles.query('dt <= @last_suitable_acquisition_date')\n",
    "\n",
    "    # определяем дату и время первой покупки для каждого пользователя\n",
    "    first_purchases = (\n",
    "        purchases.sort_values(by=['user_id', 'event_dt'])\n",
    "        .groupby('user_id')\n",
    "        .agg({'event_dt': 'first'})\n",
    "        .reset_index()\n",
    "    )\n",
    "\n",
    "    # добавляем данные о покупках в профили\n",
    "    result_raw = result_raw.merge(\n",
    "        first_purchases[['user_id', 'event_dt']], on='user_id', how='left'\n",
    "    )\n",
    "\n",
    "    # рассчитываем лайфтайм для каждой покупки\n",
    "    result_raw['lifetime'] = (\n",
    "        result_raw['event_dt'] - result_raw['first_ts']\n",
    "    ).dt.days\n",
    "\n",
    "    # группируем по cohort, если в dimensions ничего нет\n",
    "    if len(dimensions) == 0:\n",
    "        result_raw['cohort'] = 'All users' \n",
    "        dimensions = dimensions + ['cohort']\n",
    "\n",
    "    # функция для группировки таблицы по желаемым признакам\n",
    "    def group_by_dimensions(df, dims, horizon_days):\n",
    "        result = df.pivot_table(\n",
    "            index=dims, columns='lifetime', values='user_id', aggfunc='nunique'\n",
    "        )\n",
    "        result = result.fillna(0).cumsum(axis = 1)\n",
    "        cohort_sizes = (\n",
    "            df.groupby(dims)\n",
    "            .agg({'user_id': 'nunique'})\n",
    "            .rename(columns={'user_id': 'cohort_size'})\n",
    "        )\n",
    "        result = cohort_sizes.merge(result, on=dims, how='left').fillna(0)\n",
    "        # делим каждую «ячейку» в строке на размер когорты\n",
    "        # и получаем conversion rate\n",
    "        result = result.div(result['cohort_size'], axis=0)\n",
    "        result = result[['cohort_size'] + list(range(horizon_days))]\n",
    "        result['cohort_size'] = cohort_sizes\n",
    "        return result\n",
    "\n",
    "    # получаем таблицу конверсии\n",
    "    result_grouped = group_by_dimensions(result_raw, dimensions, horizon_days)\n",
    "\n",
    "    # для таблицы динамики конверсии убираем 'cohort' из dimensions\n",
    "    if 'cohort' in dimensions: \n",
    "        dimensions = []\n",
    "\n",
    "    # получаем таблицу динамики конверсии\n",
    "    result_in_time = group_by_dimensions(\n",
    "        result_raw, dimensions + ['dt'], horizon_days\n",
    "    )\n",
    "\n",
    "    # возвращаем обе таблицы и сырые данные\n",
    "    return result_raw, result_grouped, result_in_time "
   ]
  },
  {
   "cell_type": "markdown",
   "metadata": {},
   "source": [
    "**Функция для расчёта LTV и ROI**"
   ]
  },
  {
   "cell_type": "code",
   "execution_count": 86,
   "metadata": {},
   "outputs": [],
   "source": [
    "def get_ltv(\n",
    "    profiles,\n",
    "    purchases,\n",
    "    observation_date,\n",
    "    horizon_days,\n",
    "    dimensions=[],\n",
    "    ignore_horizon=False,\n",
    "):\n",
    "\n",
    "    # исключаем пользователей, не «доживших» до горизонта анализа\n",
    "    last_suitable_acquisition_date = observation_date\n",
    "    if not ignore_horizon:\n",
    "        last_suitable_acquisition_date = observation_date - timedelta(\n",
    "            days=horizon_days - 1\n",
    "        )\n",
    "    result_raw = profiles.query('dt <= @last_suitable_acquisition_date')\n",
    "    # добавляем данные о покупках в профили\n",
    "    result_raw = result_raw.merge(\n",
    "        purchases[['user_id', 'event_dt', 'revenue']], on='user_id', how='left'\n",
    "    )\n",
    "    # рассчитываем лайфтайм пользователя для каждой покупки\n",
    "    result_raw['lifetime'] = (\n",
    "        result_raw['event_dt'] - result_raw['first_ts']\n",
    "    ).dt.days\n",
    "    # группируем по cohort, если в dimensions ничего нет\n",
    "    if len(dimensions) == 0:\n",
    "        result_raw['cohort'] = 'All users'\n",
    "        dimensions = dimensions + ['cohort']\n",
    "\n",
    "    # функция группировки по желаемым признакам\n",
    "    def group_by_dimensions(df, dims, horizon_days):\n",
    "        # строим «треугольную» таблицу выручки\n",
    "        result = df.pivot_table(\n",
    "            index=dims, columns='lifetime', values='revenue', aggfunc='sum'\n",
    "        )\n",
    "        # находим сумму выручки с накоплением\n",
    "        result = result.fillna(0).cumsum(axis=1)\n",
    "        # вычисляем размеры когорт\n",
    "        cohort_sizes = (\n",
    "            df.groupby(dims)\n",
    "            .agg({'user_id': 'nunique'})\n",
    "            .rename(columns={'user_id': 'cohort_size'})\n",
    "        )\n",
    "        # объединяем размеры когорт и таблицу выручки\n",
    "        result = cohort_sizes.merge(result, on=dims, how='left').fillna(0)\n",
    "        # считаем LTV: делим каждую «ячейку» в строке на размер когорты\n",
    "        result = result.div(result['cohort_size'], axis=0)\n",
    "        # исключаем все лайфтаймы, превышающие горизонт анализа\n",
    "        result = result[['cohort_size'] + list(range(horizon_days))]\n",
    "        # восстанавливаем размеры когорт\n",
    "        result['cohort_size'] = cohort_sizes\n",
    "\n",
    "        # что мы здесь делаем???\n",
    "        cac = df[['user_id', 'acquisition_cost'] + dims].drop_duplicates()\n",
    "\n",
    "        # считаем средний CAC по параметрам из dimensions\n",
    "        cac = (\n",
    "            cac.groupby(dims)\n",
    "            .agg({'acquisition_cost': 'mean'})\n",
    "            .rename(columns={'acquisition_cost': 'cac'})\n",
    "        )\n",
    "\n",
    "        # считаем ROI: делим LTV на CAC\n",
    "        roi = result.div(cac['cac'], axis=0)\n",
    "\n",
    "        # удаляем строки с бесконечным ROI\n",
    "        roi = roi[~roi['cohort_size'].isin([np.inf])]\n",
    "\n",
    "        # восстанавливаем размеры когорт в таблице ROI\n",
    "        roi['cohort_size'] = cohort_sizes\n",
    "\n",
    "        # добавляем CAC в таблицу ROI\n",
    "        roi['cac'] = cac['cac']\n",
    "\n",
    "        # в финальной таблице оставляем размеры когорт, CAC\n",
    "        # и ROI в лайфтаймы, не превышающие горизонт анализа\n",
    "        roi = roi[['cohort_size', 'cac'] + list(range(horizon_days))]\n",
    "\n",
    "        # возвращаем таблицы LTV и ROI\n",
    "        return result, roi\n",
    "\n",
    "    # получаем таблицы LTV и ROI\n",
    "    result_grouped, roi_grouped = group_by_dimensions(\n",
    "        result_raw, dimensions, horizon_days\n",
    "    )\n",
    "\n",
    "    # для таблиц динамики убираем 'cohort' из dimensions\n",
    "    if 'cohort' in dimensions:\n",
    "        dimensions = []\n",
    "\n",
    "    # получаем таблицы динамики LTV и ROI\n",
    "    result_in_time, roi_in_time = group_by_dimensions(\n",
    "        result_raw, dimensions + ['dt'], horizon_days\n",
    "    )\n",
    "\n",
    "    return (\n",
    "        result_raw,  # сырые данные\n",
    "        result_grouped,  # таблица LTV\n",
    "        result_in_time,  # таблица динамики LTV\n",
    "        roi_grouped,  # таблица ROI\n",
    "        roi_in_time,  # таблица динамики ROI\n",
    "    ) "
   ]
  },
  {
   "cell_type": "markdown",
   "metadata": {},
   "source": [
    "**Функция для визуализации удержания**"
   ]
  },
  {
   "cell_type": "code",
   "execution_count": 87,
   "metadata": {},
   "outputs": [],
   "source": [
    "def plot_retention(retention, retention_history, horizon, window=7):\n",
    "\n",
    "    # задаём размер сетки для графиков\n",
    "    plt.figure(figsize=(15, 10))\n",
    "\n",
    "    # исключаем размеры когорт и удержание первого дня\n",
    "    retention = retention.drop(columns=['cohort_size', 0])\n",
    "    # в таблице динамики оставляем только нужный лайфтайм\n",
    "    retention_history = retention_history.drop(columns=['cohort_size'])[\n",
    "        [horizon - 1]\n",
    "    ]\n",
    "\n",
    "    # если в индексах таблицы удержания только payer,\n",
    "    # добавляем второй признак — cohort\n",
    "    if retention.index.nlevels == 1:\n",
    "        retention['cohort'] = 'All users'\n",
    "        retention = retention.reset_index().set_index(['cohort', 'payer'])\n",
    "\n",
    "    # в таблице графиков — два столбца и две строки, четыре ячейки\n",
    "    # в первой строим кривые удержания платящих пользователей\n",
    "    ax1 = plt.subplot(2, 2, 1)\n",
    "    retention.query('payer == True').droplevel('payer').T.plot(\n",
    "        grid=True, ax=ax1\n",
    "    )\n",
    "    plt.legend()\n",
    "    plt.xlabel('Лайфтайм')\n",
    "    plt.title('Удержание платящих пользователей')\n",
    "\n",
    "    # во второй ячейке строим кривые удержания неплатящих\n",
    "    # вертикальная ось — от графика из первой ячейки\n",
    "    ax2 = plt.subplot(2, 2, 2, sharey=ax1)\n",
    "    retention.query('payer == False').droplevel('payer').T.plot(\n",
    "        grid=True, ax=ax2\n",
    "    )\n",
    "    plt.legend()\n",
    "    plt.xlabel('Лайфтайм')\n",
    "    plt.title('Удержание неплатящих пользователей')\n",
    "\n",
    "    # в третьей ячейке — динамика удержания платящих\n",
    "    ax3 = plt.subplot(2, 2, 3)\n",
    "    # получаем названия столбцов для сводной таблицы\n",
    "    columns = [\n",
    "        name\n",
    "        for name in retention_history.index.names\n",
    "        if name not in ['dt', 'payer']\n",
    "    ]\n",
    "    # фильтруем данные и строим график\n",
    "    filtered_data = retention_history.query('payer == True').pivot_table(\n",
    "        index='dt', columns=columns, values=horizon - 1, aggfunc='mean'\n",
    "    )\n",
    "    filter_data(filtered_data, window).plot(grid=True, ax=ax3)\n",
    "    plt.xlabel('Дата привлечения')\n",
    "    plt.title(\n",
    "        'Динамика удержания платящих пользователей на {}-й день'.format(\n",
    "            horizon\n",
    "        )\n",
    "    )\n",
    "\n",
    "    # в чётвертой ячейке — динамика удержания неплатящих\n",
    "    ax4 = plt.subplot(2, 2, 4, sharey=ax3)\n",
    "    # фильтруем данные и строим график\n",
    "    filtered_data = retention_history.query('payer == False').pivot_table(\n",
    "        index='dt', columns=columns, values=horizon - 1, aggfunc='mean'\n",
    "    )\n",
    "    filter_data(filtered_data, window).plot(grid=True, ax=ax4)\n",
    "    plt.xlabel('Дата привлечения')\n",
    "    plt.title(\n",
    "        'Динамика удержания неплатящих пользователей на {}-й день'.format(\n",
    "            horizon\n",
    "        )\n",
    "    )\n",
    "    \n",
    "    plt.tight_layout()\n",
    "    plt.show()"
   ]
  },
  {
   "cell_type": "markdown",
   "metadata": {},
   "source": [
    "**Функция для визуализации конверсии**"
   ]
  },
  {
   "cell_type": "code",
   "execution_count": 88,
   "metadata": {},
   "outputs": [],
   "source": [
    "def plot_conversion(conversion, conversion_history, horizon, window=7):\n",
    "\n",
    "    # задаём размер сетки для графиков\n",
    "    plt.figure(figsize=(15, 5))\n",
    "\n",
    "    # исключаем размеры когорт\n",
    "    conversion = conversion.drop(columns=['cohort_size'])\n",
    "    # в таблице динамики оставляем только нужный лайфтайм\n",
    "    conversion_history = conversion_history.drop(columns=['cohort_size'])[\n",
    "        [horizon - 1]\n",
    "    ]\n",
    "\n",
    "    # первый график — кривые конверсии\n",
    "    ax1 = plt.subplot(1, 2, 1)\n",
    "    conversion.T.plot(grid=True, ax=ax1)\n",
    "    plt.legend()\n",
    "    plt.xlabel('Лайфтайм')\n",
    "    plt.title('Конверсия пользователей')\n",
    "\n",
    "    # второй график — динамика конверсии\n",
    "    ax2 = plt.subplot(1, 2, 2, sharey=ax1)\n",
    "    columns = [\n",
    "        # столбцами сводной таблицы станут все столбцы индекса, кроме даты\n",
    "        name for name in conversion_history.index.names if name not in ['dt']\n",
    "    ]\n",
    "    filtered_data = conversion_history.pivot_table(\n",
    "        index='dt', columns=columns, values=horizon - 1, aggfunc='mean'\n",
    "    )\n",
    "    filter_data(filtered_data, window).plot(grid=True, ax=ax2)\n",
    "    plt.xlabel('Дата привлечения')\n",
    "    plt.title('Динамика конверсии пользователей на {}-й день'.format(horizon))\n",
    "\n",
    "    plt.tight_layout()\n",
    "    plt.show() "
   ]
  },
  {
   "cell_type": "markdown",
   "metadata": {},
   "source": [
    "**Функция для сглаживания фрейма**"
   ]
  },
  {
   "cell_type": "code",
   "execution_count": 89,
   "metadata": {},
   "outputs": [],
   "source": [
    "def filter_data(df, window):\n",
    "    # для каждого столбца применяем скользящее среднее\n",
    "    for column in df.columns.values:\n",
    "        df[column] = df[column].rolling(window).mean() \n",
    "    return df "
   ]
  },
  {
   "cell_type": "markdown",
   "metadata": {},
   "source": [
    "**Функция для визуализации LTV и ROI**"
   ]
  },
  {
   "cell_type": "code",
   "execution_count": 90,
   "metadata": {},
   "outputs": [],
   "source": [
    "def plot_ltv_roi(ltv, ltv_history, roi, roi_history, horizon, window=7):\n",
    "\n",
    "    # задаём сетку отрисовки графиков\n",
    "    plt.figure(figsize=(20, 10))\n",
    "\n",
    "    # из таблицы ltv исключаем размеры когорт\n",
    "    ltv = ltv.drop(columns=['cohort_size'])\n",
    "    # в таблице динамики ltv оставляем только нужный лайфтайм\n",
    "    ltv_history = ltv_history.drop(columns=['cohort_size'])[[horizon - 1]]\n",
    "\n",
    "    # стоимость привлечения запишем в отдельный фрейм\n",
    "    cac_history = roi_history[['cac']]\n",
    "\n",
    "    # из таблицы roi исключаем размеры когорт и cac\n",
    "    roi = roi.drop(columns=['cohort_size', 'cac'])\n",
    "    # в таблице динамики roi оставляем только нужный лайфтайм\n",
    "    roi_history = roi_history.drop(columns=['cohort_size', 'cac'])[\n",
    "        [horizon - 1]\n",
    "    ]\n",
    "\n",
    "    # первый график — кривые ltv\n",
    "    ax1 = plt.subplot(2, 3, 1)\n",
    "    ltv.T.plot(grid=True, ax=ax1)\n",
    "    plt.legend()\n",
    "    plt.xlabel('Лайфтайм')\n",
    "    plt.title('LTV')\n",
    "\n",
    "    # второй график — динамика ltv\n",
    "    ax2 = plt.subplot(2, 3, 2, sharey=ax1)\n",
    "    # столбцами сводной таблицы станут все столбцы индекса, кроме даты\n",
    "    columns = [name for name in ltv_history.index.names if name not in ['dt']]\n",
    "    filtered_data = ltv_history.pivot_table(\n",
    "        index='dt', columns=columns, values=horizon - 1, aggfunc='mean'\n",
    "    )\n",
    "    filter_data(filtered_data, window).plot(grid=True, ax=ax2)\n",
    "    plt.xlabel('Дата привлечения')\n",
    "    plt.title('Динамика LTV пользователей на {}-й день'.format(horizon))\n",
    "\n",
    "    # третий график — динамика cac\n",
    "    ax3 = plt.subplot(2, 3, 3, sharey=ax1)\n",
    "    # столбцами сводной таблицы станут все столбцы индекса, кроме даты\n",
    "    columns = [name for name in cac_history.index.names if name not in ['dt']]\n",
    "    filtered_data = cac_history.pivot_table(\n",
    "        index='dt', columns=columns, values='cac', aggfunc='mean'\n",
    "    )\n",
    "    filter_data(filtered_data, window).plot(grid=True, ax=ax3)\n",
    "    plt.xlabel('Дата привлечения')\n",
    "    plt.title('Динамика стоимости привлечения пользователей')\n",
    "\n",
    "    # четвёртый график — кривые roi\n",
    "    ax4 = plt.subplot(2, 3, 4)\n",
    "    roi.T.plot(grid=True, ax=ax4)\n",
    "    plt.axhline(y=1, color='red', linestyle='--', label='Уровень окупаемости')\n",
    "    plt.legend()\n",
    "    plt.xlabel('Лайфтайм')\n",
    "    plt.title('ROI')\n",
    "\n",
    "    # пятый график — динамика roi\n",
    "    ax5 = plt.subplot(2, 3, 5, sharey=ax4)\n",
    "    # столбцами сводной таблицы станут все столбцы индекса, кроме даты\n",
    "    columns = [name for name in roi_history.index.names if name not in ['dt']]\n",
    "    filtered_data = roi_history.pivot_table(\n",
    "        index='dt', columns=columns, values=horizon - 1, aggfunc='mean'\n",
    "    )\n",
    "    filter_data(filtered_data, window).plot(grid=True, ax=ax5)\n",
    "    plt.axhline(y=1, color='red', linestyle='--', label='Уровень окупаемости')\n",
    "    plt.xlabel('Дата привлечения')\n",
    "    plt.title('Динамика ROI пользователей на {}-й день'.format(horizon))\n",
    "\n",
    "    plt.tight_layout()\n",
    "    plt.show() "
   ]
  },
  {
   "cell_type": "markdown",
   "metadata": {},
   "source": [
    "**Вывод**\n",
    "\n",
    "Заданы основные функции для расчета и анализа удержания, конверсии, LTV и ROI и визуалиции данных"
   ]
  },
  {
   "cell_type": "code",
   "execution_count": null,
   "metadata": {},
   "outputs": [],
   "source": []
  },
  {
   "cell_type": "markdown",
   "metadata": {
    "id": "V-KBT-KMWVwl"
   },
   "source": [
    "### Исследовательский анализ данных\n",
    "\n",
    "- Составьте профили пользователей. Определите минимальную и максимальную даты привлечения пользователей.\n",
    "- Выясните, из каких стран пользователи приходят в приложение и на какую страну приходится больше всего платящих пользователей. Постройте таблицу, отражающую количество пользователей и долю платящих из каждой страны.\n",
    "- Узнайте, какими устройствами пользуются клиенты и какие устройства предпочитают платящие пользователи. Постройте таблицу, отражающую количество пользователей и долю платящих для каждого устройства.\n",
    "- Изучите рекламные источники привлечения и определите каналы, из которых пришло больше всего платящих пользователей. Постройте таблицу, отражающую количество пользователей и долю платящих для каждого канала привлечения.\n",
    "\n",
    "После каждого пункта сформулируйте выводы."
   ]
  },
  {
   "cell_type": "markdown",
   "metadata": {
    "id": "oOLsbJpNWVwm"
   },
   "source": [
    "Используем функцию get_profiles ,чтобы создать профили пользователей"
   ]
  },
  {
   "cell_type": "code",
   "execution_count": 91,
   "metadata": {},
   "outputs": [
    {
     "data": {
      "text/html": [
       "<div>\n",
       "<style scoped>\n",
       "    .dataframe tbody tr th:only-of-type {\n",
       "        vertical-align: middle;\n",
       "    }\n",
       "\n",
       "    .dataframe tbody tr th {\n",
       "        vertical-align: top;\n",
       "    }\n",
       "\n",
       "    .dataframe thead th {\n",
       "        text-align: right;\n",
       "    }\n",
       "</style>\n",
       "<table border=\"1\" class=\"dataframe\">\n",
       "  <thead>\n",
       "    <tr style=\"text-align: right;\">\n",
       "      <th></th>\n",
       "      <th>user_id</th>\n",
       "      <th>first_ts</th>\n",
       "      <th>channel</th>\n",
       "      <th>device</th>\n",
       "      <th>region</th>\n",
       "      <th>dt</th>\n",
       "      <th>month</th>\n",
       "      <th>payer</th>\n",
       "      <th>acquisition_cost</th>\n",
       "    </tr>\n",
       "  </thead>\n",
       "  <tbody>\n",
       "    <tr>\n",
       "      <th>0</th>\n",
       "      <td>599326</td>\n",
       "      <td>2019-05-07 20:58:00</td>\n",
       "      <td>FaceBoom</td>\n",
       "      <td>Mac</td>\n",
       "      <td>United States</td>\n",
       "      <td>2019-05-07</td>\n",
       "      <td>2019-05-01</td>\n",
       "      <td>True</td>\n",
       "      <td>1.088172</td>\n",
       "    </tr>\n",
       "    <tr>\n",
       "      <th>1</th>\n",
       "      <td>4919697</td>\n",
       "      <td>2019-07-09 12:46:00</td>\n",
       "      <td>FaceBoom</td>\n",
       "      <td>iPhone</td>\n",
       "      <td>United States</td>\n",
       "      <td>2019-07-09</td>\n",
       "      <td>2019-07-01</td>\n",
       "      <td>False</td>\n",
       "      <td>1.107237</td>\n",
       "    </tr>\n",
       "    <tr>\n",
       "      <th>2</th>\n",
       "      <td>6085896</td>\n",
       "      <td>2019-10-01 09:58:00</td>\n",
       "      <td>organic</td>\n",
       "      <td>iPhone</td>\n",
       "      <td>France</td>\n",
       "      <td>2019-10-01</td>\n",
       "      <td>2019-10-01</td>\n",
       "      <td>False</td>\n",
       "      <td>0.000000</td>\n",
       "    </tr>\n",
       "    <tr>\n",
       "      <th>3</th>\n",
       "      <td>22593348</td>\n",
       "      <td>2019-08-22 21:35:00</td>\n",
       "      <td>AdNonSense</td>\n",
       "      <td>PC</td>\n",
       "      <td>Germany</td>\n",
       "      <td>2019-08-22</td>\n",
       "      <td>2019-08-01</td>\n",
       "      <td>False</td>\n",
       "      <td>0.988235</td>\n",
       "    </tr>\n",
       "    <tr>\n",
       "      <th>4</th>\n",
       "      <td>31989216</td>\n",
       "      <td>2019-10-02 00:07:00</td>\n",
       "      <td>YRabbit</td>\n",
       "      <td>iPhone</td>\n",
       "      <td>United States</td>\n",
       "      <td>2019-10-02</td>\n",
       "      <td>2019-10-01</td>\n",
       "      <td>False</td>\n",
       "      <td>0.230769</td>\n",
       "    </tr>\n",
       "  </tbody>\n",
       "</table>\n",
       "</div>"
      ],
      "text/plain": [
       "    user_id            first_ts     channel  device         region         dt  \\\n",
       "0    599326 2019-05-07 20:58:00    FaceBoom     Mac  United States 2019-05-07   \n",
       "1   4919697 2019-07-09 12:46:00    FaceBoom  iPhone  United States 2019-07-09   \n",
       "2   6085896 2019-10-01 09:58:00     organic  iPhone         France 2019-10-01   \n",
       "3  22593348 2019-08-22 21:35:00  AdNonSense      PC        Germany 2019-08-22   \n",
       "4  31989216 2019-10-02 00:07:00     YRabbit  iPhone  United States 2019-10-02   \n",
       "\n",
       "       month  payer  acquisition_cost  \n",
       "0 2019-05-01   True          1.088172  \n",
       "1 2019-07-01  False          1.107237  \n",
       "2 2019-10-01  False          0.000000  \n",
       "3 2019-08-01  False          0.988235  \n",
       "4 2019-10-01  False          0.230769  "
      ]
     },
     "metadata": {},
     "output_type": "display_data"
    }
   ],
   "source": [
    "profiles = get_profiles(visits, orders, costs)\n",
    "display(profiles.head(5)) "
   ]
  },
  {
   "cell_type": "markdown",
   "metadata": {},
   "source": [
    "Определим минимальную и максимальную даты привлечения пользователей."
   ]
  },
  {
   "cell_type": "code",
   "execution_count": 95,
   "metadata": {},
   "outputs": [
    {
     "data": {
      "text/plain": [
       "Timestamp('2019-05-01 00:00:00')"
      ]
     },
     "metadata": {},
     "output_type": "display_data"
    },
    {
     "data": {
      "text/plain": [
       "Timestamp('2019-10-27 00:00:00')"
      ]
     },
     "metadata": {},
     "output_type": "display_data"
    }
   ],
   "source": [
    "min_analysis_date = profiles['dt'].min()\n",
    "observation_date = profiles['dt'].max()  \n",
    "display(min_date,max_date)\n",
    "\n",
    "\n",
    "#подскажите пожалуйста каким методом воспользоваться,чтобы не было Timestamp в выводе"
   ]
  },
  {
   "cell_type": "markdown",
   "metadata": {},
   "source": [
    "Минимальная дата привлечения пользователей - 1 мая 2019 года. Максимальная дата привлечения пользователей - 27 октября 2019 года\n",
    "\n"
   ]
  },
  {
   "cell_type": "markdown",
   "metadata": {},
   "source": [
    "**Выясним, из каких стран пользователи приходят в приложение и на какую страну приходится больше всего платящих пользователей.**"
   ]
  },
  {
   "cell_type": "code",
   "execution_count": 96,
   "metadata": {},
   "outputs": [
    {
     "data": {
      "text/html": [
       "<style  type=\"text/css\" >\n",
       "</style><table id=\"T_cd40c_\" ><thead>    <tr>        <th class=\"blank level0\" ></th>        <th class=\"col_heading level0 col0\" >users_cnt</th>        <th class=\"col_heading level0 col1\" >share</th>    </tr>    <tr>        <th class=\"index_name level0\" >region</th>        <th class=\"blank\" ></th>        <th class=\"blank\" ></th>    </tr></thead><tbody>\n",
       "                <tr>\n",
       "                        <th id=\"T_cd40c_level0_row0\" class=\"row_heading level0 row0\" >United States</th>\n",
       "                        <td id=\"T_cd40c_row0_col0\" class=\"data row0 col0\" >100002</td>\n",
       "                        <td id=\"T_cd40c_row0_col1\" class=\"data row0 col1\" >66.66%</td>\n",
       "            </tr>\n",
       "            <tr>\n",
       "                        <th id=\"T_cd40c_level0_row1\" class=\"row_heading level0 row1\" >UK</th>\n",
       "                        <td id=\"T_cd40c_row1_col0\" class=\"data row1 col0\" >17575</td>\n",
       "                        <td id=\"T_cd40c_row1_col1\" class=\"data row1 col1\" >11.72%</td>\n",
       "            </tr>\n",
       "            <tr>\n",
       "                        <th id=\"T_cd40c_level0_row2\" class=\"row_heading level0 row2\" >France</th>\n",
       "                        <td id=\"T_cd40c_row2_col0\" class=\"data row2 col0\" >17450</td>\n",
       "                        <td id=\"T_cd40c_row2_col1\" class=\"data row2 col1\" >11.63%</td>\n",
       "            </tr>\n",
       "            <tr>\n",
       "                        <th id=\"T_cd40c_level0_row3\" class=\"row_heading level0 row3\" >Germany</th>\n",
       "                        <td id=\"T_cd40c_row3_col0\" class=\"data row3 col0\" >14981</td>\n",
       "                        <td id=\"T_cd40c_row3_col1\" class=\"data row3 col1\" >9.99%</td>\n",
       "            </tr>\n",
       "    </tbody></table>"
      ],
      "text/plain": [
       "<pandas.io.formats.style.Styler at 0x7f83b9c2fb20>"
      ]
     },
     "execution_count": 96,
     "metadata": {},
     "output_type": "execute_result"
    }
   ],
   "source": [
    "region_share = pd.DataFrame()\n",
    "region_share['users_cnt'] = profiles.groupby('region')['user_id'].count()\n",
    "region_share['share'] = ((region_share['users_cnt'] / profiles['region'].count()) * 100)\n",
    "region_share.sort_values(by='share', ascending=False).style.format({'share': '{:.2f}%'})"
   ]
  },
  {
   "cell_type": "markdown",
   "metadata": {},
   "source": [
    "Судя по резльтатам, бОльшая доля пользователей - это люди из США (66.66%). Далее идут примерно равные доли пользователей из Англии и Франции (~ 12%). Меньше всего пользователей из Германии (~ 10%)."
   ]
  },
  {
   "cell_type": "markdown",
   "metadata": {},
   "source": [
    "Теперь посмотрим на платящих пользователей и долю платящих из каждой страны."
   ]
  },
  {
   "cell_type": "code",
   "execution_count": 99,
   "metadata": {},
   "outputs": [
    {
     "data": {
      "text/html": [
       "<style  type=\"text/css\" >\n",
       "</style><table id=\"T_015b2_\" ><thead>    <tr>        <th class=\"blank level0\" ></th>        <th class=\"col_heading level0 col0\" >users_cnt</th>        <th class=\"col_heading level0 col1\" >share</th>    </tr>    <tr>        <th class=\"index_name level0\" >region</th>        <th class=\"blank\" ></th>        <th class=\"blank\" ></th>    </tr></thead><tbody>\n",
       "                <tr>\n",
       "                        <th id=\"T_015b2_level0_row0\" class=\"row_heading level0 row0\" >United States</th>\n",
       "                        <td id=\"T_015b2_row0_col0\" class=\"data row0 col0\" >6902</td>\n",
       "                        <td id=\"T_015b2_row0_col1\" class=\"data row0 col1\" >77.72%</td>\n",
       "            </tr>\n",
       "            <tr>\n",
       "                        <th id=\"T_015b2_level0_row1\" class=\"row_heading level0 row1\" >UK</th>\n",
       "                        <td id=\"T_015b2_row1_col0\" class=\"data row1 col0\" >700</td>\n",
       "                        <td id=\"T_015b2_row1_col1\" class=\"data row1 col1\" >7.88%</td>\n",
       "            </tr>\n",
       "            <tr>\n",
       "                        <th id=\"T_015b2_level0_row2\" class=\"row_heading level0 row2\" >France</th>\n",
       "                        <td id=\"T_015b2_row2_col0\" class=\"data row2 col0\" >663</td>\n",
       "                        <td id=\"T_015b2_row2_col1\" class=\"data row2 col1\" >7.47%</td>\n",
       "            </tr>\n",
       "            <tr>\n",
       "                        <th id=\"T_015b2_level0_row3\" class=\"row_heading level0 row3\" >Germany</th>\n",
       "                        <td id=\"T_015b2_row3_col0\" class=\"data row3 col0\" >616</td>\n",
       "                        <td id=\"T_015b2_row3_col1\" class=\"data row3 col1\" >6.94%</td>\n",
       "            </tr>\n",
       "    </tbody></table>"
      ],
      "text/plain": [
       "<pandas.io.formats.style.Styler at 0x7f83b92419a0>"
      ]
     },
     "execution_count": 99,
     "metadata": {},
     "output_type": "execute_result"
    }
   ],
   "source": [
    "region_payer_share = pd.DataFrame()\n",
    "region_payer_share['users_cnt'] = profiles.query('payer == True').groupby('region')['user_id'].count()\n",
    "region_payer_share['share'] = ((region_payer_share['users_cnt'] / profiles.query('payer == True')['region'].count()) * 100)\n",
    "region_payer_share.sort_values(by='share', ascending=False).style.format({'share': '{:.2f}%'})"
   ]
  },
  {
   "cell_type": "code",
   "execution_count": 100,
   "metadata": {},
   "outputs": [
    {
     "data": {
      "text/html": [
       "<div>\n",
       "<style scoped>\n",
       "    .dataframe tbody tr th:only-of-type {\n",
       "        vertical-align: middle;\n",
       "    }\n",
       "\n",
       "    .dataframe tbody tr th {\n",
       "        vertical-align: top;\n",
       "    }\n",
       "\n",
       "    .dataframe thead th {\n",
       "        text-align: right;\n",
       "    }\n",
       "</style>\n",
       "<table border=\"1\" class=\"dataframe\">\n",
       "  <thead>\n",
       "    <tr style=\"text-align: right;\">\n",
       "      <th></th>\n",
       "      <th>user_id</th>\n",
       "      <th>first_ts</th>\n",
       "      <th>channel</th>\n",
       "      <th>device</th>\n",
       "      <th>region</th>\n",
       "      <th>dt</th>\n",
       "      <th>month</th>\n",
       "      <th>payer</th>\n",
       "      <th>acquisition_cost</th>\n",
       "    </tr>\n",
       "  </thead>\n",
       "  <tbody>\n",
       "    <tr>\n",
       "      <th>0</th>\n",
       "      <td>599326</td>\n",
       "      <td>2019-05-07 20:58:00</td>\n",
       "      <td>FaceBoom</td>\n",
       "      <td>Mac</td>\n",
       "      <td>United States</td>\n",
       "      <td>2019-05-07</td>\n",
       "      <td>2019-05-01</td>\n",
       "      <td>True</td>\n",
       "      <td>1.088172</td>\n",
       "    </tr>\n",
       "    <tr>\n",
       "      <th>1</th>\n",
       "      <td>4919697</td>\n",
       "      <td>2019-07-09 12:46:00</td>\n",
       "      <td>FaceBoom</td>\n",
       "      <td>iPhone</td>\n",
       "      <td>United States</td>\n",
       "      <td>2019-07-09</td>\n",
       "      <td>2019-07-01</td>\n",
       "      <td>False</td>\n",
       "      <td>1.107237</td>\n",
       "    </tr>\n",
       "    <tr>\n",
       "      <th>2</th>\n",
       "      <td>6085896</td>\n",
       "      <td>2019-10-01 09:58:00</td>\n",
       "      <td>organic</td>\n",
       "      <td>iPhone</td>\n",
       "      <td>France</td>\n",
       "      <td>2019-10-01</td>\n",
       "      <td>2019-10-01</td>\n",
       "      <td>False</td>\n",
       "      <td>0.000000</td>\n",
       "    </tr>\n",
       "    <tr>\n",
       "      <th>3</th>\n",
       "      <td>22593348</td>\n",
       "      <td>2019-08-22 21:35:00</td>\n",
       "      <td>AdNonSense</td>\n",
       "      <td>PC</td>\n",
       "      <td>Germany</td>\n",
       "      <td>2019-08-22</td>\n",
       "      <td>2019-08-01</td>\n",
       "      <td>False</td>\n",
       "      <td>0.988235</td>\n",
       "    </tr>\n",
       "    <tr>\n",
       "      <th>4</th>\n",
       "      <td>31989216</td>\n",
       "      <td>2019-10-02 00:07:00</td>\n",
       "      <td>YRabbit</td>\n",
       "      <td>iPhone</td>\n",
       "      <td>United States</td>\n",
       "      <td>2019-10-02</td>\n",
       "      <td>2019-10-01</td>\n",
       "      <td>False</td>\n",
       "      <td>0.230769</td>\n",
       "    </tr>\n",
       "    <tr>\n",
       "      <th>...</th>\n",
       "      <td>...</td>\n",
       "      <td>...</td>\n",
       "      <td>...</td>\n",
       "      <td>...</td>\n",
       "      <td>...</td>\n",
       "      <td>...</td>\n",
       "      <td>...</td>\n",
       "      <td>...</td>\n",
       "      <td>...</td>\n",
       "    </tr>\n",
       "    <tr>\n",
       "      <th>150003</th>\n",
       "      <td>999956196527</td>\n",
       "      <td>2019-09-28 08:33:00</td>\n",
       "      <td>TipTop</td>\n",
       "      <td>iPhone</td>\n",
       "      <td>United States</td>\n",
       "      <td>2019-09-28</td>\n",
       "      <td>2019-09-01</td>\n",
       "      <td>False</td>\n",
       "      <td>3.500000</td>\n",
       "    </tr>\n",
       "    <tr>\n",
       "      <th>150004</th>\n",
       "      <td>999975439887</td>\n",
       "      <td>2019-10-21 00:35:00</td>\n",
       "      <td>organic</td>\n",
       "      <td>PC</td>\n",
       "      <td>UK</td>\n",
       "      <td>2019-10-21</td>\n",
       "      <td>2019-10-01</td>\n",
       "      <td>False</td>\n",
       "      <td>0.000000</td>\n",
       "    </tr>\n",
       "    <tr>\n",
       "      <th>150005</th>\n",
       "      <td>999976332130</td>\n",
       "      <td>2019-07-23 02:57:00</td>\n",
       "      <td>TipTop</td>\n",
       "      <td>iPhone</td>\n",
       "      <td>United States</td>\n",
       "      <td>2019-07-23</td>\n",
       "      <td>2019-07-01</td>\n",
       "      <td>False</td>\n",
       "      <td>2.600000</td>\n",
       "    </tr>\n",
       "    <tr>\n",
       "      <th>150006</th>\n",
       "      <td>999979924135</td>\n",
       "      <td>2019-09-28 21:28:00</td>\n",
       "      <td>MediaTornado</td>\n",
       "      <td>PC</td>\n",
       "      <td>United States</td>\n",
       "      <td>2019-09-28</td>\n",
       "      <td>2019-09-01</td>\n",
       "      <td>False</td>\n",
       "      <td>0.205714</td>\n",
       "    </tr>\n",
       "    <tr>\n",
       "      <th>150007</th>\n",
       "      <td>999999563947</td>\n",
       "      <td>2019-10-18 19:57:00</td>\n",
       "      <td>organic</td>\n",
       "      <td>iPhone</td>\n",
       "      <td>United States</td>\n",
       "      <td>2019-10-18</td>\n",
       "      <td>2019-10-01</td>\n",
       "      <td>False</td>\n",
       "      <td>0.000000</td>\n",
       "    </tr>\n",
       "  </tbody>\n",
       "</table>\n",
       "<p>150008 rows × 9 columns</p>\n",
       "</div>"
      ],
      "text/plain": [
       "             user_id            first_ts       channel  device         region  \\\n",
       "0             599326 2019-05-07 20:58:00      FaceBoom     Mac  United States   \n",
       "1            4919697 2019-07-09 12:46:00      FaceBoom  iPhone  United States   \n",
       "2            6085896 2019-10-01 09:58:00       organic  iPhone         France   \n",
       "3           22593348 2019-08-22 21:35:00    AdNonSense      PC        Germany   \n",
       "4           31989216 2019-10-02 00:07:00       YRabbit  iPhone  United States   \n",
       "...              ...                 ...           ...     ...            ...   \n",
       "150003  999956196527 2019-09-28 08:33:00        TipTop  iPhone  United States   \n",
       "150004  999975439887 2019-10-21 00:35:00       organic      PC             UK   \n",
       "150005  999976332130 2019-07-23 02:57:00        TipTop  iPhone  United States   \n",
       "150006  999979924135 2019-09-28 21:28:00  MediaTornado      PC  United States   \n",
       "150007  999999563947 2019-10-18 19:57:00       organic  iPhone  United States   \n",
       "\n",
       "               dt      month  payer  acquisition_cost  \n",
       "0      2019-05-07 2019-05-01   True          1.088172  \n",
       "1      2019-07-09 2019-07-01  False          1.107237  \n",
       "2      2019-10-01 2019-10-01  False          0.000000  \n",
       "3      2019-08-22 2019-08-01  False          0.988235  \n",
       "4      2019-10-02 2019-10-01  False          0.230769  \n",
       "...           ...        ...    ...               ...  \n",
       "150003 2019-09-28 2019-09-01  False          3.500000  \n",
       "150004 2019-10-21 2019-10-01  False          0.000000  \n",
       "150005 2019-07-23 2019-07-01  False          2.600000  \n",
       "150006 2019-09-28 2019-09-01  False          0.205714  \n",
       "150007 2019-10-18 2019-10-01  False          0.000000  \n",
       "\n",
       "[150008 rows x 9 columns]"
      ]
     },
     "execution_count": 100,
     "metadata": {},
     "output_type": "execute_result"
    }
   ],
   "source": [
    "profiles"
   ]
  },
  {
   "cell_type": "code",
   "execution_count": null,
   "metadata": {},
   "outputs": [],
   "source": []
  },
  {
   "cell_type": "code",
   "execution_count": null,
   "metadata": {},
   "outputs": [],
   "source": []
  },
  {
   "cell_type": "code",
   "execution_count": null,
   "metadata": {},
   "outputs": [],
   "source": []
  },
  {
   "cell_type": "code",
   "execution_count": null,
   "metadata": {},
   "outputs": [],
   "source": []
  },
  {
   "cell_type": "code",
   "execution_count": null,
   "metadata": {},
   "outputs": [],
   "source": []
  },
  {
   "cell_type": "code",
   "execution_count": null,
   "metadata": {},
   "outputs": [],
   "source": []
  },
  {
   "cell_type": "code",
   "execution_count": null,
   "metadata": {},
   "outputs": [],
   "source": []
  },
  {
   "cell_type": "code",
   "execution_count": null,
   "metadata": {},
   "outputs": [],
   "source": []
  },
  {
   "cell_type": "code",
   "execution_count": null,
   "metadata": {},
   "outputs": [],
   "source": []
  },
  {
   "cell_type": "code",
   "execution_count": null,
   "metadata": {},
   "outputs": [],
   "source": []
  },
  {
   "cell_type": "markdown",
   "metadata": {
    "id": "80LRB5-eWVwm"
   },
   "source": [
    "### Маркетинг\n",
    "\n",
    "- Посчитайте общую сумму расходов на маркетинг.\n",
    "- Выясните, как траты распределены по рекламным источникам, то есть сколько денег потратили на каждый источник.\n",
    "- Постройте визуализацию динамики изменения расходов во времени (по неделям и месяцам) по каждому источнику. Постарайтесь отразить это на одном графике.\n",
    "- Узнайте, сколько в среднем стоило привлечение одного пользователя (CAC) из каждого источника. Используйте профили пользователей.\n",
    "\n",
    "Напишите промежуточные выводы."
   ]
  },
  {
   "cell_type": "code",
   "execution_count": null,
   "metadata": {
    "id": "DQE9emXqWVwm"
   },
   "outputs": [],
   "source": []
  },
  {
   "cell_type": "markdown",
   "metadata": {
    "id": "poDjrQVHWVwn"
   },
   "source": [
    "### Оцените окупаемость рекламы\n",
    "\n",
    "Используя графики LTV, ROI и CAC, проанализируйте окупаемость рекламы. Считайте, что на календаре 1 ноября 2019 года, а в бизнес-плане заложено, что пользователи должны окупаться не позднее чем через две недели после привлечения. Необходимость включения в анализ органических пользователей определите самостоятельно.\n",
    "\n",
    "- Проанализируйте окупаемость рекламы c помощью графиков LTV и ROI, а также графики динамики LTV, CAC и ROI.\n",
    "- Проверьте конверсию пользователей и динамику её изменения. То же самое сделайте с удержанием пользователей. Постройте и изучите графики конверсии и удержания.\n",
    "- Проанализируйте окупаемость рекламы с разбивкой по устройствам. Постройте графики LTV и ROI, а также графики динамики LTV, CAC и ROI.\n",
    "- Проанализируйте окупаемость рекламы с разбивкой по странам. Постройте графики LTV и ROI, а также графики динамики LTV, CAC и ROI.\n",
    "- Проанализируйте окупаемость рекламы с разбивкой по рекламным каналам. Постройте графики LTV и ROI, а также графики динамики LTV, CAC и ROI.\n",
    "- Ответьте на такие вопросы:\n",
    "    - Окупается ли реклама, направленная на привлечение пользователей в целом?\n",
    "    - Какие устройства, страны и рекламные каналы могут оказывать негативное влияние на окупаемость рекламы?\n",
    "    - Чем могут быть вызваны проблемы окупаемости?\n",
    "\n",
    "Напишите вывод, опишите возможные причины обнаруженных проблем и промежуточные рекомендации для рекламного отдела."
   ]
  },
  {
   "cell_type": "code",
   "execution_count": null,
   "metadata": {
    "id": "hbNu9EXeWVwo"
   },
   "outputs": [],
   "source": []
  },
  {
   "cell_type": "markdown",
   "metadata": {
    "id": "Jn9XBfZCWVwo"
   },
   "source": [
    "### Напишите выводы\n",
    "\n",
    "- Выделите причины неэффективности привлечения пользователей.\n",
    "- Сформулируйте рекомендации для отдела маркетинга."
   ]
  },
  {
   "cell_type": "markdown",
   "metadata": {
    "id": "Y8A6E79yWVwo"
   },
   "source": []
  }
 ],
 "metadata": {
  "ExecuteTimeLog": [
   {
    "duration": 47,
    "start_time": "2023-03-02T16:43:13.032Z"
   },
   {
    "duration": 1313,
    "start_time": "2023-03-02T16:43:17.267Z"
   },
   {
    "duration": 771,
    "start_time": "2023-03-02T16:43:18.582Z"
   },
   {
    "duration": 59,
    "start_time": "2023-03-02T16:43:19.355Z"
   },
   {
    "duration": 14,
    "start_time": "2023-03-02T16:43:35.253Z"
   },
   {
    "duration": 1348,
    "start_time": "2023-03-02T16:43:58.515Z"
   },
   {
    "duration": 19,
    "start_time": "2023-03-02T16:44:49.659Z"
   },
   {
    "duration": 3,
    "start_time": "2023-03-02T16:45:31.778Z"
   },
   {
    "duration": 1151,
    "start_time": "2023-03-02T16:45:32.903Z"
   },
   {
    "duration": 1133,
    "start_time": "2023-03-02T16:45:52.812Z"
   },
   {
    "duration": 4,
    "start_time": "2023-03-02T16:45:59.736Z"
   },
   {
    "duration": 1186,
    "start_time": "2023-03-02T16:46:00.592Z"
   },
   {
    "duration": 3,
    "start_time": "2023-03-02T16:46:42.208Z"
   },
   {
    "duration": 1188,
    "start_time": "2023-03-02T16:46:43.356Z"
   },
   {
    "duration": 4,
    "start_time": "2023-03-02T16:46:47.924Z"
   },
   {
    "duration": 579,
    "start_time": "2023-03-02T16:46:48.092Z"
   },
   {
    "duration": 59,
    "start_time": "2023-03-02T16:46:48.673Z"
   },
   {
    "duration": 11,
    "start_time": "2023-03-02T16:46:48.733Z"
   },
   {
    "duration": 8,
    "start_time": "2023-03-02T16:46:48.746Z"
   },
   {
    "duration": 1182,
    "start_time": "2023-03-02T16:46:49.197Z"
   },
   {
    "duration": 1491,
    "start_time": "2023-03-02T16:47:10.005Z"
   },
   {
    "duration": 23,
    "start_time": "2023-03-02T16:47:59.529Z"
   },
   {
    "duration": 1244,
    "start_time": "2023-03-03T09:43:30.717Z"
   },
   {
    "duration": 828,
    "start_time": "2023-03-03T09:43:31.963Z"
   },
   {
    "duration": 56,
    "start_time": "2023-03-03T09:43:32.792Z"
   },
   {
    "duration": 12,
    "start_time": "2023-03-03T09:43:32.855Z"
   },
   {
    "duration": 3,
    "start_time": "2023-03-03T09:43:32.869Z"
   },
   {
    "duration": 1746,
    "start_time": "2023-03-03T09:43:33.362Z"
   },
   {
    "duration": 36,
    "start_time": "2023-03-03T09:43:35.110Z"
   },
   {
    "duration": 21,
    "start_time": "2023-03-03T09:44:08.096Z"
   },
   {
    "duration": 17,
    "start_time": "2023-03-03T09:45:21.082Z"
   },
   {
    "duration": 28,
    "start_time": "2023-03-03T09:47:02.555Z"
   },
   {
    "duration": 22,
    "start_time": "2023-03-03T09:48:52.906Z"
   },
   {
    "duration": 1299,
    "start_time": "2023-03-03T09:49:31.957Z"
   },
   {
    "duration": 5,
    "start_time": "2023-03-03T09:49:34.730Z"
   },
   {
    "duration": 28,
    "start_time": "2023-03-03T09:49:35.038Z"
   },
   {
    "duration": 30,
    "start_time": "2023-03-03T09:49:35.318Z"
   },
   {
    "duration": 5,
    "start_time": "2023-03-03T09:49:35.558Z"
   },
   {
    "duration": 113,
    "start_time": "2023-03-03T09:51:56.149Z"
   },
   {
    "duration": 36,
    "start_time": "2023-03-03T09:53:07.467Z"
   },
   {
    "duration": 10,
    "start_time": "2023-03-03T09:53:07.609Z"
   },
   {
    "duration": 2,
    "start_time": "2023-03-03T09:53:07.771Z"
   },
   {
    "duration": 19,
    "start_time": "2023-03-03T09:53:08.071Z"
   },
   {
    "duration": 22,
    "start_time": "2023-03-03T09:53:08.401Z"
   },
   {
    "duration": 21,
    "start_time": "2023-03-03T09:53:08.702Z"
   },
   {
    "duration": 18,
    "start_time": "2023-03-03T09:53:08.999Z"
   },
   {
    "duration": 25,
    "start_time": "2023-03-03T09:53:09.301Z"
   },
   {
    "duration": 4,
    "start_time": "2023-03-03T09:53:09.659Z"
   },
   {
    "duration": 24,
    "start_time": "2023-03-03T09:53:09.866Z"
   },
   {
    "duration": 25,
    "start_time": "2023-03-03T09:53:10.109Z"
   },
   {
    "duration": 5,
    "start_time": "2023-03-03T09:53:10.370Z"
   },
   {
    "duration": 115,
    "start_time": "2023-03-03T09:53:10.781Z"
   },
   {
    "duration": 11,
    "start_time": "2023-03-03T09:53:25.487Z"
   },
   {
    "duration": 11,
    "start_time": "2023-03-03T09:53:30.769Z"
   },
   {
    "duration": 9,
    "start_time": "2023-03-03T09:53:32.519Z"
   },
   {
    "duration": 3,
    "start_time": "2023-03-03T09:54:03.508Z"
   },
   {
    "duration": 3,
    "start_time": "2023-03-03T09:54:38.487Z"
   },
   {
    "duration": 3,
    "start_time": "2023-03-03T09:54:42.999Z"
   },
   {
    "duration": 16,
    "start_time": "2023-03-03T09:54:57.670Z"
   },
   {
    "duration": 11,
    "start_time": "2023-03-03T09:55:25.669Z"
   },
   {
    "duration": 49,
    "start_time": "2023-03-03T09:55:41.527Z"
   },
   {
    "duration": 73,
    "start_time": "2023-03-03T09:55:55.359Z"
   },
   {
    "duration": 11,
    "start_time": "2023-03-03T09:55:58.658Z"
   },
   {
    "duration": 7,
    "start_time": "2023-03-03T10:00:39.013Z"
   },
   {
    "duration": 9,
    "start_time": "2023-03-03T10:02:53.610Z"
   },
   {
    "duration": 6,
    "start_time": "2023-03-03T10:02:54.351Z"
   },
   {
    "duration": 8,
    "start_time": "2023-03-03T10:04:28.569Z"
   },
   {
    "duration": 13,
    "start_time": "2023-03-03T10:13:35.800Z"
   },
   {
    "duration": 75,
    "start_time": "2023-03-04T17:56:16.510Z"
   },
   {
    "duration": 9,
    "start_time": "2023-03-04T17:56:16.705Z"
   },
   {
    "duration": 7,
    "start_time": "2023-03-04T17:56:17.462Z"
   },
   {
    "duration": 77,
    "start_time": "2023-03-04T17:56:17.647Z"
   },
   {
    "duration": 6,
    "start_time": "2023-03-04T17:56:18.138Z"
   },
   {
    "duration": 1426,
    "start_time": "2023-03-04T17:56:42.321Z"
   },
   {
    "duration": 2043,
    "start_time": "2023-03-04T17:56:43.750Z"
   },
   {
    "duration": 82,
    "start_time": "2023-03-04T17:56:45.795Z"
   },
   {
    "duration": 12,
    "start_time": "2023-03-04T17:56:45.878Z"
   },
   {
    "duration": 4,
    "start_time": "2023-03-04T17:56:45.892Z"
   },
   {
    "duration": 1796,
    "start_time": "2023-03-04T17:56:45.897Z"
   },
   {
    "duration": 28,
    "start_time": "2023-03-04T17:56:47.696Z"
   },
   {
    "duration": 42,
    "start_time": "2023-03-04T17:56:47.726Z"
   },
   {
    "duration": 22,
    "start_time": "2023-03-04T17:56:47.770Z"
   },
   {
    "duration": 34,
    "start_time": "2023-03-04T17:56:47.793Z"
   },
   {
    "duration": 25,
    "start_time": "2023-03-04T17:56:47.829Z"
   },
   {
    "duration": 38,
    "start_time": "2023-03-04T17:56:47.856Z"
   },
   {
    "duration": 26,
    "start_time": "2023-03-04T17:56:47.897Z"
   },
   {
    "duration": 5,
    "start_time": "2023-03-04T17:56:47.926Z"
   },
   {
    "duration": 154,
    "start_time": "2023-03-04T17:56:47.949Z"
   },
   {
    "duration": 8,
    "start_time": "2023-03-04T17:56:48.105Z"
   },
   {
    "duration": 18,
    "start_time": "2023-03-04T17:56:48.114Z"
   },
   {
    "duration": 2,
    "start_time": "2023-03-04T17:56:48.134Z"
   },
   {
    "duration": 20,
    "start_time": "2023-03-04T17:56:48.148Z"
   },
   {
    "duration": 55,
    "start_time": "2023-03-04T17:56:48.170Z"
   },
   {
    "duration": 24,
    "start_time": "2023-03-04T17:56:48.227Z"
   },
   {
    "duration": 13,
    "start_time": "2023-03-04T17:56:48.254Z"
   },
   {
    "duration": 4,
    "start_time": "2023-03-04T17:56:48.269Z"
   },
   {
    "duration": 12,
    "start_time": "2023-03-04T17:56:48.275Z"
   },
   {
    "duration": 12,
    "start_time": "2023-03-04T17:56:48.288Z"
   },
   {
    "duration": 13,
    "start_time": "2023-03-04T17:56:48.301Z"
   },
   {
    "duration": 64,
    "start_time": "2023-03-04T17:56:48.315Z"
   },
   {
    "duration": 11,
    "start_time": "2023-03-04T17:56:48.380Z"
   },
   {
    "duration": 45,
    "start_time": "2023-03-04T17:56:48.392Z"
   },
   {
    "duration": 0,
    "start_time": "2023-03-04T17:56:48.438Z"
   },
   {
    "duration": 4,
    "start_time": "2023-03-04T17:56:56.173Z"
   },
   {
    "duration": 1006,
    "start_time": "2023-03-04T18:07:25.604Z"
   },
   {
    "duration": 3,
    "start_time": "2023-03-04T18:07:35.538Z"
   },
   {
    "duration": 8,
    "start_time": "2023-03-04T18:07:39.875Z"
   },
   {
    "duration": 4,
    "start_time": "2023-03-04T18:07:47.098Z"
   },
   {
    "duration": 6,
    "start_time": "2023-03-04T18:08:03.168Z"
   },
   {
    "duration": 15,
    "start_time": "2023-03-04T18:08:16.067Z"
   },
   {
    "duration": 11,
    "start_time": "2023-03-04T18:12:44.783Z"
   },
   {
    "duration": 87,
    "start_time": "2023-03-04T18:25:47.539Z"
   },
   {
    "duration": 6,
    "start_time": "2023-03-04T18:25:50.876Z"
   },
   {
    "duration": 697,
    "start_time": "2023-03-04T18:25:51.102Z"
   },
   {
    "duration": 86,
    "start_time": "2023-03-04T18:25:51.801Z"
   },
   {
    "duration": 19,
    "start_time": "2023-03-04T18:25:51.891Z"
   },
   {
    "duration": 14,
    "start_time": "2023-03-04T18:25:51.912Z"
   },
   {
    "duration": 1879,
    "start_time": "2023-03-04T18:25:51.928Z"
   },
   {
    "duration": 28,
    "start_time": "2023-03-04T18:25:53.809Z"
   },
   {
    "duration": 54,
    "start_time": "2023-03-04T18:25:53.839Z"
   },
   {
    "duration": 37,
    "start_time": "2023-03-04T18:25:53.895Z"
   },
   {
    "duration": 54,
    "start_time": "2023-03-04T18:25:53.933Z"
   },
   {
    "duration": 10,
    "start_time": "2023-03-04T18:25:53.994Z"
   },
   {
    "duration": 36,
    "start_time": "2023-03-04T18:25:54.006Z"
   },
   {
    "duration": 37,
    "start_time": "2023-03-04T18:25:54.044Z"
   },
   {
    "duration": 21,
    "start_time": "2023-03-04T18:25:54.082Z"
   },
   {
    "duration": 179,
    "start_time": "2023-03-04T18:25:54.105Z"
   },
   {
    "duration": 9,
    "start_time": "2023-03-04T18:25:54.287Z"
   },
   {
    "duration": 17,
    "start_time": "2023-03-04T18:25:54.298Z"
   },
   {
    "duration": 4,
    "start_time": "2023-03-04T18:25:54.317Z"
   },
   {
    "duration": 16,
    "start_time": "2023-03-04T18:25:54.325Z"
   },
   {
    "duration": 14,
    "start_time": "2023-03-04T18:25:54.528Z"
   },
   {
    "duration": 18,
    "start_time": "2023-03-04T18:25:54.846Z"
   },
   {
    "duration": 13,
    "start_time": "2023-03-04T18:25:55.184Z"
   },
   {
    "duration": 6,
    "start_time": "2023-03-04T18:25:55.290Z"
   },
   {
    "duration": 9,
    "start_time": "2023-03-04T18:25:55.500Z"
   },
   {
    "duration": 11,
    "start_time": "2023-03-04T18:25:55.707Z"
   },
   {
    "duration": 15,
    "start_time": "2023-03-04T18:25:56.079Z"
   },
   {
    "duration": 12,
    "start_time": "2023-03-04T18:25:56.180Z"
   },
   {
    "duration": 3,
    "start_time": "2023-03-04T18:25:56.400Z"
   },
   {
    "duration": 9,
    "start_time": "2023-03-04T18:25:56.646Z"
   },
   {
    "duration": 5,
    "start_time": "2023-03-04T18:25:56.777Z"
   },
   {
    "duration": 10,
    "start_time": "2023-03-04T18:25:56.883Z"
   },
   {
    "duration": 5,
    "start_time": "2023-03-04T18:25:56.986Z"
   },
   {
    "duration": 4,
    "start_time": "2023-03-04T18:25:57.196Z"
   },
   {
    "duration": 8,
    "start_time": "2023-03-04T18:25:57.295Z"
   },
   {
    "duration": 30,
    "start_time": "2023-03-04T18:25:57.543Z"
   },
   {
    "duration": 3,
    "start_time": "2023-03-04T18:26:06.891Z"
   },
   {
    "duration": 18,
    "start_time": "2023-03-04T18:26:50.765Z"
   },
   {
    "duration": 18,
    "start_time": "2023-03-04T18:27:41.147Z"
   },
   {
    "duration": 7,
    "start_time": "2023-03-04T18:28:19.294Z"
   },
   {
    "duration": 3,
    "start_time": "2023-03-04T18:28:22.727Z"
   },
   {
    "duration": 10,
    "start_time": "2023-03-04T18:28:22.947Z"
   },
   {
    "duration": 8,
    "start_time": "2023-03-04T18:28:23.382Z"
   },
   {
    "duration": 15,
    "start_time": "2023-03-04T18:28:24.546Z"
   },
   {
    "duration": 3,
    "start_time": "2023-03-04T18:28:34.813Z"
   },
   {
    "duration": 8,
    "start_time": "2023-03-04T18:28:35.181Z"
   },
   {
    "duration": 4,
    "start_time": "2023-03-04T18:28:35.526Z"
   },
   {
    "duration": 13,
    "start_time": "2023-03-04T18:28:36.178Z"
   },
   {
    "duration": 16,
    "start_time": "2023-03-04T18:30:15.372Z"
   },
   {
    "duration": 9,
    "start_time": "2023-03-04T18:31:01.927Z"
   },
   {
    "duration": 7,
    "start_time": "2023-03-04T18:31:33.400Z"
   },
   {
    "duration": 4,
    "start_time": "2023-03-04T18:32:19.195Z"
   },
   {
    "duration": 18,
    "start_time": "2023-03-04T18:32:39.192Z"
   },
   {
    "duration": 701,
    "start_time": "2023-03-04T18:35:44.821Z"
   },
   {
    "duration": 7,
    "start_time": "2023-03-04T18:36:39.118Z"
   },
   {
    "duration": 6,
    "start_time": "2023-03-04T18:36:48.624Z"
   },
   {
    "duration": 7,
    "start_time": "2023-03-04T18:37:04.438Z"
   },
   {
    "duration": 8,
    "start_time": "2023-03-04T18:37:47.813Z"
   },
   {
    "duration": 66,
    "start_time": "2023-03-04T18:40:15.962Z"
   },
   {
    "duration": 113,
    "start_time": "2023-03-04T18:41:26.328Z"
   },
   {
    "duration": 60,
    "start_time": "2023-03-04T18:41:26.679Z"
   },
   {
    "duration": 49,
    "start_time": "2023-03-04T18:41:29.780Z"
   },
   {
    "duration": 19,
    "start_time": "2023-03-04T18:41:47.615Z"
   },
   {
    "duration": 98,
    "start_time": "2023-03-04T18:43:10.935Z"
   },
   {
    "duration": 31,
    "start_time": "2023-03-04T18:43:29.190Z"
   },
   {
    "duration": 1662,
    "start_time": "2023-03-04T18:44:11.576Z"
   },
   {
    "duration": 43,
    "start_time": "2023-03-04T18:44:31.496Z"
   },
   {
    "duration": 15,
    "start_time": "2023-03-04T18:45:11.264Z"
   },
   {
    "duration": 21,
    "start_time": "2023-03-04T18:45:20.374Z"
   }
  ],
  "colab": {
   "provenance": []
  },
  "kernelspec": {
   "display_name": "Python 3 (ipykernel)",
   "language": "python",
   "name": "python3"
  },
  "language_info": {
   "codemirror_mode": {
    "name": "ipython",
    "version": 3
   },
   "file_extension": ".py",
   "mimetype": "text/x-python",
   "name": "python",
   "nbconvert_exporter": "python",
   "pygments_lexer": "ipython3",
   "version": "3.9.5"
  },
  "toc": {
   "base_numbering": 1,
   "nav_menu": {},
   "number_sections": true,
   "sideBar": true,
   "skip_h1_title": true,
   "title_cell": "Table of Contents",
   "title_sidebar": "Contents",
   "toc_cell": false,
   "toc_position": {},
   "toc_section_display": true,
   "toc_window_display": false
  }
 },
 "nbformat": 4,
 "nbformat_minor": 1
}
