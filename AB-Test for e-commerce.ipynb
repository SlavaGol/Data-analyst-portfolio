{
 "cells": [
  {
   "cell_type": "markdown",
   "metadata": {},
   "source": [
    "# *A/B-тест для интернет магазина*"
   ]
  },
  {
   "cell_type": "markdown",
   "metadata": {},
   "source": [
    "\n",
    "# Описание данных"
   ]
  },
  {
   "cell_type": "markdown",
   "metadata": {},
   "source": [
    "**Данные для первой части.**\n",
    "\n",
    "Файл /datasets/hypothesis.csv. \n",
    "- Hypothesis — краткое описание гипотезы;\n",
    "- Reach — охват пользователей по 10-балльной шкале;\n",
    "- Impact — влияние на пользователей по 10-балльной шкале;\n",
    "- Confidence — уверенность в гипотезе по 10-балльной шкале;\n",
    "- Efforts — затраты ресурсов на проверку гипотезы по 10-балльной шкале. Чем больше значение Efforts, тем дороже проверка гипотезы.\n"
   ]
  },
  {
   "cell_type": "markdown",
   "metadata": {},
   "source": [
    "**Данные для второй части**\n",
    "Файл /datasets/orders.csv.\n",
    "- transactionId — идентификатор заказа;\n",
    "- visitorId — идентификатор пользователя, совершившего заказ;\n",
    "- date — дата, когда был совершён заказ;\n",
    "- revenue — выручка заказа;\n",
    "- group — группа A/B-теста, в которую попал заказ.\n",
    "\n",
    "Файл /datasets/visitors.csv. Скачать датасет\n",
    "- date — дата;\n",
    "- group — группа A/B-теста;\n",
    "- visitors — количество пользователей в указанную дату в указанной группе A/B-теста"
   ]
  },
  {
   "cell_type": "markdown",
   "metadata": {},
   "source": [
    "# Описание проекта\n",
    "\n",
    "Вы — аналитик крупного интернет-магазина. Вместе с отделом маркетинга вы подготовили список гипотез для увеличения выручки.\n",
    "Приоритизируйте гипотезы, запустите A/B-тест и проанализируйте результаты. \n"
   ]
  },
  {
   "cell_type": "markdown",
   "metadata": {},
   "source": [
    "**Часть 1. Приоритизация гипотез**.(А так же загрузка и подготовка данных к анализу)\n",
    "\n",
    "В файле /datasets/hypothesis.csv 9 гипотез по увеличению выручки интернет-магазина с указанными параметрами Reach, Impact, Confidence, Effort.\n",
    "\n",
    "**Задача**\n",
    "- Примените фреймворк ICE для приоритизации гипотез. Отсортируйте их по убыванию приоритета.\n",
    "- Примените фреймворк RICE для приоритизации гипотез. Отсортируйте их по убыванию приоритета.\n",
    "- Укажите, как изменилась приоритизация гипотез при применении RICE вместо ICE. Объясните, почему так произошло."
   ]
  },
  {
   "cell_type": "markdown",
   "metadata": {},
   "source": [
    "**Часть 2. Анализ A/B-теста**\n",
    "\n",
    "Вы провели A/B-тест и получили результаты, которые описаны в файлах /datasets/orders.csv и /datasets/visitors.csv."
   ]
  },
  {
   "cell_type": "markdown",
   "metadata": {},
   "source": [
    "**Задача:\n",
    "Проанализируйте A/B-тест:**\n",
    "\n",
    "- Постройте график кумулятивной выручки по группам. Сделайте выводы и предположения.\n",
    "- Постройте график кумулятивного среднего чека по группам. Сделайте выводы и предположения.\n",
    "- Постройте график относительного изменения кумулятивного среднего чека группы B к группе A. Сделайте выводы и предположения.\n",
    "- Постройте график кумулятивной конверсии по группам. Сделайте выводы и предположения.\n",
    "- Постройте график относительного изменения кумулятивной конверсии группы B к группе A. Сделайте выводы и предположения.\n",
    "- Постройте точечный график количества заказов по пользователям. Сделайте выводы и предположения.\n",
    "- Посчитайте 95-й и 99-й перцентили количества заказов на пользователя. Выберите границу для определения аномальных пользователей.\n",
    "- Постройте точечный график стоимостей заказов. Сделайте выводы и предположения.\n",
    "- Посчитайте 95-й и 99-й перцентили стоимости заказов. Выберите границу для определения аномальных заказов.\n",
    "- Посчитайте статистическую значимость различий в конверсии между группами по «сырым» данным. Сделайте выводы и предположения.\n",
    "- Посчитайте статистическую значимость различий в среднем чеке заказа между группами по «сырым» данным. Сделайте выводы и предположения.\n",
    "- Посчитайте статистическую значимость различий в конверсии между группами по «очищенным» данным. Сделайте выводы и предположения.\n",
    "- Посчитайте статистическую значимость различий в среднем чеке заказа между группами по «очищенным» данным. Сделайте выводы и предположения."
   ]
  },
  {
   "cell_type": "markdown",
   "metadata": {},
   "source": [
    "**Примите решение по результатам теста и объясните его. Варианты решений:**\n",
    "\n",
    "- Остановить тест, зафиксировать победу одной из групп.\n",
    "- Остановить тест, зафиксировать отсутствие различий между группами.\n",
    "- Продолжить тест."
   ]
  },
  {
   "cell_type": "markdown",
   "metadata": {},
   "source": [
    "#  Часть 1"
   ]
  },
  {
   "cell_type": "markdown",
   "metadata": {},
   "source": [
    "### Загрузка и подготовка данных к анализу."
   ]
  },
  {
   "cell_type": "code",
   "execution_count": 1,
   "metadata": {},
   "outputs": [],
   "source": [
    "import pandas as pd\n",
    "import datetime as dt\n",
    "import numpy as np\n",
    "import matplotlib.pyplot as plt\n",
    "from pandas.plotting import register_matplotlib_converters\n",
    "import warnings\n",
    "import scipy.stats as stats"
   ]
  },
  {
   "cell_type": "code",
   "execution_count": 2,
   "metadata": {},
   "outputs": [],
   "source": [
    "hypothesis = pd.read_csv('/datasets/hypothesis.csv')\n",
    "orders = pd.read_csv('/datasets/orders.csv')\n",
    "visitors = pd.read_csv('/datasets/visitors.csv')"
   ]
  },
  {
   "cell_type": "markdown",
   "metadata": {},
   "source": [
    "#### Предобработка таблицы **hypotesis**"
   ]
  },
  {
   "cell_type": "code",
   "execution_count": 3,
   "metadata": {},
   "outputs": [
    {
     "name": "stdout",
     "output_type": "stream",
     "text": [
      "<class 'pandas.core.frame.DataFrame'>\n",
      "RangeIndex: 9 entries, 0 to 8\n",
      "Data columns (total 5 columns):\n",
      " #   Column      Non-Null Count  Dtype \n",
      "---  ------      --------------  ----- \n",
      " 0   Hypothesis  9 non-null      object\n",
      " 1   Reach       9 non-null      int64 \n",
      " 2   Impact      9 non-null      int64 \n",
      " 3   Confidence  9 non-null      int64 \n",
      " 4   Efforts     9 non-null      int64 \n",
      "dtypes: int64(4), object(1)\n",
      "memory usage: 488.0+ bytes\n"
     ]
    }
   ],
   "source": [
    "hypothesis.info()"
   ]
  },
  {
   "cell_type": "code",
   "execution_count": 4,
   "metadata": {},
   "outputs": [
    {
     "data": {
      "text/plain": [
       "0"
      ]
     },
     "execution_count": 4,
     "metadata": {},
     "output_type": "execute_result"
    }
   ],
   "source": [
    "hypothesis.duplicated().sum()"
   ]
  },
  {
   "cell_type": "code",
   "execution_count": 5,
   "metadata": {},
   "outputs": [
    {
     "data": {
      "text/html": [
       "<div>\n",
       "<style scoped>\n",
       "    .dataframe tbody tr th:only-of-type {\n",
       "        vertical-align: middle;\n",
       "    }\n",
       "\n",
       "    .dataframe tbody tr th {\n",
       "        vertical-align: top;\n",
       "    }\n",
       "\n",
       "    .dataframe thead th {\n",
       "        text-align: right;\n",
       "    }\n",
       "</style>\n",
       "<table border=\"1\" class=\"dataframe\">\n",
       "  <thead>\n",
       "    <tr style=\"text-align: right;\">\n",
       "      <th></th>\n",
       "      <th>Hypothesis</th>\n",
       "      <th>Reach</th>\n",
       "      <th>Impact</th>\n",
       "      <th>Confidence</th>\n",
       "      <th>Efforts</th>\n",
       "    </tr>\n",
       "  </thead>\n",
       "  <tbody>\n",
       "    <tr>\n",
       "      <th>0</th>\n",
       "      <td>Добавить два новых канала привлечения трафика,...</td>\n",
       "      <td>3</td>\n",
       "      <td>10</td>\n",
       "      <td>8</td>\n",
       "      <td>6</td>\n",
       "    </tr>\n",
       "    <tr>\n",
       "      <th>1</th>\n",
       "      <td>Запустить собственную службу доставки, что сок...</td>\n",
       "      <td>2</td>\n",
       "      <td>5</td>\n",
       "      <td>4</td>\n",
       "      <td>10</td>\n",
       "    </tr>\n",
       "    <tr>\n",
       "      <th>2</th>\n",
       "      <td>Добавить блоки рекомендаций товаров на сайт ин...</td>\n",
       "      <td>8</td>\n",
       "      <td>3</td>\n",
       "      <td>7</td>\n",
       "      <td>3</td>\n",
       "    </tr>\n",
       "    <tr>\n",
       "      <th>3</th>\n",
       "      <td>Изменить структура категорий, что увеличит кон...</td>\n",
       "      <td>8</td>\n",
       "      <td>3</td>\n",
       "      <td>3</td>\n",
       "      <td>8</td>\n",
       "    </tr>\n",
       "    <tr>\n",
       "      <th>4</th>\n",
       "      <td>Изменить цвет фона главной страницы, чтобы уве...</td>\n",
       "      <td>3</td>\n",
       "      <td>1</td>\n",
       "      <td>1</td>\n",
       "      <td>1</td>\n",
       "    </tr>\n",
       "    <tr>\n",
       "      <th>5</th>\n",
       "      <td>Добавить страницу отзывов клиентов о магазине,...</td>\n",
       "      <td>3</td>\n",
       "      <td>2</td>\n",
       "      <td>2</td>\n",
       "      <td>3</td>\n",
       "    </tr>\n",
       "    <tr>\n",
       "      <th>6</th>\n",
       "      <td>Показать на главной странице баннеры с актуаль...</td>\n",
       "      <td>5</td>\n",
       "      <td>3</td>\n",
       "      <td>8</td>\n",
       "      <td>3</td>\n",
       "    </tr>\n",
       "    <tr>\n",
       "      <th>7</th>\n",
       "      <td>Добавить форму подписки на все основные страни...</td>\n",
       "      <td>10</td>\n",
       "      <td>7</td>\n",
       "      <td>8</td>\n",
       "      <td>5</td>\n",
       "    </tr>\n",
       "    <tr>\n",
       "      <th>8</th>\n",
       "      <td>Запустить акцию, дающую скидку на товар в день...</td>\n",
       "      <td>1</td>\n",
       "      <td>9</td>\n",
       "      <td>9</td>\n",
       "      <td>5</td>\n",
       "    </tr>\n",
       "  </tbody>\n",
       "</table>\n",
       "</div>"
      ],
      "text/plain": [
       "                                          Hypothesis  Reach  Impact  \\\n",
       "0  Добавить два новых канала привлечения трафика,...      3      10   \n",
       "1  Запустить собственную службу доставки, что сок...      2       5   \n",
       "2  Добавить блоки рекомендаций товаров на сайт ин...      8       3   \n",
       "3  Изменить структура категорий, что увеличит кон...      8       3   \n",
       "4  Изменить цвет фона главной страницы, чтобы уве...      3       1   \n",
       "5  Добавить страницу отзывов клиентов о магазине,...      3       2   \n",
       "6  Показать на главной странице баннеры с актуаль...      5       3   \n",
       "7  Добавить форму подписки на все основные страни...     10       7   \n",
       "8  Запустить акцию, дающую скидку на товар в день...      1       9   \n",
       "\n",
       "   Confidence  Efforts  \n",
       "0           8        6  \n",
       "1           4       10  \n",
       "2           7        3  \n",
       "3           3        8  \n",
       "4           1        1  \n",
       "5           2        3  \n",
       "6           8        3  \n",
       "7           8        5  \n",
       "8           9        5  "
      ]
     },
     "execution_count": 5,
     "metadata": {},
     "output_type": "execute_result"
    }
   ],
   "source": [
    "hypothesis"
   ]
  },
  {
   "cell_type": "markdown",
   "metadata": {},
   "source": [
    "Данные выглядят корректными,типы данных верны,дубликатов нет."
   ]
  },
  {
   "cell_type": "code",
   "execution_count": 6,
   "metadata": {},
   "outputs": [],
   "source": [
    "hypothesis.columns = map(str.lower, hypothesis.columns) #для удобства приведу к нижнему регистру\n",
    "#hypotesis"
   ]
  },
  {
   "cell_type": "markdown",
   "metadata": {},
   "source": [
    "#### Предобработка таблицы orders"
   ]
  },
  {
   "cell_type": "code",
   "execution_count": 7,
   "metadata": {},
   "outputs": [
    {
     "name": "stdout",
     "output_type": "stream",
     "text": [
      "<class 'pandas.core.frame.DataFrame'>\n",
      "RangeIndex: 1197 entries, 0 to 1196\n",
      "Data columns (total 5 columns):\n",
      " #   Column         Non-Null Count  Dtype \n",
      "---  ------         --------------  ----- \n",
      " 0   transactionId  1197 non-null   int64 \n",
      " 1   visitorId      1197 non-null   int64 \n",
      " 2   date           1197 non-null   object\n",
      " 3   revenue        1197 non-null   int64 \n",
      " 4   group          1197 non-null   object\n",
      "dtypes: int64(3), object(2)\n",
      "memory usage: 46.9+ KB\n"
     ]
    }
   ],
   "source": [
    "orders.info()"
   ]
  },
  {
   "cell_type": "code",
   "execution_count": 8,
   "metadata": {},
   "outputs": [
    {
     "data": {
      "text/html": [
       "<div>\n",
       "<style scoped>\n",
       "    .dataframe tbody tr th:only-of-type {\n",
       "        vertical-align: middle;\n",
       "    }\n",
       "\n",
       "    .dataframe tbody tr th {\n",
       "        vertical-align: top;\n",
       "    }\n",
       "\n",
       "    .dataframe thead th {\n",
       "        text-align: right;\n",
       "    }\n",
       "</style>\n",
       "<table border=\"1\" class=\"dataframe\">\n",
       "  <thead>\n",
       "    <tr style=\"text-align: right;\">\n",
       "      <th></th>\n",
       "      <th>transactionId</th>\n",
       "      <th>visitorId</th>\n",
       "      <th>date</th>\n",
       "      <th>revenue</th>\n",
       "      <th>group</th>\n",
       "    </tr>\n",
       "  </thead>\n",
       "  <tbody>\n",
       "    <tr>\n",
       "      <th>0</th>\n",
       "      <td>3667963787</td>\n",
       "      <td>3312258926</td>\n",
       "      <td>2019-08-15</td>\n",
       "      <td>1650</td>\n",
       "      <td>B</td>\n",
       "    </tr>\n",
       "    <tr>\n",
       "      <th>1</th>\n",
       "      <td>2804400009</td>\n",
       "      <td>3642806036</td>\n",
       "      <td>2019-08-15</td>\n",
       "      <td>730</td>\n",
       "      <td>B</td>\n",
       "    </tr>\n",
       "    <tr>\n",
       "      <th>2</th>\n",
       "      <td>2961555356</td>\n",
       "      <td>4069496402</td>\n",
       "      <td>2019-08-15</td>\n",
       "      <td>400</td>\n",
       "      <td>A</td>\n",
       "    </tr>\n",
       "    <tr>\n",
       "      <th>3</th>\n",
       "      <td>3797467345</td>\n",
       "      <td>1196621759</td>\n",
       "      <td>2019-08-15</td>\n",
       "      <td>9759</td>\n",
       "      <td>B</td>\n",
       "    </tr>\n",
       "    <tr>\n",
       "      <th>4</th>\n",
       "      <td>2282983706</td>\n",
       "      <td>2322279887</td>\n",
       "      <td>2019-08-15</td>\n",
       "      <td>2308</td>\n",
       "      <td>B</td>\n",
       "    </tr>\n",
       "  </tbody>\n",
       "</table>\n",
       "</div>"
      ],
      "text/plain": [
       "   transactionId   visitorId        date  revenue group\n",
       "0     3667963787  3312258926  2019-08-15     1650     B\n",
       "1     2804400009  3642806036  2019-08-15      730     B\n",
       "2     2961555356  4069496402  2019-08-15      400     A\n",
       "3     3797467345  1196621759  2019-08-15     9759     B\n",
       "4     2282983706  2322279887  2019-08-15     2308     B"
      ]
     },
     "execution_count": 8,
     "metadata": {},
     "output_type": "execute_result"
    }
   ],
   "source": [
    "orders.head()"
   ]
  },
  {
   "cell_type": "markdown",
   "metadata": {},
   "source": [
    "Приведем столбец date к типу даты."
   ]
  },
  {
   "cell_type": "code",
   "execution_count": 9,
   "metadata": {},
   "outputs": [],
   "source": [
    "orders[\"date\"] = orders[\"date\"].map(lambda x: dt.datetime.strptime(x, '%Y-%m-%d'))"
   ]
  },
  {
   "cell_type": "code",
   "execution_count": 10,
   "metadata": {},
   "outputs": [],
   "source": [
    "#orders.info()"
   ]
  },
  {
   "cell_type": "markdown",
   "metadata": {},
   "source": [
    "Проверим дубликаты."
   ]
  },
  {
   "cell_type": "code",
   "execution_count": 11,
   "metadata": {},
   "outputs": [
    {
     "data": {
      "text/plain": [
       "0"
      ]
     },
     "execution_count": 11,
     "metadata": {},
     "output_type": "execute_result"
    }
   ],
   "source": [
    "orders.duplicated().sum()"
   ]
  },
  {
   "cell_type": "markdown",
   "metadata": {},
   "source": [
    "Данные выглядят корректными,дубликатов не обнаружено,изменен тип данных только в столбце date"
   ]
  },
  {
   "cell_type": "code",
   "execution_count": 12,
   "metadata": {},
   "outputs": [
    {
     "data": {
      "text/html": [
       "<div>\n",
       "<style scoped>\n",
       "    .dataframe tbody tr th:only-of-type {\n",
       "        vertical-align: middle;\n",
       "    }\n",
       "\n",
       "    .dataframe tbody tr th {\n",
       "        vertical-align: top;\n",
       "    }\n",
       "\n",
       "    .dataframe thead th {\n",
       "        text-align: right;\n",
       "    }\n",
       "</style>\n",
       "<table border=\"1\" class=\"dataframe\">\n",
       "  <thead>\n",
       "    <tr style=\"text-align: right;\">\n",
       "      <th></th>\n",
       "      <th>transactionId</th>\n",
       "      <th>visitorId</th>\n",
       "      <th>date</th>\n",
       "      <th>revenue</th>\n",
       "      <th>group</th>\n",
       "    </tr>\n",
       "  </thead>\n",
       "  <tbody>\n",
       "    <tr>\n",
       "      <th>0</th>\n",
       "      <td>3667963787</td>\n",
       "      <td>3312258926</td>\n",
       "      <td>2019-08-15</td>\n",
       "      <td>1650</td>\n",
       "      <td>B</td>\n",
       "    </tr>\n",
       "    <tr>\n",
       "      <th>1</th>\n",
       "      <td>2804400009</td>\n",
       "      <td>3642806036</td>\n",
       "      <td>2019-08-15</td>\n",
       "      <td>730</td>\n",
       "      <td>B</td>\n",
       "    </tr>\n",
       "    <tr>\n",
       "      <th>2</th>\n",
       "      <td>2961555356</td>\n",
       "      <td>4069496402</td>\n",
       "      <td>2019-08-15</td>\n",
       "      <td>400</td>\n",
       "      <td>A</td>\n",
       "    </tr>\n",
       "    <tr>\n",
       "      <th>3</th>\n",
       "      <td>3797467345</td>\n",
       "      <td>1196621759</td>\n",
       "      <td>2019-08-15</td>\n",
       "      <td>9759</td>\n",
       "      <td>B</td>\n",
       "    </tr>\n",
       "    <tr>\n",
       "      <th>4</th>\n",
       "      <td>2282983706</td>\n",
       "      <td>2322279887</td>\n",
       "      <td>2019-08-15</td>\n",
       "      <td>2308</td>\n",
       "      <td>B</td>\n",
       "    </tr>\n",
       "    <tr>\n",
       "      <th>...</th>\n",
       "      <td>...</td>\n",
       "      <td>...</td>\n",
       "      <td>...</td>\n",
       "      <td>...</td>\n",
       "      <td>...</td>\n",
       "    </tr>\n",
       "    <tr>\n",
       "      <th>1192</th>\n",
       "      <td>2662137336</td>\n",
       "      <td>3733762160</td>\n",
       "      <td>2019-08-14</td>\n",
       "      <td>6490</td>\n",
       "      <td>B</td>\n",
       "    </tr>\n",
       "    <tr>\n",
       "      <th>1193</th>\n",
       "      <td>2203539145</td>\n",
       "      <td>370388673</td>\n",
       "      <td>2019-08-14</td>\n",
       "      <td>3190</td>\n",
       "      <td>A</td>\n",
       "    </tr>\n",
       "    <tr>\n",
       "      <th>1194</th>\n",
       "      <td>1807773912</td>\n",
       "      <td>573423106</td>\n",
       "      <td>2019-08-14</td>\n",
       "      <td>10550</td>\n",
       "      <td>A</td>\n",
       "    </tr>\n",
       "    <tr>\n",
       "      <th>1195</th>\n",
       "      <td>1947021204</td>\n",
       "      <td>1614305549</td>\n",
       "      <td>2019-08-14</td>\n",
       "      <td>100</td>\n",
       "      <td>A</td>\n",
       "    </tr>\n",
       "    <tr>\n",
       "      <th>1196</th>\n",
       "      <td>3936777065</td>\n",
       "      <td>2108080724</td>\n",
       "      <td>2019-08-15</td>\n",
       "      <td>202740</td>\n",
       "      <td>B</td>\n",
       "    </tr>\n",
       "  </tbody>\n",
       "</table>\n",
       "<p>1197 rows × 5 columns</p>\n",
       "</div>"
      ],
      "text/plain": [
       "      transactionId   visitorId       date  revenue group\n",
       "0        3667963787  3312258926 2019-08-15     1650     B\n",
       "1        2804400009  3642806036 2019-08-15      730     B\n",
       "2        2961555356  4069496402 2019-08-15      400     A\n",
       "3        3797467345  1196621759 2019-08-15     9759     B\n",
       "4        2282983706  2322279887 2019-08-15     2308     B\n",
       "...             ...         ...        ...      ...   ...\n",
       "1192     2662137336  3733762160 2019-08-14     6490     B\n",
       "1193     2203539145   370388673 2019-08-14     3190     A\n",
       "1194     1807773912   573423106 2019-08-14    10550     A\n",
       "1195     1947021204  1614305549 2019-08-14      100     A\n",
       "1196     3936777065  2108080724 2019-08-15   202740     B\n",
       "\n",
       "[1197 rows x 5 columns]"
      ]
     },
     "execution_count": 12,
     "metadata": {},
     "output_type": "execute_result"
    }
   ],
   "source": [
    "orders"
   ]
  },
  {
   "cell_type": "code",
   "execution_count": 13,
   "metadata": {},
   "outputs": [
    {
     "data": {
      "text/plain": [
       "group    58\n",
       "dtype: int64"
      ]
     },
     "execution_count": 13,
     "metadata": {},
     "output_type": "execute_result"
    }
   ],
   "source": [
    "orders.groupby('visitorId').agg({'group':'nunique'}).query('group == 2 ').count()"
   ]
  },
  {
   "cell_type": "code",
   "execution_count": 14,
   "metadata": {},
   "outputs": [],
   "source": [
    "both_groups=orders.groupby('visitorId').agg({'group':'nunique'}).reset_index().query('group == 2')"
   ]
  },
  {
   "cell_type": "code",
   "execution_count": 15,
   "metadata": {},
   "outputs": [],
   "source": [
    "orders=orders.query('visitorId not in @both_groups')"
   ]
  },
  {
   "cell_type": "code",
   "execution_count": 16,
   "metadata": {},
   "outputs": [
    {
     "data": {
      "text/plain": [
       "group    0\n",
       "dtype: int64"
      ]
     },
     "execution_count": 16,
     "metadata": {},
     "output_type": "execute_result"
    }
   ],
   "source": [
    "orders.groupby('visitorId').agg({'group':'nunique'}).query('visitorId in @both_groups').count()"
   ]
  },
  {
   "cell_type": "code",
   "execution_count": 17,
   "metadata": {},
   "outputs": [
    {
     "data": {
      "text/plain": [
       "group    1031\n",
       "dtype: int64"
      ]
     },
     "execution_count": 17,
     "metadata": {},
     "output_type": "execute_result"
    }
   ],
   "source": [
    "orders.groupby('visitorId').agg({'group':'nunique'}).query('visitorId not in @both_groups').count()"
   ]
  },
  {
   "cell_type": "markdown",
   "metadata": {},
   "source": [
    "#### Предобработка таблицы visits"
   ]
  },
  {
   "cell_type": "code",
   "execution_count": 18,
   "metadata": {},
   "outputs": [
    {
     "name": "stdout",
     "output_type": "stream",
     "text": [
      "<class 'pandas.core.frame.DataFrame'>\n",
      "RangeIndex: 62 entries, 0 to 61\n",
      "Data columns (total 3 columns):\n",
      " #   Column    Non-Null Count  Dtype \n",
      "---  ------    --------------  ----- \n",
      " 0   date      62 non-null     object\n",
      " 1   group     62 non-null     object\n",
      " 2   visitors  62 non-null     int64 \n",
      "dtypes: int64(1), object(2)\n",
      "memory usage: 1.6+ KB\n"
     ]
    }
   ],
   "source": [
    "visitors.info()"
   ]
  },
  {
   "cell_type": "code",
   "execution_count": 19,
   "metadata": {},
   "outputs": [
    {
     "data": {
      "text/html": [
       "<div>\n",
       "<style scoped>\n",
       "    .dataframe tbody tr th:only-of-type {\n",
       "        vertical-align: middle;\n",
       "    }\n",
       "\n",
       "    .dataframe tbody tr th {\n",
       "        vertical-align: top;\n",
       "    }\n",
       "\n",
       "    .dataframe thead th {\n",
       "        text-align: right;\n",
       "    }\n",
       "</style>\n",
       "<table border=\"1\" class=\"dataframe\">\n",
       "  <thead>\n",
       "    <tr style=\"text-align: right;\">\n",
       "      <th></th>\n",
       "      <th>date</th>\n",
       "      <th>group</th>\n",
       "      <th>visitors</th>\n",
       "    </tr>\n",
       "  </thead>\n",
       "  <tbody>\n",
       "    <tr>\n",
       "      <th>0</th>\n",
       "      <td>2019-08-01</td>\n",
       "      <td>A</td>\n",
       "      <td>719</td>\n",
       "    </tr>\n",
       "    <tr>\n",
       "      <th>1</th>\n",
       "      <td>2019-08-02</td>\n",
       "      <td>A</td>\n",
       "      <td>619</td>\n",
       "    </tr>\n",
       "    <tr>\n",
       "      <th>2</th>\n",
       "      <td>2019-08-03</td>\n",
       "      <td>A</td>\n",
       "      <td>507</td>\n",
       "    </tr>\n",
       "    <tr>\n",
       "      <th>3</th>\n",
       "      <td>2019-08-04</td>\n",
       "      <td>A</td>\n",
       "      <td>717</td>\n",
       "    </tr>\n",
       "    <tr>\n",
       "      <th>4</th>\n",
       "      <td>2019-08-05</td>\n",
       "      <td>A</td>\n",
       "      <td>756</td>\n",
       "    </tr>\n",
       "  </tbody>\n",
       "</table>\n",
       "</div>"
      ],
      "text/plain": [
       "         date group  visitors\n",
       "0  2019-08-01     A       719\n",
       "1  2019-08-02     A       619\n",
       "2  2019-08-03     A       507\n",
       "3  2019-08-04     A       717\n",
       "4  2019-08-05     A       756"
      ]
     },
     "execution_count": 19,
     "metadata": {},
     "output_type": "execute_result"
    }
   ],
   "source": [
    "visitors.head()"
   ]
  },
  {
   "cell_type": "markdown",
   "metadata": {},
   "source": [
    "Поменяем тип столбца date на тип данных даты"
   ]
  },
  {
   "cell_type": "code",
   "execution_count": 20,
   "metadata": {},
   "outputs": [],
   "source": [
    "visitors[\"date\"] = visitors[\"date\"].map(lambda x: dt.datetime.strptime(x, '%Y-%m-%d'))"
   ]
  },
  {
   "cell_type": "code",
   "execution_count": 21,
   "metadata": {},
   "outputs": [],
   "source": [
    "#visitors.info()"
   ]
  },
  {
   "cell_type": "markdown",
   "metadata": {},
   "source": [
    "Проверим дубликаты"
   ]
  },
  {
   "cell_type": "code",
   "execution_count": 22,
   "metadata": {},
   "outputs": [
    {
     "data": {
      "text/plain": [
       "0"
      ]
     },
     "execution_count": 22,
     "metadata": {},
     "output_type": "execute_result"
    }
   ],
   "source": [
    "visitors.duplicated().sum()"
   ]
  },
  {
   "cell_type": "markdown",
   "metadata": {},
   "source": [
    "Данные выглядят корректными,дубликатов не обнаружено,изменен тип данных только в столбце date"
   ]
  },
  {
   "cell_type": "markdown",
   "metadata": {},
   "source": [
    "### Приоритизация гипотез"
   ]
  },
  {
   "cell_type": "code",
   "execution_count": 23,
   "metadata": {},
   "outputs": [
    {
     "data": {
      "text/html": [
       "<div>\n",
       "<style scoped>\n",
       "    .dataframe tbody tr th:only-of-type {\n",
       "        vertical-align: middle;\n",
       "    }\n",
       "\n",
       "    .dataframe tbody tr th {\n",
       "        vertical-align: top;\n",
       "    }\n",
       "\n",
       "    .dataframe thead th {\n",
       "        text-align: right;\n",
       "    }\n",
       "</style>\n",
       "<table border=\"1\" class=\"dataframe\">\n",
       "  <thead>\n",
       "    <tr style=\"text-align: right;\">\n",
       "      <th></th>\n",
       "      <th>hypothesis</th>\n",
       "      <th>reach</th>\n",
       "      <th>impact</th>\n",
       "      <th>confidence</th>\n",
       "      <th>efforts</th>\n",
       "    </tr>\n",
       "  </thead>\n",
       "  <tbody>\n",
       "    <tr>\n",
       "      <th>0</th>\n",
       "      <td>Добавить два новых канала привлечения трафика,...</td>\n",
       "      <td>3</td>\n",
       "      <td>10</td>\n",
       "      <td>8</td>\n",
       "      <td>6</td>\n",
       "    </tr>\n",
       "    <tr>\n",
       "      <th>1</th>\n",
       "      <td>Запустить собственную службу доставки, что сок...</td>\n",
       "      <td>2</td>\n",
       "      <td>5</td>\n",
       "      <td>4</td>\n",
       "      <td>10</td>\n",
       "    </tr>\n",
       "    <tr>\n",
       "      <th>2</th>\n",
       "      <td>Добавить блоки рекомендаций товаров на сайт ин...</td>\n",
       "      <td>8</td>\n",
       "      <td>3</td>\n",
       "      <td>7</td>\n",
       "      <td>3</td>\n",
       "    </tr>\n",
       "    <tr>\n",
       "      <th>3</th>\n",
       "      <td>Изменить структура категорий, что увеличит кон...</td>\n",
       "      <td>8</td>\n",
       "      <td>3</td>\n",
       "      <td>3</td>\n",
       "      <td>8</td>\n",
       "    </tr>\n",
       "    <tr>\n",
       "      <th>4</th>\n",
       "      <td>Изменить цвет фона главной страницы, чтобы уве...</td>\n",
       "      <td>3</td>\n",
       "      <td>1</td>\n",
       "      <td>1</td>\n",
       "      <td>1</td>\n",
       "    </tr>\n",
       "    <tr>\n",
       "      <th>5</th>\n",
       "      <td>Добавить страницу отзывов клиентов о магазине,...</td>\n",
       "      <td>3</td>\n",
       "      <td>2</td>\n",
       "      <td>2</td>\n",
       "      <td>3</td>\n",
       "    </tr>\n",
       "    <tr>\n",
       "      <th>6</th>\n",
       "      <td>Показать на главной странице баннеры с актуаль...</td>\n",
       "      <td>5</td>\n",
       "      <td>3</td>\n",
       "      <td>8</td>\n",
       "      <td>3</td>\n",
       "    </tr>\n",
       "    <tr>\n",
       "      <th>7</th>\n",
       "      <td>Добавить форму подписки на все основные страни...</td>\n",
       "      <td>10</td>\n",
       "      <td>7</td>\n",
       "      <td>8</td>\n",
       "      <td>5</td>\n",
       "    </tr>\n",
       "    <tr>\n",
       "      <th>8</th>\n",
       "      <td>Запустить акцию, дающую скидку на товар в день...</td>\n",
       "      <td>1</td>\n",
       "      <td>9</td>\n",
       "      <td>9</td>\n",
       "      <td>5</td>\n",
       "    </tr>\n",
       "  </tbody>\n",
       "</table>\n",
       "</div>"
      ],
      "text/plain": [
       "                                          hypothesis  reach  impact  \\\n",
       "0  Добавить два новых канала привлечения трафика,...      3      10   \n",
       "1  Запустить собственную службу доставки, что сок...      2       5   \n",
       "2  Добавить блоки рекомендаций товаров на сайт ин...      8       3   \n",
       "3  Изменить структура категорий, что увеличит кон...      8       3   \n",
       "4  Изменить цвет фона главной страницы, чтобы уве...      3       1   \n",
       "5  Добавить страницу отзывов клиентов о магазине,...      3       2   \n",
       "6  Показать на главной странице баннеры с актуаль...      5       3   \n",
       "7  Добавить форму подписки на все основные страни...     10       7   \n",
       "8  Запустить акцию, дающую скидку на товар в день...      1       9   \n",
       "\n",
       "   confidence  efforts  \n",
       "0           8        6  \n",
       "1           4       10  \n",
       "2           7        3  \n",
       "3           3        8  \n",
       "4           1        1  \n",
       "5           2        3  \n",
       "6           8        3  \n",
       "7           8        5  \n",
       "8           9        5  "
      ]
     },
     "execution_count": 23,
     "metadata": {},
     "output_type": "execute_result"
    }
   ],
   "source": [
    "hypothesis"
   ]
  },
  {
   "cell_type": "code",
   "execution_count": 24,
   "metadata": {},
   "outputs": [],
   "source": [
    "hypothesis['ICE'] = ((hypothesis['impact'] * hypothesis['confidence']) / hypothesis['efforts']).round(1)\n",
    "hypothesis['RICE'] = (hypothesis['reach']  *hypothesis['impact'] * hypothesis['confidence']) / hypothesis['efforts']\n",
    "pd.set_option('display.max_colwidth', 200)#сразу расширил столбцы ,чтобы было все видно"
   ]
  },
  {
   "cell_type": "code",
   "execution_count": 25,
   "metadata": {},
   "outputs": [
    {
     "data": {
      "text/html": [
       "<div>\n",
       "<style scoped>\n",
       "    .dataframe tbody tr th:only-of-type {\n",
       "        vertical-align: middle;\n",
       "    }\n",
       "\n",
       "    .dataframe tbody tr th {\n",
       "        vertical-align: top;\n",
       "    }\n",
       "\n",
       "    .dataframe thead th {\n",
       "        text-align: right;\n",
       "    }\n",
       "</style>\n",
       "<table border=\"1\" class=\"dataframe\">\n",
       "  <thead>\n",
       "    <tr style=\"text-align: right;\">\n",
       "      <th></th>\n",
       "      <th>ICE</th>\n",
       "      <th>hypothesis</th>\n",
       "    </tr>\n",
       "  </thead>\n",
       "  <tbody>\n",
       "    <tr>\n",
       "      <th>8</th>\n",
       "      <td>16.2</td>\n",
       "      <td>Запустить акцию, дающую скидку на товар в день рождения</td>\n",
       "    </tr>\n",
       "    <tr>\n",
       "      <th>0</th>\n",
       "      <td>13.3</td>\n",
       "      <td>Добавить два новых канала привлечения трафика, что позволит привлекать на 30% больше пользователей</td>\n",
       "    </tr>\n",
       "    <tr>\n",
       "      <th>7</th>\n",
       "      <td>11.2</td>\n",
       "      <td>Добавить форму подписки на все основные страницы, чтобы собрать базу клиентов для email-рассылок</td>\n",
       "    </tr>\n",
       "    <tr>\n",
       "      <th>6</th>\n",
       "      <td>8.0</td>\n",
       "      <td>Показать на главной странице баннеры с актуальными акциями и распродажами, чтобы увеличить конверсию</td>\n",
       "    </tr>\n",
       "    <tr>\n",
       "      <th>2</th>\n",
       "      <td>7.0</td>\n",
       "      <td>Добавить блоки рекомендаций товаров на сайт интернет магазина, чтобы повысить конверсию и средний чек заказа</td>\n",
       "    </tr>\n",
       "    <tr>\n",
       "      <th>1</th>\n",
       "      <td>2.0</td>\n",
       "      <td>Запустить собственную службу доставки, что сократит срок доставки заказов</td>\n",
       "    </tr>\n",
       "    <tr>\n",
       "      <th>5</th>\n",
       "      <td>1.3</td>\n",
       "      <td>Добавить страницу отзывов клиентов о магазине, что позволит увеличить количество заказов</td>\n",
       "    </tr>\n",
       "    <tr>\n",
       "      <th>3</th>\n",
       "      <td>1.1</td>\n",
       "      <td>Изменить структура категорий, что увеличит конверсию, т.к. пользователи быстрее найдут нужный товар</td>\n",
       "    </tr>\n",
       "    <tr>\n",
       "      <th>4</th>\n",
       "      <td>1.0</td>\n",
       "      <td>Изменить цвет фона главной страницы, чтобы увеличить вовлеченность пользователей</td>\n",
       "    </tr>\n",
       "  </tbody>\n",
       "</table>\n",
       "</div>"
      ],
      "text/plain": [
       "    ICE  \\\n",
       "8  16.2   \n",
       "0  13.3   \n",
       "7  11.2   \n",
       "6   8.0   \n",
       "2   7.0   \n",
       "1   2.0   \n",
       "5   1.3   \n",
       "3   1.1   \n",
       "4   1.0   \n",
       "\n",
       "                                                                                                     hypothesis  \n",
       "8                                                       Запустить акцию, дающую скидку на товар в день рождения  \n",
       "0            Добавить два новых канала привлечения трафика, что позволит привлекать на 30% больше пользователей  \n",
       "7              Добавить форму подписки на все основные страницы, чтобы собрать базу клиентов для email-рассылок  \n",
       "6          Показать на главной странице баннеры с актуальными акциями и распродажами, чтобы увеличить конверсию  \n",
       "2  Добавить блоки рекомендаций товаров на сайт интернет магазина, чтобы повысить конверсию и средний чек заказа  \n",
       "1                                     Запустить собственную службу доставки, что сократит срок доставки заказов  \n",
       "5                      Добавить страницу отзывов клиентов о магазине, что позволит увеличить количество заказов  \n",
       "3           Изменить структура категорий, что увеличит конверсию, т.к. пользователи быстрее найдут нужный товар  \n",
       "4                              Изменить цвет фона главной страницы, чтобы увеличить вовлеченность пользователей  "
      ]
     },
     "metadata": {},
     "output_type": "display_data"
    }
   ],
   "source": [
    "display(hypothesis[['ICE', 'hypothesis']].sort_values(by='ICE', ascending=False))"
   ]
  },
  {
   "cell_type": "code",
   "execution_count": 26,
   "metadata": {},
   "outputs": [
    {
     "data": {
      "text/html": [
       "<div>\n",
       "<style scoped>\n",
       "    .dataframe tbody tr th:only-of-type {\n",
       "        vertical-align: middle;\n",
       "    }\n",
       "\n",
       "    .dataframe tbody tr th {\n",
       "        vertical-align: top;\n",
       "    }\n",
       "\n",
       "    .dataframe thead th {\n",
       "        text-align: right;\n",
       "    }\n",
       "</style>\n",
       "<table border=\"1\" class=\"dataframe\">\n",
       "  <thead>\n",
       "    <tr style=\"text-align: right;\">\n",
       "      <th></th>\n",
       "      <th>RICE</th>\n",
       "      <th>hypothesis</th>\n",
       "      <th>reach</th>\n",
       "    </tr>\n",
       "  </thead>\n",
       "  <tbody>\n",
       "    <tr>\n",
       "      <th>7</th>\n",
       "      <td>112.0</td>\n",
       "      <td>Добавить форму подписки на все основные страницы, чтобы собрать базу клиентов для email-рассылок</td>\n",
       "      <td>10</td>\n",
       "    </tr>\n",
       "    <tr>\n",
       "      <th>2</th>\n",
       "      <td>56.0</td>\n",
       "      <td>Добавить блоки рекомендаций товаров на сайт интернет магазина, чтобы повысить конверсию и средний чек заказа</td>\n",
       "      <td>8</td>\n",
       "    </tr>\n",
       "    <tr>\n",
       "      <th>0</th>\n",
       "      <td>40.0</td>\n",
       "      <td>Добавить два новых канала привлечения трафика, что позволит привлекать на 30% больше пользователей</td>\n",
       "      <td>3</td>\n",
       "    </tr>\n",
       "    <tr>\n",
       "      <th>6</th>\n",
       "      <td>40.0</td>\n",
       "      <td>Показать на главной странице баннеры с актуальными акциями и распродажами, чтобы увеличить конверсию</td>\n",
       "      <td>5</td>\n",
       "    </tr>\n",
       "    <tr>\n",
       "      <th>8</th>\n",
       "      <td>16.2</td>\n",
       "      <td>Запустить акцию, дающую скидку на товар в день рождения</td>\n",
       "      <td>1</td>\n",
       "    </tr>\n",
       "    <tr>\n",
       "      <th>3</th>\n",
       "      <td>9.0</td>\n",
       "      <td>Изменить структура категорий, что увеличит конверсию, т.к. пользователи быстрее найдут нужный товар</td>\n",
       "      <td>8</td>\n",
       "    </tr>\n",
       "    <tr>\n",
       "      <th>1</th>\n",
       "      <td>4.0</td>\n",
       "      <td>Запустить собственную службу доставки, что сократит срок доставки заказов</td>\n",
       "      <td>2</td>\n",
       "    </tr>\n",
       "    <tr>\n",
       "      <th>5</th>\n",
       "      <td>4.0</td>\n",
       "      <td>Добавить страницу отзывов клиентов о магазине, что позволит увеличить количество заказов</td>\n",
       "      <td>3</td>\n",
       "    </tr>\n",
       "    <tr>\n",
       "      <th>4</th>\n",
       "      <td>3.0</td>\n",
       "      <td>Изменить цвет фона главной страницы, чтобы увеличить вовлеченность пользователей</td>\n",
       "      <td>3</td>\n",
       "    </tr>\n",
       "  </tbody>\n",
       "</table>\n",
       "</div>"
      ],
      "text/plain": [
       "    RICE  \\\n",
       "7  112.0   \n",
       "2   56.0   \n",
       "0   40.0   \n",
       "6   40.0   \n",
       "8   16.2   \n",
       "3    9.0   \n",
       "1    4.0   \n",
       "5    4.0   \n",
       "4    3.0   \n",
       "\n",
       "                                                                                                     hypothesis  \\\n",
       "7              Добавить форму подписки на все основные страницы, чтобы собрать базу клиентов для email-рассылок   \n",
       "2  Добавить блоки рекомендаций товаров на сайт интернет магазина, чтобы повысить конверсию и средний чек заказа   \n",
       "0            Добавить два новых канала привлечения трафика, что позволит привлекать на 30% больше пользователей   \n",
       "6          Показать на главной странице баннеры с актуальными акциями и распродажами, чтобы увеличить конверсию   \n",
       "8                                                       Запустить акцию, дающую скидку на товар в день рождения   \n",
       "3           Изменить структура категорий, что увеличит конверсию, т.к. пользователи быстрее найдут нужный товар   \n",
       "1                                     Запустить собственную службу доставки, что сократит срок доставки заказов   \n",
       "5                      Добавить страницу отзывов клиентов о магазине, что позволит увеличить количество заказов   \n",
       "4                              Изменить цвет фона главной страницы, чтобы увеличить вовлеченность пользователей   \n",
       "\n",
       "   reach  \n",
       "7     10  \n",
       "2      8  \n",
       "0      3  \n",
       "6      5  \n",
       "8      1  \n",
       "3      8  \n",
       "1      2  \n",
       "5      3  \n",
       "4      3  "
      ]
     },
     "execution_count": 26,
     "metadata": {},
     "output_type": "execute_result"
    }
   ],
   "source": [
    "hypothesis[['RICE', 'hypothesis', 'reach']].sort_values(by='RICE', ascending=False)"
   ]
  },
  {
   "cell_type": "markdown",
   "metadata": {},
   "source": [
    "**Вывод**:\n",
    "\n",
    "Видны различия в таблицах.\n",
    "\n",
    "В ICE лидеры это гипотезы с 8,0,7 с индексами,а в RICE это гипотезы с 7,2,0(Это связано с тем ,что в RICE мы используем парметр reach)\n",
    "\n",
    "Гипотеза 4 в обоих методах осталась на последнем месте.\n"
   ]
  },
  {
   "cell_type": "markdown",
   "metadata": {},
   "source": [
    "#  Часть 2"
   ]
  },
  {
   "cell_type": "markdown",
   "metadata": {},
   "source": [
    "Посмотрим на количество клиентов в группах A и В ,а так же на число покупок"
   ]
  },
  {
   "cell_type": "code",
   "execution_count": 27,
   "metadata": {},
   "outputs": [
    {
     "name": "stdout",
     "output_type": "stream",
     "text": [
      "Кол-во посетителей в группе А: 18736\n",
      "Кол-во посетителей в группе B: 18916\n",
      "Кол-во покупок в группе A: 557\n",
      "Кол-во покупок в группе B: 640\n"
     ]
    }
   ],
   "source": [
    "purchasesA = len(orders[orders['group']=='A'])\n",
    "purchasesB = len(orders[orders['group']=='B'])\n",
    "\n",
    "print('Кол-во посетителей в группе А: {}'.format(visitors[visitors['group']=='A']['visitors'].sum()))\n",
    "print('Кол-во посетителей в группе B: {}'.format(visitors[visitors['group']=='B']['visitors'].sum())) \n",
    "print('Кол-во покупок в группе A: {}'.format(purchasesA))\n",
    "print('Кол-во покупок в группе B: {}'.format(purchasesB))"
   ]
  },
  {
   "cell_type": "markdown",
   "metadata": {},
   "source": [
    "### Постройте график кумулятивной выручки по группам. "
   ]
  },
  {
   "cell_type": "code",
   "execution_count": 28,
   "metadata": {},
   "outputs": [
    {
     "data": {
      "text/html": [
       "<div>\n",
       "<style scoped>\n",
       "    .dataframe tbody tr th:only-of-type {\n",
       "        vertical-align: middle;\n",
       "    }\n",
       "\n",
       "    .dataframe tbody tr th {\n",
       "        vertical-align: top;\n",
       "    }\n",
       "\n",
       "    .dataframe thead th {\n",
       "        text-align: right;\n",
       "    }\n",
       "</style>\n",
       "<table border=\"1\" class=\"dataframe\">\n",
       "  <thead>\n",
       "    <tr style=\"text-align: right;\">\n",
       "      <th></th>\n",
       "      <th>date</th>\n",
       "      <th>group</th>\n",
       "      <th>orders</th>\n",
       "      <th>buyers</th>\n",
       "      <th>revenue</th>\n",
       "      <th>visitors</th>\n",
       "    </tr>\n",
       "  </thead>\n",
       "  <tbody>\n",
       "    <tr>\n",
       "      <th>0</th>\n",
       "      <td>2019-08-01</td>\n",
       "      <td>A</td>\n",
       "      <td>24</td>\n",
       "      <td>20</td>\n",
       "      <td>148579</td>\n",
       "      <td>719</td>\n",
       "    </tr>\n",
       "    <tr>\n",
       "      <th>1</th>\n",
       "      <td>2019-08-01</td>\n",
       "      <td>B</td>\n",
       "      <td>21</td>\n",
       "      <td>20</td>\n",
       "      <td>101217</td>\n",
       "      <td>713</td>\n",
       "    </tr>\n",
       "    <tr>\n",
       "      <th>2</th>\n",
       "      <td>2019-08-02</td>\n",
       "      <td>A</td>\n",
       "      <td>44</td>\n",
       "      <td>38</td>\n",
       "      <td>242401</td>\n",
       "      <td>1338</td>\n",
       "    </tr>\n",
       "    <tr>\n",
       "      <th>3</th>\n",
       "      <td>2019-08-02</td>\n",
       "      <td>B</td>\n",
       "      <td>45</td>\n",
       "      <td>43</td>\n",
       "      <td>266748</td>\n",
       "      <td>1294</td>\n",
       "    </tr>\n",
       "    <tr>\n",
       "      <th>4</th>\n",
       "      <td>2019-08-03</td>\n",
       "      <td>A</td>\n",
       "      <td>68</td>\n",
       "      <td>62</td>\n",
       "      <td>354874</td>\n",
       "      <td>1845</td>\n",
       "    </tr>\n",
       "  </tbody>\n",
       "</table>\n",
       "</div>"
      ],
      "text/plain": [
       "        date group  orders  buyers  revenue  visitors\n",
       "0 2019-08-01     A      24      20   148579       719\n",
       "1 2019-08-01     B      21      20   101217       713\n",
       "2 2019-08-02     A      44      38   242401      1338\n",
       "3 2019-08-02     B      45      43   266748      1294\n",
       "4 2019-08-03     A      68      62   354874      1845"
      ]
     },
     "execution_count": 28,
     "metadata": {},
     "output_type": "execute_result"
    }
   ],
   "source": [
    "# создаем массив уникальных пар значений дат и групп теста\n",
    "datesGroups = orders[['date','group']].drop_duplicates()\n",
    "\n",
    "# получаем агрегированные кумулятивные по дням данные о заказах \n",
    "ordersAggregated = datesGroups.apply(lambda x: orders[np.logical_and(orders['date'] <= x['date'], orders['group'] == x['group'])]. \\\n",
    "                                     agg({'date' : 'max', \n",
    "                                          'group' : 'max', \n",
    "                                          'transactionId' : pd.Series.nunique, \n",
    "                                          'visitorId' : pd.Series.nunique, \n",
    "                                          'revenue' : 'sum'}), axis=1).sort_values(by=['date','group'])\n",
    "\n",
    "# получаем агрегированные кумулятивные по дням данные о посетителях интернет-магазина \n",
    "visitorsAggregated = datesGroups.apply(lambda x: visitors[np.logical_and(visitors['date'] <= x['date'], visitors['group'] == x['group'])]. \\\n",
    "                                       agg({'date' : 'max', \n",
    "                                            'group' : 'max', \n",
    "                                            'visitors' : 'sum'}), axis=1).sort_values(by=['date','group'])\n",
    "\n",
    "# объединяем кумулятивные данные в одной таблице и присваиваем ее столбцам понятные названия\n",
    "cumulativeData = ordersAggregated.merge(visitorsAggregated, left_on=['date', 'group'], right_on=['date', 'group'])\n",
    "cumulativeData.columns = ['date', 'group', 'orders', 'buyers', 'revenue', 'visitors']\n",
    "\n",
    "cumulativeData.head(5)"
   ]
  },
  {
   "cell_type": "markdown",
   "metadata": {},
   "source": [
    "Теперь строим график кумулятивной выручки"
   ]
  },
  {
   "cell_type": "code",
   "execution_count": 29,
   "metadata": {
    "scrolled": true
   },
   "outputs": [
    {
     "data": {
      "image/png": "[encoded data removed]",
      "text/plain": [
       "<Figure size 1080x360 with 1 Axes>"
      ]
     },
     "metadata": {
      "needs_background": "light"
     },
     "output_type": "display_data"
    }
   ],
   "source": [
    "cumulativeRevenueA = cumulativeData[cumulativeData['group']=='A'][['date','revenue', 'orders']]\n",
    "cumulativeRevenueB = cumulativeData[cumulativeData['group']=='B'][['date','revenue', 'orders']]\n",
    "\n",
    "register_matplotlib_converters()\n",
    "\n",
    "plt.figure(figsize=(15,5))\n",
    "plt.plot(cumulativeRevenueA['date'], cumulativeRevenueA['revenue'], label='Кум.выручка группы A')\n",
    "plt.plot(cumulativeRevenueB['date'], cumulativeRevenueB['revenue'], label='Кум.выручка группы B')\n",
    "plt.ylabel('Выручка')\n",
    "plt.xlabel('Дата')\n",
    "plt.title('Графики кумулятивной выручки по группам A/B')\n",
    "plt.grid()\n",
    "plt.legend() \n",
    "plt.show();"
   ]
  },
  {
   "cell_type": "markdown",
   "metadata": {},
   "source": [
    "**Вывод:**\n",
    "\n",
    "Как мы видим из графика, группа В показывает стабильно большую выручку по сравнению с группой А\n",
    "\n",
    "И в августе 18 числа был резкий скачок у группы В , а группа идет стабильно без резких подьемов или падений(могу предположить,что в августе был заказ на большую сумму)."
   ]
  },
  {
   "cell_type": "markdown",
   "metadata": {},
   "source": [
    "### Постройте график кумулятивного среднего чека по группам."
   ]
  },
  {
   "cell_type": "code",
   "execution_count": 30,
   "metadata": {},
   "outputs": [
    {
     "data": {
      "text/plain": [
       "<matplotlib.legend.Legend at 0x7faea8e09af0>"
      ]
     },
     "execution_count": 30,
     "metadata": {},
     "output_type": "execute_result"
    },
    {
     "data": {
      "image/png": "[encoded data removed]",
      "text/plain": [
       "<Figure size 1080x360 with 1 Axes>"
      ]
     },
     "metadata": {
      "needs_background": "light"
     },
     "output_type": "display_data"
    }
   ],
   "source": [
    "plt.figure(figsize=(15,5))\n",
    "plt.plot(cumulativeRevenueA['date'], cumulativeRevenueA['revenue']/cumulativeRevenueA['orders'], label='A')\n",
    "plt.plot(cumulativeRevenueB['date'], cumulativeRevenueB['revenue']/cumulativeRevenueB['orders'], label='B')\n",
    "plt.title('График кумулятивного среднего чека по группам')\n",
    "plt.ylabel('Выручка')\n",
    "plt.xlabel('Дата')\n",
    "plt.grid()\n",
    "plt.legend() "
   ]
  },
  {
   "cell_type": "markdown",
   "metadata": {},
   "source": [
    "График группы В так-же больше чем группы А,однако есть отрезок времени,где чек группы А больше -это в начале августа и 11-14 августа.\n",
    "\n",
    "После 14 августа средний чек группы В намного больше,опять же могу сказать ,что был крупный заказ 19 числа.\n",
    "\n",
    "После крупного заказа 19 числа средний чек группы В постепенно снижается.\n"
   ]
  },
  {
   "cell_type": "markdown",
   "metadata": {},
   "source": [
    "Посмотрю на этот крупный заказ 19 числа."
   ]
  },
  {
   "cell_type": "code",
   "execution_count": 31,
   "metadata": {},
   "outputs": [
    {
     "data": {
      "text/html": [
       "<div>\n",
       "<style scoped>\n",
       "    .dataframe tbody tr th:only-of-type {\n",
       "        vertical-align: middle;\n",
       "    }\n",
       "\n",
       "    .dataframe tbody tr th {\n",
       "        vertical-align: top;\n",
       "    }\n",
       "\n",
       "    .dataframe thead th {\n",
       "        text-align: right;\n",
       "    }\n",
       "</style>\n",
       "<table border=\"1\" class=\"dataframe\">\n",
       "  <thead>\n",
       "    <tr style=\"text-align: right;\">\n",
       "      <th></th>\n",
       "      <th>transactionId</th>\n",
       "      <th>visitorId</th>\n",
       "      <th>date</th>\n",
       "      <th>revenue</th>\n",
       "      <th>group</th>\n",
       "    </tr>\n",
       "  </thead>\n",
       "  <tbody>\n",
       "    <tr>\n",
       "      <th>425</th>\n",
       "      <td>590470918</td>\n",
       "      <td>1920142716</td>\n",
       "      <td>2019-08-19</td>\n",
       "      <td>1294500</td>\n",
       "      <td>B</td>\n",
       "    </tr>\n",
       "    <tr>\n",
       "      <th>949</th>\n",
       "      <td>1347999392</td>\n",
       "      <td>887908475</td>\n",
       "      <td>2019-08-21</td>\n",
       "      <td>60450</td>\n",
       "      <td>A</td>\n",
       "    </tr>\n",
       "    <tr>\n",
       "      <th>530</th>\n",
       "      <td>3970235543</td>\n",
       "      <td>2912540959</td>\n",
       "      <td>2019-08-19</td>\n",
       "      <td>43990</td>\n",
       "      <td>A</td>\n",
       "    </tr>\n",
       "    <tr>\n",
       "      <th>751</th>\n",
       "      <td>348143148</td>\n",
       "      <td>689129267</td>\n",
       "      <td>2019-08-20</td>\n",
       "      <td>37150</td>\n",
       "      <td>B</td>\n",
       "    </tr>\n",
       "    <tr>\n",
       "      <th>527</th>\n",
       "      <td>1570513684</td>\n",
       "      <td>2837914161</td>\n",
       "      <td>2019-08-19</td>\n",
       "      <td>33405</td>\n",
       "      <td>B</td>\n",
       "    </tr>\n",
       "    <tr>\n",
       "      <th>421</th>\n",
       "      <td>3765974140</td>\n",
       "      <td>1357170471</td>\n",
       "      <td>2019-08-19</td>\n",
       "      <td>31680</td>\n",
       "      <td>A</td>\n",
       "    </tr>\n",
       "    <tr>\n",
       "      <th>890</th>\n",
       "      <td>1192185169</td>\n",
       "      <td>2853587382</td>\n",
       "      <td>2019-08-21</td>\n",
       "      <td>30649</td>\n",
       "      <td>B</td>\n",
       "    </tr>\n",
       "    <tr>\n",
       "      <th>461</th>\n",
       "      <td>2683113224</td>\n",
       "      <td>154576532</td>\n",
       "      <td>2019-08-19</td>\n",
       "      <td>26550</td>\n",
       "      <td>B</td>\n",
       "    </tr>\n",
       "  </tbody>\n",
       "</table>\n",
       "</div>"
      ],
      "text/plain": [
       "     transactionId   visitorId       date  revenue group\n",
       "425      590470918  1920142716 2019-08-19  1294500     B\n",
       "949     1347999392   887908475 2019-08-21    60450     A\n",
       "530     3970235543  2912540959 2019-08-19    43990     A\n",
       "751      348143148   689129267 2019-08-20    37150     B\n",
       "527     1570513684  2837914161 2019-08-19    33405     B\n",
       "421     3765974140  1357170471 2019-08-19    31680     A\n",
       "890     1192185169  2853587382 2019-08-21    30649     B\n",
       "461     2683113224   154576532 2019-08-19    26550     B"
      ]
     },
     "execution_count": 31,
     "metadata": {},
     "output_type": "execute_result"
    }
   ],
   "source": [
    "orders.query(' \"2019-08-17\" <= date <= \"2019-08-21\" ').sort_values(by='revenue', ascending=False).head(8)"
   ]
  },
  {
   "cell_type": "markdown",
   "metadata": {},
   "source": [
    "Вот и наш крупный заказ под номером 425,как раз из группы В, он заметно выделяется на фоне остальных\n",
    "\n",
    "Уверен,что из-за него и такие резкие подьемы на графиках группы В"
   ]
  },
  {
   "cell_type": "markdown",
   "metadata": {},
   "source": [
    "### Постройте график относительного изменения кумулятивного среднего чека группы B к группе A. "
   ]
  },
  {
   "cell_type": "code",
   "execution_count": 32,
   "metadata": {},
   "outputs": [
    {
     "data": {
      "text/plain": [
       "<matplotlib.lines.Line2D at 0x7faea08f3640>"
      ]
     },
     "execution_count": 32,
     "metadata": {},
     "output_type": "execute_result"
    },
    {
     "data": {
      "image/png": "[encoded data removed]",
      "text/plain": [
       "<Figure size 1080x360 with 1 Axes>"
      ]
     },
     "metadata": {
      "needs_background": "light"
     },
     "output_type": "display_data"
    }
   ],
   "source": [
    "# собираем данные в одном датафрейме\n",
    "mergedCumulativeRevenue = cumulativeRevenueA.merge(cumulativeRevenueB, left_on='date', right_on='date', how='left', suffixes=['A', 'B'])\n",
    "\n",
    "# cтроим отношение средних чеков\n",
    "plt.figure(figsize=(15,5))\n",
    "plt.grid()\n",
    "plt.plot(mergedCumulativeRevenue['date'], (mergedCumulativeRevenue['revenueB']/mergedCumulativeRevenue['ordersB'])/(mergedCumulativeRevenue['revenueA']/mergedCumulativeRevenue['ordersA'])-1)\n",
    "plt.title('Относительное изменение кумулятивного среднего чека групп B к группе А')\n",
    "# добавляем ось X\n",
    "plt.axhline(y=0, color='black', linestyle='--')"
   ]
  },
  {
   "cell_type": "markdown",
   "metadata": {},
   "source": [
    "**Вывод:**\n",
    "\n",
    "Средний чек группы В рос с 1 августа и 2 августа уже превысил группу А,однако после 4 числа немного снизился и обратно вырос,вплоть до 7-8 числа.\n",
    "\n",
    "После 7-8 числа средний чек начал снижаться .\n",
    "\n",
    "С 13 числа он снова возрастает,однако стоит отметить ,что с 12 по 14 число средний чек группы А был больше.\n",
    "\n",
    "Далее мы видим уже знакомый подьем 19 числа,который обусловлен крупным заказом ( номер 425), далее средний чек постепенно снижается"
   ]
  },
  {
   "cell_type": "markdown",
   "metadata": {},
   "source": [
    "### Постройте график кумулятивного среднего количества заказов на посетителя по группам."
   ]
  },
  {
   "cell_type": "code",
   "execution_count": 33,
   "metadata": {},
   "outputs": [
    {
     "data": {
      "text/plain": [
       "(18109.0, 18139.0, 0.028, 0.038)"
      ]
     },
     "execution_count": 33,
     "metadata": {},
     "output_type": "execute_result"
    },
    {
     "data": {
      "image/png": "[encoded data removed]",
      "text/plain": [
       "<Figure size 1080x360 with 1 Axes>"
      ]
     },
     "metadata": {
      "needs_background": "light"
     },
     "output_type": "display_data"
    }
   ],
   "source": [
    "# считаем кумулятивную конверсию\n",
    "cumulativeData['conversion'] = cumulativeData['orders']/cumulativeData['visitors']\n",
    "\n",
    "# отделяем данные по группе A\n",
    "cumulativeDataA = cumulativeData[cumulativeData['group']=='A']\n",
    "\n",
    "# отделяем данные по группе B\n",
    "cumulativeDataB = cumulativeData[cumulativeData['group']=='B']\n",
    "\n",
    "# строим графики\n",
    "plt.figure(figsize=(15,5))\n",
    "plt.plot(cumulativeDataA['date'], cumulativeDataA['conversion'], label='A')\n",
    "plt.plot(cumulativeDataB['date'], cumulativeDataB['conversion'], label='B')\n",
    "plt.title('График кумулятивного среднего количества заказов на посетителя по группам')\n",
    "plt.xlabel('Дата')\n",
    "plt.ylabel('Конверсия')\n",
    "plt.grid()\n",
    "plt.legend()\n",
    "\n",
    "# задаем масштаб осей\n",
    "plt.axis([\"2019-08-01\", '2019-08-31', 0.028, 0.038])  "
   ]
  },
  {
   "cell_type": "markdown",
   "metadata": {},
   "source": [
    "**Вывод:**\n",
    "\n",
    "В начале августа группа А была больше группы В(~3 числа максимальный пик) , после пика видим сильное падение.\n",
    "\n",
    "График группы В с 4 августа начинает расти и 6 августа превысил группу А(стоит отметить ,что 10 августа график достиг своего пика - чуть выше 0.036)\n",
    "\n",
    "Затем пошло постепенное снижение графика В с резким всплеском 14-17 августа ( очень близко к пиковому значению)\n",
    "\n",
    "Можно сделать вывод что график группы В значительно больше группы А (начиная с 6 августа)"
   ]
  },
  {
   "cell_type": "markdown",
   "metadata": {},
   "source": [
    "### Постройте график относительного изменения кумулятивного среднего количества заказов на посетителя группы B к группе A. "
   ]
  },
  {
   "cell_type": "code",
   "execution_count": 34,
   "metadata": {},
   "outputs": [
    {
     "data": {
      "text/plain": [
       "<matplotlib.lines.Line2D at 0x7faea0768fd0>"
      ]
     },
     "execution_count": 34,
     "metadata": {},
     "output_type": "execute_result"
    },
    {
     "data": {
      "image/png": "[encoded data removed]",
      "text/plain": [
       "<Figure size 1080x360 with 1 Axes>"
      ]
     },
     "metadata": {
      "needs_background": "light"
     },
     "output_type": "display_data"
    }
   ],
   "source": [
    "mergedCumulativeConversions = cumulativeDataA[['date','conversion']].merge(cumulativeDataB[['date','conversion']], left_on='date', right_on='date', how='left', suffixes=['A', 'B'])\n",
    "\n",
    "plt.figure(figsize=(15,5))\n",
    "plt.grid()\n",
    "plt.plot(mergedCumulativeConversions['date'], mergedCumulativeConversions['conversionB']/mergedCumulativeConversions['conversionA']-1, label=\"Прирост группы B относительно группы A\")\n",
    "plt.legend()\n",
    "plt.title('График относительного изменения кумулятивного среднего количества заказов на посетителя группы B к группе A')\n",
    "plt.xlabel('Дата')\n",
    "plt.axhline(y=0, color='black', linestyle='--')\n",
    "plt.axhline(y=0.1, color='grey', linestyle='--')\n",
    "plt.axhline(y=-0.1, color='grey', linestyle='--')\n",
    "plt.axhline(y=0.21, color='grey', linestyle='--')\n"
   ]
  },
  {
   "cell_type": "markdown",
   "metadata": {},
   "source": [
    "**Вывод:**\n",
    "\n",
    "С 1 по 5 группа А была была больше на 5-10 процентов,однако стоит отметить ,что 2 августа был резкий прирост группы В.\n",
    "\n",
    "Начиная с 6 числа группа В лидировала до конца периода.\n",
    "\n",
    "График группы В рос вплоть до 15 августа(разница с группой А составила примерно 21 процент),после постепенно начал снижаться."
   ]
  },
  {
   "cell_type": "markdown",
   "metadata": {},
   "source": [
    "### Постройте точечный график количества заказов по пользователям."
   ]
  },
  {
   "cell_type": "code",
   "execution_count": 35,
   "metadata": {},
   "outputs": [
    {
     "data": {
      "text/html": [
       "<div>\n",
       "<style scoped>\n",
       "    .dataframe tbody tr th:only-of-type {\n",
       "        vertical-align: middle;\n",
       "    }\n",
       "\n",
       "    .dataframe tbody tr th {\n",
       "        vertical-align: top;\n",
       "    }\n",
       "\n",
       "    .dataframe thead th {\n",
       "        text-align: right;\n",
       "    }\n",
       "</style>\n",
       "<table border=\"1\" class=\"dataframe\">\n",
       "  <thead>\n",
       "    <tr style=\"text-align: right;\">\n",
       "      <th></th>\n",
       "      <th>visitorId</th>\n",
       "      <th>orders</th>\n",
       "    </tr>\n",
       "  </thead>\n",
       "  <tbody>\n",
       "    <tr>\n",
       "      <th>1023</th>\n",
       "      <td>4256040402</td>\n",
       "      <td>11</td>\n",
       "    </tr>\n",
       "    <tr>\n",
       "      <th>591</th>\n",
       "      <td>2458001652</td>\n",
       "      <td>11</td>\n",
       "    </tr>\n",
       "    <tr>\n",
       "      <th>569</th>\n",
       "      <td>2378935119</td>\n",
       "      <td>9</td>\n",
       "    </tr>\n",
       "    <tr>\n",
       "      <th>487</th>\n",
       "      <td>2038680547</td>\n",
       "      <td>8</td>\n",
       "    </tr>\n",
       "    <tr>\n",
       "      <th>44</th>\n",
       "      <td>199603092</td>\n",
       "      <td>5</td>\n",
       "    </tr>\n",
       "    <tr>\n",
       "      <th>744</th>\n",
       "      <td>3062433592</td>\n",
       "      <td>5</td>\n",
       "    </tr>\n",
       "    <tr>\n",
       "      <th>55</th>\n",
       "      <td>237748145</td>\n",
       "      <td>5</td>\n",
       "    </tr>\n",
       "    <tr>\n",
       "      <th>917</th>\n",
       "      <td>3803269165</td>\n",
       "      <td>5</td>\n",
       "    </tr>\n",
       "    <tr>\n",
       "      <th>299</th>\n",
       "      <td>1230306981</td>\n",
       "      <td>5</td>\n",
       "    </tr>\n",
       "    <tr>\n",
       "      <th>897</th>\n",
       "      <td>3717692402</td>\n",
       "      <td>5</td>\n",
       "    </tr>\n",
       "  </tbody>\n",
       "</table>\n",
       "</div>"
      ],
      "text/plain": [
       "       visitorId  orders\n",
       "1023  4256040402      11\n",
       "591   2458001652      11\n",
       "569   2378935119       9\n",
       "487   2038680547       8\n",
       "44     199603092       5\n",
       "744   3062433592       5\n",
       "55     237748145       5\n",
       "917   3803269165       5\n",
       "299   1230306981       5\n",
       "897   3717692402       5"
      ]
     },
     "execution_count": 35,
     "metadata": {},
     "output_type": "execute_result"
    }
   ],
   "source": [
    "ordersByUsers = orders.groupby('visitorId', as_index = False).agg({'transactionId':'nunique'}).sort_values(by='transactionId', ascending = False)\n",
    "ordersByUsers.columns = ['visitorId', 'orders']\n",
    "ordersByUsers.head(10)"
   ]
  },
  {
   "cell_type": "markdown",
   "metadata": {},
   "source": [
    "Видим,что есть  пользователи, которые совершали 5, 8, 9, 11, заказов. "
   ]
  },
  {
   "cell_type": "code",
   "execution_count": 36,
   "metadata": {},
   "outputs": [
    {
     "data": {
      "image/png": "[encoded data removed]",
      "text/plain": [
       "<Figure size 720x288 with 1 Axes>"
      ]
     },
     "metadata": {
      "needs_background": "light"
     },
     "output_type": "display_data"
    }
   ],
   "source": [
    "#Построим гистрограмму распределения количества заказов на одного пользователя.\n",
    "plt.figure(figsize=(10,4))\n",
    "plt.hist(ordersByUsers['orders'], bins = 10)\n",
    "plt.title('Гистрограмма распределения количества заказов на одного пользователя')\n",
    "plt.show()"
   ]
  },
  {
   "cell_type": "markdown",
   "metadata": {},
   "source": [
    "Большинство покупателей заказывали только один раз. Однако доля пользователей с 2-3 заказами тоже значительна."
   ]
  },
  {
   "cell_type": "markdown",
   "metadata": {},
   "source": [
    "Построим точечную диаграмму числа заказов по пользователям:"
   ]
  },
  {
   "cell_type": "code",
   "execution_count": 37,
   "metadata": {},
   "outputs": [
    {
     "data": {
      "image/png": "[encoded data removed]",
      "text/plain": [
       "<Figure size 1080x360 with 1 Axes>"
      ]
     },
     "metadata": {
      "needs_background": "light"
     },
     "output_type": "display_data"
    }
   ],
   "source": [
    "x_values = pd.Series(range(0,len(ordersByUsers)))\n",
    "\n",
    "plt.figure(figsize=(15,5))\n",
    "plt.grid()\n",
    "plt.title('Точечная диаграмма числа заказов по пользователям')\n",
    "plt.scatter(x_values, ordersByUsers['orders'], alpha=0.5) ;"
   ]
  },
  {
   "cell_type": "markdown",
   "metadata": {},
   "source": [
    "Судя по граифкам, подавляющее большинство пользователей не совершает более 2 заказов\n",
    "\n",
    "Тех кто совершил 3 заказа совсем мало, и считать ли это выбросами пока не ясно, - надо посчитать процентили (95 и 99). \n",
    "\n",
    "Все что больше трех заказов выглядит ,ак аномалия."
   ]
  },
  {
   "cell_type": "markdown",
   "metadata": {},
   "source": [
    "### Посчитайте 95-й и 99-й перцентили количества заказов на пользователя."
   ]
  },
  {
   "cell_type": "code",
   "execution_count": 38,
   "metadata": {},
   "outputs": [
    {
     "name": "stdout",
     "output_type": "stream",
     "text": [
      "95 и 99 перцентили:  [2. 4.]\n"
     ]
    }
   ],
   "source": [
    "print('95 и 99 перцентили: ',np.percentile(ordersByUsers['orders'], [95, 99]))"
   ]
  },
  {
   "cell_type": "markdown",
   "metadata": {},
   "source": [
    "**Вывод:**\n",
    "\n",
    "Видим,что большинство клиентов делают 1-2 заказа.\n",
    "Все,что выше - аномалия"
   ]
  },
  {
   "cell_type": "markdown",
   "metadata": {},
   "source": [
    "### Постройте точечный график стоимостей заказов. "
   ]
  },
  {
   "cell_type": "code",
   "execution_count": 39,
   "metadata": {},
   "outputs": [
    {
     "data": {
      "image/png": "[encoded data removed]",
      "text/plain": [
       "<Figure size 1080x360 with 1 Axes>"
      ]
     },
     "metadata": {
      "needs_background": "light"
     },
     "output_type": "display_data"
    }
   ],
   "source": [
    "x_values = pd.Series(range(0,len(orders['revenue'])))\n",
    "plt.figure(figsize=(15,5))\n",
    "plt.grid()\n",
    "plt.title('График стоимостей заказов')\n",
    "plt.scatter(x_values, orders['revenue'], alpha=0.5);"
   ]
  },
  {
   "cell_type": "markdown",
   "metadata": {},
   "source": [
    "Нужно построить более наглядный график.\n",
    "\n",
    "Однако сразу можно заметить крупный заказ под номером 425 свыше 1.2 млн"
   ]
  },
  {
   "cell_type": "code",
   "execution_count": 40,
   "metadata": {},
   "outputs": [
    {
     "data": {
      "image/png": "[encoded data removed]",
      "text/plain": [
       "<Figure size 1080x360 with 1 Axes>"
      ]
     },
     "metadata": {
      "needs_background": "light"
     },
     "output_type": "display_data"
    }
   ],
   "source": [
    "x_values = pd.Series(range(0,len(orders['revenue'])))\n",
    "plt.figure(figsize=(15,5))\n",
    "plt.grid()\n",
    "plt.title('График стоимостей заказов')\n",
    "plt.scatter(x_values, orders['revenue'], alpha=0.5)\n",
    "plt.axis([0, 1200, 0, 200000])\n",
    "plt.show();"
   ]
  },
  {
   "cell_type": "markdown",
   "metadata": {},
   "source": [
    "Большая часть пользователей делает покупки суммой не больше 25-30 т.р. Нужно посмотреть на перцентили"
   ]
  },
  {
   "cell_type": "markdown",
   "metadata": {},
   "source": [
    "### Посчитайте 95-й и 99-й перцентили стоимости заказов. Выберите границу для определения аномальных заказов."
   ]
  },
  {
   "cell_type": "code",
   "execution_count": 41,
   "metadata": {},
   "outputs": [
    {
     "name": "stdout",
     "output_type": "stream",
     "text": [
      "95 и 99 перцентили по стоимости заказов :  [28000.  58233.2]\n"
     ]
    }
   ],
   "source": [
    "print('95 и 99 перцентили по стоимости заказов : ', np.percentile(orders['revenue'], [95, 99])) "
   ]
  },
  {
   "cell_type": "markdown",
   "metadata": {},
   "source": [
    "Всего лишь 5 процентов заказов больше 28000\n",
    "\n",
    "Возьмем за границу значение - 58233.2"
   ]
  },
  {
   "cell_type": "markdown",
   "metadata": {},
   "source": [
    "### Посчитайте статистическую значимость различий в среднем количестве заказов на посетителя между группами по «сырым» данным."
   ]
  },
  {
   "cell_type": "markdown",
   "metadata": {},
   "source": [
    "Начнём с подготовки данных\n",
    "\n",
    "Соберем данные в таблицы и обеденим\n",
    "\n",
    "выведу 5 строк"
   ]
  },
  {
   "cell_type": "code",
   "execution_count": 42,
   "metadata": {},
   "outputs": [],
   "source": [
    "visitorsADaily = visitors[visitors['group']=='A'][['date', 'visitors']]\n",
    "visitorsADaily.columns = ['date', 'visitorsPerDateA']\n",
    "\n",
    "visitorsACummulative = visitorsADaily.apply(lambda x: visitorsADaily[visitorsADaily['date'] <= x['date']]. \\\n",
    "                                            agg({'date' : 'max', 'visitorsPerDateA' : 'sum'}), axis=1)\n",
    "visitorsACummulative.columns = ['date', 'visitorsCummulativeA']\n",
    "\n",
    "visitorsBDaily = visitors[visitors['group']=='B'][['date', 'visitors']]\n",
    "visitorsBDaily.columns = ['date', 'visitorsPerDateB']\n",
    "\n",
    "visitorsBCummulative = visitorsBDaily.apply(lambda x: visitorsBDaily[visitorsBDaily['date'] <= x['date']]. \\\n",
    "                                            agg({'date' : 'max', 'visitorsPerDateB' : 'sum'}), axis=1)\n",
    "visitorsBCummulative.columns = ['date', 'visitorsCummulativeB']\n",
    "\n",
    "\n",
    "ordersADaily = orders[orders['group']=='A'][['date', 'transactionId', 'visitorId', 'revenue']]\\\n",
    "    .groupby('date', as_index=False)\\\n",
    "    .agg({'transactionId' : pd.Series.nunique, 'revenue' : 'sum'})\n",
    "ordersADaily.columns = ['date', 'ordersPerDateA', 'revenuePerDateA']\n",
    "\n",
    "ordersACummulative = ordersADaily.apply(\n",
    "    lambda x: \\\n",
    "        ordersADaily[ordersADaily['date'] <= x['date']]\\\n",
    "            .agg({\n",
    "                'date' : 'max',\n",
    "                'ordersPerDateA' : 'sum',\n",
    "                'revenuePerDateA' : 'sum'}), axis=1).sort_values(by=['date'])\n",
    "ordersACummulative.columns = ['date', 'ordersCummulativeA', 'revenueCummulativeA']\n",
    "\n",
    "ordersBDaily = orders[orders['group']=='B'][['date', 'transactionId', 'visitorId', 'revenue']]\\\n",
    "    .groupby('date', as_index=False)\\\n",
    "    .agg({'transactionId' : pd.Series.nunique, 'revenue' : 'sum'})\n",
    "ordersBDaily.columns = ['date', 'ordersPerDateB', 'revenuePerDateB']\n",
    "\n",
    "ordersBCummulative = ordersBDaily.apply(\n",
    "    lambda x: \\\n",
    "        ordersBDaily[ordersBDaily['date'] <= x['date']]\\\n",
    "            .agg({\n",
    "                'date' : 'max',\n",
    "                'ordersPerDateB' : 'sum',\n",
    "                'revenuePerDateB' : 'sum'}), axis=1).sort_values(by=['date'])\n",
    "ordersBCummulative.columns = ['date', 'ordersCummulativeB', 'revenueCummulativeB']\n"
   ]
  },
  {
   "cell_type": "markdown",
   "metadata": {},
   "source": [
    "Объеденим данные и выведем первые 5 строк"
   ]
  },
  {
   "cell_type": "code",
   "execution_count": 43,
   "metadata": {},
   "outputs": [
    {
     "data": {
      "text/html": [
       "<div>\n",
       "<style scoped>\n",
       "    .dataframe tbody tr th:only-of-type {\n",
       "        vertical-align: middle;\n",
       "    }\n",
       "\n",
       "    .dataframe tbody tr th {\n",
       "        vertical-align: top;\n",
       "    }\n",
       "\n",
       "    .dataframe thead th {\n",
       "        text-align: right;\n",
       "    }\n",
       "</style>\n",
       "<table border=\"1\" class=\"dataframe\">\n",
       "  <thead>\n",
       "    <tr style=\"text-align: right;\">\n",
       "      <th></th>\n",
       "      <th>date</th>\n",
       "      <th>ordersPerDateA</th>\n",
       "      <th>revenuePerDateA</th>\n",
       "      <th>ordersPerDateB</th>\n",
       "      <th>revenuePerDateB</th>\n",
       "      <th>ordersCummulativeA</th>\n",
       "      <th>revenueCummulativeA</th>\n",
       "      <th>ordersCummulativeB</th>\n",
       "      <th>revenueCummulativeB</th>\n",
       "      <th>visitorsPerDateA</th>\n",
       "      <th>visitorsPerDateB</th>\n",
       "      <th>visitorsCummulativeA</th>\n",
       "      <th>visitorsCummulativeB</th>\n",
       "    </tr>\n",
       "  </thead>\n",
       "  <tbody>\n",
       "    <tr>\n",
       "      <th>0</th>\n",
       "      <td>2019-08-01</td>\n",
       "      <td>24</td>\n",
       "      <td>148579</td>\n",
       "      <td>21</td>\n",
       "      <td>101217</td>\n",
       "      <td>24</td>\n",
       "      <td>148579</td>\n",
       "      <td>21</td>\n",
       "      <td>101217</td>\n",
       "      <td>719</td>\n",
       "      <td>713</td>\n",
       "      <td>719</td>\n",
       "      <td>713</td>\n",
       "    </tr>\n",
       "    <tr>\n",
       "      <th>1</th>\n",
       "      <td>2019-08-02</td>\n",
       "      <td>20</td>\n",
       "      <td>93822</td>\n",
       "      <td>24</td>\n",
       "      <td>165531</td>\n",
       "      <td>44</td>\n",
       "      <td>242401</td>\n",
       "      <td>45</td>\n",
       "      <td>266748</td>\n",
       "      <td>619</td>\n",
       "      <td>581</td>\n",
       "      <td>1338</td>\n",
       "      <td>1294</td>\n",
       "    </tr>\n",
       "    <tr>\n",
       "      <th>2</th>\n",
       "      <td>2019-08-03</td>\n",
       "      <td>24</td>\n",
       "      <td>112473</td>\n",
       "      <td>16</td>\n",
       "      <td>114248</td>\n",
       "      <td>68</td>\n",
       "      <td>354874</td>\n",
       "      <td>61</td>\n",
       "      <td>380996</td>\n",
       "      <td>507</td>\n",
       "      <td>509</td>\n",
       "      <td>1845</td>\n",
       "      <td>1803</td>\n",
       "    </tr>\n",
       "    <tr>\n",
       "      <th>3</th>\n",
       "      <td>2019-08-04</td>\n",
       "      <td>16</td>\n",
       "      <td>70825</td>\n",
       "      <td>17</td>\n",
       "      <td>108571</td>\n",
       "      <td>84</td>\n",
       "      <td>425699</td>\n",
       "      <td>78</td>\n",
       "      <td>489567</td>\n",
       "      <td>717</td>\n",
       "      <td>770</td>\n",
       "      <td>2562</td>\n",
       "      <td>2573</td>\n",
       "    </tr>\n",
       "    <tr>\n",
       "      <th>4</th>\n",
       "      <td>2019-08-05</td>\n",
       "      <td>25</td>\n",
       "      <td>124218</td>\n",
       "      <td>23</td>\n",
       "      <td>92428</td>\n",
       "      <td>109</td>\n",
       "      <td>549917</td>\n",
       "      <td>101</td>\n",
       "      <td>581995</td>\n",
       "      <td>756</td>\n",
       "      <td>707</td>\n",
       "      <td>3318</td>\n",
       "      <td>3280</td>\n",
       "    </tr>\n",
       "  </tbody>\n",
       "</table>\n",
       "</div>"
      ],
      "text/plain": [
       "        date  ordersPerDateA  revenuePerDateA  ordersPerDateB  \\\n",
       "0 2019-08-01              24           148579              21   \n",
       "1 2019-08-02              20            93822              24   \n",
       "2 2019-08-03              24           112473              16   \n",
       "3 2019-08-04              16            70825              17   \n",
       "4 2019-08-05              25           124218              23   \n",
       "\n",
       "   revenuePerDateB  ordersCummulativeA  revenueCummulativeA  \\\n",
       "0           101217                  24               148579   \n",
       "1           165531                  44               242401   \n",
       "2           114248                  68               354874   \n",
       "3           108571                  84               425699   \n",
       "4            92428                 109               549917   \n",
       "\n",
       "   ordersCummulativeB  revenueCummulativeB  visitorsPerDateA  \\\n",
       "0                  21               101217               719   \n",
       "1                  45               266748               619   \n",
       "2                  61               380996               507   \n",
       "3                  78               489567               717   \n",
       "4                 101               581995               756   \n",
       "\n",
       "   visitorsPerDateB  visitorsCummulativeA  visitorsCummulativeB  \n",
       "0               713                   719                   713  \n",
       "1               581                  1338                  1294  \n",
       "2               509                  1845                  1803  \n",
       "3               770                  2562                  2573  \n",
       "4               707                  3318                  3280  "
      ]
     },
     "execution_count": 43,
     "metadata": {},
     "output_type": "execute_result"
    }
   ],
   "source": [
    "data = ordersADaily.merge(ordersBDaily, left_on='date', right_on='date', how='left')\\\n",
    "    .merge(ordersACummulative, left_on='date', right_on='date', how='left')\\\n",
    "    .merge(ordersBCummulative, left_on='date', right_on='date', how='left')\\\n",
    "    .merge(visitorsADaily, left_on='date', right_on='date', how='left')\\\n",
    "    .merge(visitorsBDaily, left_on='date', right_on='date', how='left')\\\n",
    "    .merge(visitorsACummulative, left_on='date', right_on='date', how='left')\\\n",
    "    .merge(visitorsBCummulative, left_on='date', right_on='date', how='left')\n",
    "data.head(5)"
   ]
  },
  {
   "cell_type": "markdown",
   "metadata": {},
   "source": [
    "Посчитаем статистическую значимость различия в среднем количестве заказов между группами. Создадим переменные ordersByUsersA и ordersByUsersB "
   ]
  },
  {
   "cell_type": "code",
   "execution_count": 44,
   "metadata": {},
   "outputs": [],
   "source": [
    "ordersByUsersA = orders[orders['group']=='A'].groupby('visitorId', as_index=False).agg({'transactionId' : pd.Series.nunique})\n",
    "ordersByUsersA.columns = ['userId', 'orders']\n",
    "\n",
    "ordersByUsersB = orders[orders['group']=='B'].groupby('visitorId', as_index=False).agg({'transactionId' : pd.Series.nunique})\n",
    "ordersByUsersB.columns = ['userId', 'orders']"
   ]
  },
  {
   "cell_type": "markdown",
   "metadata": {},
   "source": [
    "Объявим переменные sampleA и sampleB, в которых пользователям из разных групп будет соответствовать количество заказов. Тем, кто ничего не заказал, будут соответствовать нули. "
   ]
  },
  {
   "cell_type": "code",
   "execution_count": 45,
   "metadata": {},
   "outputs": [],
   "source": [
    "sampleA = pd.concat([ordersByUsersA['orders'],pd.Series(0, index=np.arange(data['visitorsPerDateA'].sum() - len(ordersByUsersA['orders'])), name='orders')],axis=0)\n",
    "\n",
    "sampleB = pd.concat([ordersByUsersB['orders'],pd.Series(0, index=np.arange(data['visitorsPerDateB'].sum() - len(ordersByUsersB['orders'])), name='orders')],axis=0)\n"
   ]
  },
  {
   "cell_type": "markdown",
   "metadata": {},
   "source": [
    "Выведем относительный прирост конверсии группы B: конверсия группы B / конверсия группы A - 1. Округлим до трёх знаков после запятой"
   ]
  },
  {
   "cell_type": "markdown",
   "metadata": {},
   "source": [
    "Так же сформируем нулевую и альтернативную гипотезы. Нулевая гипотеза говорит о том, что статистическая значимость в количестве заказов и среднемк чеке не значительна и сделать вывод о различии нельзя, альтернативная гипотеза говорит о том, что статистическая значимость в количестве заказов и среднемк чеке значитаельная и между выборками имеется статистическая значимость. Порогом статистической значимости установим alpha=.05\n",
    "\n",
    "Для расчета р-value, используем непараметрический тест Уилкоксона-Манна-Уитни"
   ]
  },
  {
   "cell_type": "code",
   "execution_count": 46,
   "metadata": {},
   "outputs": [
    {
     "name": "stdout",
     "output_type": "stream",
     "text": [
      "alpha = 0.05\n",
      "p-value = 0.017\n",
      "Относительный прирост конверсии групп В и А: 0.138\n"
     ]
    }
   ],
   "source": [
    "print('alpha =',0.05)\n",
    "print('p-value = {0:.3f}'.format(stats.mannwhitneyu(sampleA, sampleB)[1]))\n",
    "print('Относительный прирост конверсии групп В и А: {0:.3f}'.format(sampleB.mean() / sampleA.mean() - 1))"
   ]
  },
  {
   "cell_type": "markdown",
   "metadata": {},
   "source": [
    "**Вывод:**\n",
    "\n",
    "P-value значительно меньше 0.05, значит стоит отвергнуть нулевую гипотезу, это значит: по «сырым» данным различия в конверсии групп A и B есть.\n",
    "\n",
    "Относительный прирост группы В к группе А равен 13.8%."
   ]
  },
  {
   "cell_type": "markdown",
   "metadata": {},
   "source": [
    "### Посчитайте статистическую значимость различий в среднем чеке заказа между группами по «сырым» данным. "
   ]
  },
  {
   "cell_type": "markdown",
   "metadata": {},
   "source": [
    "За нулевую гипотезу возьмём что: \"статистически значимых различий в средних чеках между группами нет', тогда альтернативная гипотеза будет гласить - статистически значимые различия есть."
   ]
  },
  {
   "cell_type": "code",
   "execution_count": 47,
   "metadata": {},
   "outputs": [
    {
     "name": "stdout",
     "output_type": "stream",
     "text": [
      "alpha = 0.05\n",
      "p-value = 0.729\n",
      "Относительный прирост конверсии групп В и А: 0.259\n"
     ]
    }
   ],
   "source": [
    "print('alpha =',0.05)\n",
    "print('p-value = {0:.3f}'.format(stats.mannwhitneyu(orders[orders['group']=='A']['revenue'], orders[orders['group']=='B']['revenue'], alternative = 'two-sided')[1]))\n",
    "print('Относительный прирост конверсии групп В и А: {0:.3f}'.format(orders[orders['group']=='B']['revenue'].mean()/orders[orders['group']=='A']['revenue'].mean()-1)) \n"
   ]
  },
  {
   "cell_type": "markdown",
   "metadata": {},
   "source": [
    "P-value значительно больше 0.05, значит, причин отвергать нулевую гипотезу и считать, что в среднем чеке есть различия, нет.\n",
    "\n",
    "Относительное различие между чеками около 26%."
   ]
  },
  {
   "cell_type": "markdown",
   "metadata": {},
   "source": [
    "### Посчитайте статистическую значимость различий в среднем количестве заказов на посетителя между группами по «очищенным» данным."
   ]
  },
  {
   "cell_type": "markdown",
   "metadata": {},
   "source": [
    "Сделаем срезы пользователей с числом заказов больше 2 — usersWithManyOrders и пользователей, совершивших заказы дороже 58233.2  — usersWithExpensiveOrders. Объединим их в таблице abnormalUsers."
   ]
  },
  {
   "cell_type": "code",
   "execution_count": 48,
   "metadata": {},
   "outputs": [
    {
     "data": {
      "text/plain": [
       "1099    148427295\n",
       "18      199603092\n",
       "23      237748145\n",
       "37      249864742\n",
       "68      457167155\n",
       "dtype: int64"
      ]
     },
     "execution_count": 48,
     "metadata": {},
     "output_type": "execute_result"
    }
   ],
   "source": [
    "usersWithManyOrders = pd.concat([ordersByUsersA[ordersByUsersA['orders'] > 2]['userId'], ordersByUsersB[ordersByUsersB['orders'] > 2]['userId']], axis = 0)\n",
    "usersWithExpensiveOrders = orders[orders['revenue'] > int(np.percentile(orders['revenue'], [99]))]['visitorId']\n",
    "abnormalUsers = pd.concat([usersWithManyOrders, usersWithExpensiveOrders], axis = 0).drop_duplicates().sort_values()\n",
    "abnormalUsers.head(5)\n",
    "#orders[orders['revenue'] > 58233.2]['visitorId']"
   ]
  },
  {
   "cell_type": "code",
   "execution_count": 49,
   "metadata": {},
   "outputs": [
    {
     "name": "stdout",
     "output_type": "stream",
     "text": [
      "31\n"
     ]
    }
   ],
   "source": [
    "#Всего аномальных пользователей\n",
    "print(abnormalUsers.shape[0])"
   ]
  },
  {
   "cell_type": "markdown",
   "metadata": {},
   "source": [
    "Узнаем, как их действия повлияли на результаты теста. Посчитаем статистическую значимость различий в среднем количестве заказов между группами теста по очищенным данным. Сначала подготовим выборки количества заказов по пользователям по группам теста:"
   ]
  },
  {
   "cell_type": "code",
   "execution_count": 50,
   "metadata": {},
   "outputs": [],
   "source": [
    "sampleAFiltered = pd.concat(\n",
    "    [\n",
    "        ordersByUsersA[\n",
    "            np.logical_not(ordersByUsersA['userId'].isin(abnormalUsers))\n",
    "        ]['orders'],\n",
    "        pd.Series(\n",
    "            0,\n",
    "            index=np.arange(\n",
    "                data['visitorsPerDateA'].sum() - len(ordersByUsersA['orders'])\n",
    "            ),\n",
    "            name='orders',\n",
    "        ),\n",
    "    ],\n",
    "    axis=0,\n",
    ")\n",
    "\n",
    "sampleBFiltered = pd.concat(\n",
    "    [\n",
    "        ordersByUsersB[\n",
    "            np.logical_not(ordersByUsersB['userId'].isin(abnormalUsers))\n",
    "        ]['orders'],\n",
    "        pd.Series(\n",
    "            0,\n",
    "            index=np.arange(\n",
    "                data['visitorsPerDateB'].sum() - len(ordersByUsersB['orders'])\n",
    "            ),\n",
    "            name='orders',\n",
    "        ),\n",
    "    ],\n",
    "    axis=0,\n",
    ")"
   ]
  },
  {
   "cell_type": "code",
   "execution_count": 51,
   "metadata": {},
   "outputs": [
    {
     "data": {
      "text/plain": [
       "(0    18233\n",
       " 1      461\n",
       " 2       17\n",
       " Name: orders, dtype: int64,\n",
       " 0    18330\n",
       " 1      543\n",
       " 2       22\n",
       " Name: orders, dtype: int64)"
      ]
     },
     "execution_count": 51,
     "metadata": {},
     "output_type": "execute_result"
    }
   ],
   "source": [
    "sampleAFiltered.value_counts() , sampleBFiltered.value_counts()"
   ]
  },
  {
   "cell_type": "markdown",
   "metadata": {},
   "source": [
    "Применим статистический критерий Манна-Уитни к полученным выборкам\n",
    "\n",
    "За нулевую гипотезу возьмём что: 'статистически значимых различий в конверсии между группами нет', тогда альтернативная гипотеза будет гласить - статистически значимые различия есть."
   ]
  },
  {
   "cell_type": "code",
   "execution_count": 52,
   "metadata": {},
   "outputs": [
    {
     "name": "stdout",
     "output_type": "stream",
     "text": [
      "alpha = 0.05\n",
      "p-value = 0.010\n",
      "Относительный прирост конверсии групп В и А: 0.174\n"
     ]
    }
   ],
   "source": [
    "print('alpha =',0.05)\n",
    "print('p-value = {0:.3f}'.format(stats.mannwhitneyu(sampleAFiltered, sampleBFiltered)[1]))\n",
    "print('Относительный прирост конверсии групп В и А: {0:.3f}'.format(sampleBFiltered.mean()/sampleAFiltered.mean()-1)) "
   ]
  },
  {
   "cell_type": "markdown",
   "metadata": {},
   "source": [
    "**Вывод:** \n",
    "\n",
    "P-value = 0.01 меньше 0.05. Значит, нулевую гипотезу о том, что статистически значимых различий в конверсии между группами нет, - отвергаем, это значит,что  по «очищенным» данным различия в конверсии групп A и B есть."
   ]
  },
  {
   "cell_type": "markdown",
   "metadata": {},
   "source": [
    "### Посчитайте статистическую значимость различий в среднем чеке заказа между группами по «очищенным» данным. "
   ]
  },
  {
   "cell_type": "markdown",
   "metadata": {},
   "source": [
    "За нулевую гипотезу возьмём что: 'статистически значимых различий в средних чеках между группами нет', тогда альтернативная гипотеза будет гласить - статистически значимые различия есть."
   ]
  },
  {
   "cell_type": "code",
   "execution_count": 53,
   "metadata": {},
   "outputs": [
    {
     "name": "stdout",
     "output_type": "stream",
     "text": [
      "alpha = 0.05\n",
      "p-value = 0.798\n",
      "Относительный прирост конверсии групп В и А:-0.020\n"
     ]
    }
   ],
   "source": [
    "print('alpha =',0.05)\n",
    "print(\n",
    "    'p-value = {0:.3f}'.format(\n",
    "        stats.mannwhitneyu(\n",
    "            orders[\n",
    "                np.logical_and(\n",
    "                    orders['group'] == 'A',\n",
    "                    np.logical_not(orders['visitorId'].isin(abnormalUsers)),\n",
    "                )\n",
    "            ]['revenue'],\n",
    "            orders[\n",
    "                np.logical_and(\n",
    "                    orders['group'] == 'B',\n",
    "                    np.logical_not(orders['visitorId'].isin(abnormalUsers)),\n",
    "                )\n",
    "            ]['revenue'],\n",
    "        )[1]\n",
    "    )\n",
    ")\n",
    "\n",
    "print(\n",
    "    'Относительный прирост конверсии групп В и А:{0:.3f}'.format(\n",
    "        orders[\n",
    "            np.logical_and(\n",
    "                orders['group'] == 'B',\n",
    "                np.logical_not(orders['visitorId'].isin(abnormalUsers)),\n",
    "            )\n",
    "        ]['revenue'].mean()\n",
    "        / orders[\n",
    "            np.logical_and(\n",
    "                orders['group'] == 'A',\n",
    "                np.logical_not(orders['visitorId'].isin(abnormalUsers)),\n",
    "            )\n",
    "        ]['revenue'].mean()\n",
    "        - 1\n",
    "    )\n",
    ")"
   ]
  },
  {
   "cell_type": "markdown",
   "metadata": {},
   "source": [
    "**Вывод:**\n",
    "\n",
    "P-value значительно больше 0.05. Значит, нулевую гипотезу о том, статистически значимых различий в средних чеках между группами нет - не отвергаем .\n",
    "\n",
    "Средний чек группы B оказался незначительно (на 2%) ниже среднего чека группы A."
   ]
  },
  {
   "cell_type": "markdown",
   "metadata": {},
   "source": [
    "### Примите решение по результатам теста и объясните его. Варианты решений:\n",
    "1. Остановить тест, зафиксировать победу одной из групп.\n",
    "2. Остановить тест, зафиксировать отсутствие различий между группами.\n",
    "3. Продолжить тест."
   ]
  },
  {
   "cell_type": "markdown",
   "metadata": {},
   "source": [
    "1. И по 'сырым' и по 'очищенным' данным различия в конверсии групп A и B есть\n",
    "2. Оказалось, что и по 'сырым' и по 'очищенным' данным различия в средних чеках групп A и B отстутствуют\n",
    "\n",
    "Средний чек группы B оказался незначительно (на 2%) ниже среднего чека группы A, однако в 'сырых' данных он был больше,это обусловлено аномальным заказом номер 425 на 1.2+ млн\n"
   ]
  },
  {
   "cell_type": "markdown",
   "metadata": {},
   "source": [
    "Данная разница показателей между группами и до и после очистки данных является значимой, что пользволяет нам сделать вывод о том, что мы можем остановить наш A/B тест и зафиксировать победу группы B.\n",
    "\n",
    "Выбираем 1 вариант(Остановить тест и зафиксировать победу одной из групп)"
   ]
  },
  {
   "cell_type": "markdown",
   "metadata": {},
   "source": [
    "**Общий вывод:**\n",
    "Часть 1\n",
    "- В предобработке проверили данные на корректность,проверили дубликаты,изменили тип данных ,если это требовалось и проверили пользователей на нахождение в обеих группах А и В\n",
    "\n",
    "- В приоритезации гипотез применили фреймворки RICE и ICE , параметр reach существенно влияет на приоритезацию некоторых гипотез.\n",
    "\n",
    "\n",
    "======================================================================================================================\n",
    "\n",
    "Часть 2\n",
    "- Рассчитали количество клиентов в группах A и В ,а так же на число покупок\n",
    "\n",
    " Построили и рассмотрели графики: \n",
    " 1. Кумулятивной выручки по группам.\n",
    " 2. Кумулятивного среднего чека по группам.\n",
    " 3. Относительного изменения кумулятивного среднего чека группы B к группе A.\n",
    " 4. Кумулятивного среднего количества заказов на посетителя по группам.\n",
    " 5. Относительного изменения кумулятивного среднего количества заказов на посетителя группы B к группе A.\n",
    " 6. Точечный график количества заказов по пользователям.\n",
    " \n",
    " Посчитали 95-й и 99-й перцентили количества заказов на пользователя и выбрали границы,ту же операцию проделали с стоимостью  заказов.\n",
    "\n",
    "\n",
    "- Посчитали статистическую значимость различий в среднем количестве заказов на посетителя между группами по «сырым» и «очищенным» данным.\n",
    "\n",
    "- Посчитали статистическую значимость различий в среднем чеке заказа между группами по «сырым» и «очищенным» данным.\n",
    "\n",
    "\n",
    "В итоге закрепив все результаты теста, приняли решени остановить тест и признать победу группы В по ряду причин описанных выше(16  Примите решение по результатам теста и объясните его.)"
   ]
  }
 ],
 "metadata": {
  "ExecuteTimeLog": [
   {
    "duration": 4,
    "start_time": "2023-03-19T15:42:11.980Z"
   },
   {
    "duration": 1168,
    "start_time": "2023-03-19T15:43:08.223Z"
   },
   {
    "duration": 134,
    "start_time": "2023-03-19T15:46:31.394Z"
   },
   {
    "duration": 3,
    "start_time": "2023-03-19T15:46:37.480Z"
   },
   {
    "duration": 45,
    "start_time": "2023-03-19T15:46:37.996Z"
   },
   {
    "duration": 208,
    "start_time": "2023-03-19T15:46:53.055Z"
   },
   {
    "duration": 12,
    "start_time": "2023-03-19T15:48:12.912Z"
   },
   {
    "duration": 12,
    "start_time": "2023-03-19T15:48:13.045Z"
   },
   {
    "duration": 3,
    "start_time": "2023-03-19T15:49:56.073Z"
   },
   {
    "duration": 7,
    "start_time": "2023-03-19T15:49:59.073Z"
   },
   {
    "duration": 3,
    "start_time": "2023-03-19T15:50:33.308Z"
   },
   {
    "duration": 2,
    "start_time": "2023-03-19T15:51:10.075Z"
   },
   {
    "duration": 71,
    "start_time": "2023-03-19T15:51:10.356Z"
   },
   {
    "duration": 9,
    "start_time": "2023-03-19T15:51:11.105Z"
   },
   {
    "duration": 6,
    "start_time": "2023-03-19T15:51:11.596Z"
   },
   {
    "duration": 3,
    "start_time": "2023-03-19T15:51:11.977Z"
   },
   {
    "duration": 9,
    "start_time": "2023-03-19T15:51:21.486Z"
   },
   {
    "duration": 7,
    "start_time": "2023-03-19T15:51:21.645Z"
   },
   {
    "duration": 3,
    "start_time": "2023-03-19T15:51:22.043Z"
   },
   {
    "duration": 10,
    "start_time": "2023-03-19T15:51:48.255Z"
   },
   {
    "duration": 8,
    "start_time": "2023-03-19T15:51:48.403Z"
   },
   {
    "duration": 3,
    "start_time": "2023-03-19T15:52:16.771Z"
   },
   {
    "duration": 6,
    "start_time": "2023-03-19T15:52:19.011Z"
   },
   {
    "duration": 12,
    "start_time": "2023-03-19T15:53:18.870Z"
   },
   {
    "duration": 11,
    "start_time": "2023-03-19T15:53:32.339Z"
   },
   {
    "duration": 2,
    "start_time": "2023-03-19T15:53:49.808Z"
   },
   {
    "duration": 3,
    "start_time": "2023-03-19T16:12:49.793Z"
   },
   {
    "duration": 6,
    "start_time": "2023-03-19T16:12:52.876Z"
   },
   {
    "duration": 5,
    "start_time": "2023-03-19T16:13:11.120Z"
   },
   {
    "duration": 11,
    "start_time": "2023-03-19T16:14:11.477Z"
   },
   {
    "duration": 9,
    "start_time": "2023-03-19T16:14:11.620Z"
   },
   {
    "duration": 255,
    "start_time": "2023-03-19T16:14:12.037Z"
   },
   {
    "duration": 2,
    "start_time": "2023-03-19T16:14:12.477Z"
   },
   {
    "duration": 7,
    "start_time": "2023-03-19T16:14:14.198Z"
   },
   {
    "duration": 1229,
    "start_time": "2023-03-19T16:14:38.765Z"
   },
   {
    "duration": 75,
    "start_time": "2023-03-19T16:14:39.995Z"
   },
   {
    "duration": 11,
    "start_time": "2023-03-19T16:14:40.072Z"
   },
   {
    "duration": 7,
    "start_time": "2023-03-19T16:14:40.085Z"
   },
   {
    "duration": 10,
    "start_time": "2023-03-19T16:14:40.093Z"
   },
   {
    "duration": 2,
    "start_time": "2023-03-19T16:14:40.104Z"
   },
   {
    "duration": 15,
    "start_time": "2023-03-19T16:14:40.108Z"
   },
   {
    "duration": 14,
    "start_time": "2023-03-19T16:14:40.125Z"
   },
   {
    "duration": 28,
    "start_time": "2023-03-19T16:14:40.141Z"
   },
   {
    "duration": 11,
    "start_time": "2023-03-19T16:14:40.171Z"
   },
   {
    "duration": 10,
    "start_time": "2023-03-19T16:14:40.184Z"
   },
   {
    "duration": 13,
    "start_time": "2023-03-19T16:15:44.692Z"
   },
   {
    "duration": 9,
    "start_time": "2023-03-19T16:15:44.832Z"
   },
   {
    "duration": 6,
    "start_time": "2023-03-19T16:15:45.804Z"
   },
   {
    "duration": 10,
    "start_time": "2023-03-19T16:15:49.391Z"
   },
   {
    "duration": 49,
    "start_time": "2023-03-19T16:16:10.664Z"
   },
   {
    "duration": 8,
    "start_time": "2023-03-19T16:16:10.869Z"
   },
   {
    "duration": 5,
    "start_time": "2023-03-19T16:16:14.092Z"
   },
   {
    "duration": 11,
    "start_time": "2023-03-19T16:20:42.034Z"
   },
   {
    "duration": 907,
    "start_time": "2023-03-19T16:21:13.085Z"
   },
   {
    "duration": 0,
    "start_time": "2023-03-19T16:21:13.994Z"
   },
   {
    "duration": 0,
    "start_time": "2023-03-19T16:21:13.995Z"
   },
   {
    "duration": 7,
    "start_time": "2023-03-19T16:21:45.915Z"
   },
   {
    "duration": 9,
    "start_time": "2023-03-19T16:21:46.392Z"
   },
   {
    "duration": 10,
    "start_time": "2023-03-19T16:21:46.715Z"
   },
   {
    "duration": 4,
    "start_time": "2023-03-19T16:22:09.039Z"
   },
   {
    "duration": 4,
    "start_time": "2023-03-19T16:22:11.092Z"
   },
   {
    "duration": 5,
    "start_time": "2023-03-19T16:22:19.164Z"
   },
   {
    "duration": 9,
    "start_time": "2023-03-19T16:22:19.592Z"
   },
   {
    "duration": 10,
    "start_time": "2023-03-19T16:22:20.659Z"
   },
   {
    "duration": 6,
    "start_time": "2023-03-19T16:22:27.437Z"
   },
   {
    "duration": 9,
    "start_time": "2023-03-19T16:22:27.852Z"
   },
   {
    "duration": 9,
    "start_time": "2023-03-19T16:22:28.413Z"
   },
   {
    "duration": 5,
    "start_time": "2023-03-19T16:22:31.888Z"
   },
   {
    "duration": 9,
    "start_time": "2023-03-19T16:22:32.239Z"
   },
   {
    "duration": 10,
    "start_time": "2023-03-19T16:22:32.773Z"
   },
   {
    "duration": 5,
    "start_time": "2023-03-19T16:22:39.448Z"
   },
   {
    "duration": 8,
    "start_time": "2023-03-19T16:22:39.902Z"
   },
   {
    "duration": 9,
    "start_time": "2023-03-19T16:22:40.500Z"
   },
   {
    "duration": 5,
    "start_time": "2023-03-19T16:22:44.456Z"
   },
   {
    "duration": 8,
    "start_time": "2023-03-19T16:22:44.888Z"
   },
   {
    "duration": 12,
    "start_time": "2023-03-19T16:22:45.561Z"
   },
   {
    "duration": 5,
    "start_time": "2023-03-19T16:22:50.249Z"
   },
   {
    "duration": 9,
    "start_time": "2023-03-19T16:22:50.611Z"
   },
   {
    "duration": 10,
    "start_time": "2023-03-19T16:22:51.310Z"
   },
   {
    "duration": 5,
    "start_time": "2023-03-19T16:22:55.116Z"
   },
   {
    "duration": 13,
    "start_time": "2023-03-19T16:22:55.456Z"
   },
   {
    "duration": 9,
    "start_time": "2023-03-19T16:22:55.926Z"
   },
   {
    "duration": 5,
    "start_time": "2023-03-19T16:23:39.821Z"
   },
   {
    "duration": 10,
    "start_time": "2023-03-19T16:23:40.288Z"
   },
   {
    "duration": 3,
    "start_time": "2023-03-19T16:30:23.435Z"
   },
   {
    "duration": 89,
    "start_time": "2023-03-19T16:30:23.692Z"
   },
   {
    "duration": 13,
    "start_time": "2023-03-19T16:30:27.140Z"
   },
   {
    "duration": 10,
    "start_time": "2023-03-19T16:30:27.315Z"
   },
   {
    "duration": 8,
    "start_time": "2023-03-19T16:30:27.537Z"
   },
   {
    "duration": 3,
    "start_time": "2023-03-19T16:30:27.908Z"
   },
   {
    "duration": 10,
    "start_time": "2023-03-19T16:30:28.910Z"
   },
   {
    "duration": 8,
    "start_time": "2023-03-19T16:30:29.096Z"
   },
   {
    "duration": 14,
    "start_time": "2023-03-19T16:30:29.426Z"
   },
   {
    "duration": 2,
    "start_time": "2023-03-19T16:30:29.616Z"
   },
   {
    "duration": 6,
    "start_time": "2023-03-19T16:30:29.996Z"
   },
   {
    "duration": 9,
    "start_time": "2023-03-19T16:30:30.527Z"
   },
   {
    "duration": 7,
    "start_time": "2023-03-19T16:30:30.708Z"
   },
   {
    "duration": 4,
    "start_time": "2023-03-19T16:30:31.037Z"
   },
   {
    "duration": 2,
    "start_time": "2023-03-19T16:30:31.208Z"
   },
   {
    "duration": 17,
    "start_time": "2023-03-19T16:30:31.553Z"
   },
   {
    "duration": 3,
    "start_time": "2023-03-19T16:30:53.724Z"
   },
   {
    "duration": 85,
    "start_time": "2023-03-19T16:30:53.914Z"
   },
   {
    "duration": 10,
    "start_time": "2023-03-19T16:30:54.315Z"
   },
   {
    "duration": 9,
    "start_time": "2023-03-19T16:30:54.471Z"
   },
   {
    "duration": 8,
    "start_time": "2023-03-19T16:30:54.613Z"
   },
   {
    "duration": 3,
    "start_time": "2023-03-19T16:30:54.912Z"
   },
   {
    "duration": 11,
    "start_time": "2023-03-19T16:30:55.180Z"
   },
   {
    "duration": 8,
    "start_time": "2023-03-19T16:30:55.304Z"
   },
   {
    "duration": 13,
    "start_time": "2023-03-19T16:30:55.599Z"
   },
   {
    "duration": 2,
    "start_time": "2023-03-19T16:30:55.743Z"
   },
   {
    "duration": 6,
    "start_time": "2023-03-19T16:30:56.012Z"
   },
   {
    "duration": 9,
    "start_time": "2023-03-19T16:30:56.422Z"
   },
   {
    "duration": 7,
    "start_time": "2023-03-19T16:30:56.582Z"
   },
   {
    "duration": 5,
    "start_time": "2023-03-19T16:30:56.898Z"
   },
   {
    "duration": 2,
    "start_time": "2023-03-19T16:30:57.044Z"
   },
   {
    "duration": 5,
    "start_time": "2023-03-19T16:30:57.315Z"
   },
   {
    "duration": 3,
    "start_time": "2023-03-19T16:31:47.402Z"
   },
   {
    "duration": 89,
    "start_time": "2023-03-19T16:31:47.752Z"
   },
   {
    "duration": 11,
    "start_time": "2023-03-19T16:31:48.738Z"
   },
   {
    "duration": 5,
    "start_time": "2023-03-19T16:31:49.008Z"
   },
   {
    "duration": 10,
    "start_time": "2023-03-19T16:31:49.248Z"
   },
   {
    "duration": 2,
    "start_time": "2023-03-19T16:31:49.700Z"
   },
   {
    "duration": 11,
    "start_time": "2023-03-19T16:31:50.102Z"
   },
   {
    "duration": 7,
    "start_time": "2023-03-19T16:31:50.304Z"
   },
   {
    "duration": 10,
    "start_time": "2023-03-19T16:31:50.712Z"
   },
   {
    "duration": 2,
    "start_time": "2023-03-19T16:31:50.986Z"
   },
   {
    "duration": 7,
    "start_time": "2023-03-19T16:31:51.503Z"
   },
   {
    "duration": 11,
    "start_time": "2023-03-19T16:31:52.284Z"
   },
   {
    "duration": 7,
    "start_time": "2023-03-19T16:31:52.519Z"
   },
   {
    "duration": 3,
    "start_time": "2023-03-19T16:31:53.031Z"
   },
   {
    "duration": 2,
    "start_time": "2023-03-19T16:31:53.319Z"
   },
   {
    "duration": 5,
    "start_time": "2023-03-19T16:31:53.811Z"
   },
   {
    "duration": 8,
    "start_time": "2023-03-19T16:31:54.712Z"
   },
   {
    "duration": 47,
    "start_time": "2023-03-19T16:31:55.000Z"
   },
   {
    "duration": 9,
    "start_time": "2023-03-19T16:31:55.224Z"
   },
   {
    "duration": 9,
    "start_time": "2023-03-19T16:31:55.501Z"
   },
   {
    "duration": 3,
    "start_time": "2023-03-19T16:33:08.719Z"
   },
   {
    "duration": 87,
    "start_time": "2023-03-19T16:33:09.000Z"
   },
   {
    "duration": 10,
    "start_time": "2023-03-19T16:33:10.125Z"
   },
   {
    "duration": 4,
    "start_time": "2023-03-19T16:33:10.504Z"
   },
   {
    "duration": 7,
    "start_time": "2023-03-19T16:33:10.714Z"
   },
   {
    "duration": 3,
    "start_time": "2023-03-19T16:33:11.120Z"
   },
   {
    "duration": 10,
    "start_time": "2023-03-19T16:33:11.496Z"
   },
   {
    "duration": 7,
    "start_time": "2023-03-19T16:33:11.909Z"
   },
   {
    "duration": 10,
    "start_time": "2023-03-19T16:33:12.606Z"
   },
   {
    "duration": 2,
    "start_time": "2023-03-19T16:33:12.820Z"
   },
   {
    "duration": 7,
    "start_time": "2023-03-19T16:33:13.304Z"
   },
   {
    "duration": 10,
    "start_time": "2023-03-19T16:33:14.006Z"
   },
   {
    "duration": 9,
    "start_time": "2023-03-19T16:33:14.236Z"
   },
   {
    "duration": 4,
    "start_time": "2023-03-19T16:33:14.642Z"
   },
   {
    "duration": 4,
    "start_time": "2023-03-19T16:33:14.858Z"
   },
   {
    "duration": 5,
    "start_time": "2023-03-19T16:33:15.249Z"
   },
   {
    "duration": 7,
    "start_time": "2023-03-19T16:33:15.823Z"
   },
   {
    "duration": 7,
    "start_time": "2023-03-19T16:33:16.010Z"
   },
   {
    "duration": 10,
    "start_time": "2023-03-19T16:33:16.200Z"
   },
   {
    "duration": 14,
    "start_time": "2023-03-19T16:33:16.356Z"
   },
   {
    "duration": 84,
    "start_time": "2023-03-20T08:04:56.944Z"
   },
   {
    "duration": 46,
    "start_time": "2023-03-20T08:05:00.416Z"
   },
   {
    "duration": 1409,
    "start_time": "2023-03-20T08:05:06.452Z"
   },
   {
    "duration": 223,
    "start_time": "2023-03-20T08:05:07.864Z"
   },
   {
    "duration": 15,
    "start_time": "2023-03-20T08:05:08.088Z"
   },
   {
    "duration": 13,
    "start_time": "2023-03-20T08:05:08.105Z"
   },
   {
    "duration": 26,
    "start_time": "2023-03-20T08:05:08.120Z"
   },
   {
    "duration": 3,
    "start_time": "2023-03-20T08:05:08.147Z"
   },
   {
    "duration": 19,
    "start_time": "2023-03-20T08:05:08.152Z"
   },
   {
    "duration": 27,
    "start_time": "2023-03-20T08:05:08.173Z"
   },
   {
    "duration": 15,
    "start_time": "2023-03-20T08:05:08.202Z"
   },
   {
    "duration": 4,
    "start_time": "2023-03-20T08:05:08.220Z"
   },
   {
    "duration": 8,
    "start_time": "2023-03-20T08:05:08.226Z"
   },
   {
    "duration": 18,
    "start_time": "2023-03-20T08:05:08.236Z"
   },
   {
    "duration": 12,
    "start_time": "2023-03-20T08:05:08.256Z"
   },
   {
    "duration": 30,
    "start_time": "2023-03-20T08:05:08.270Z"
   },
   {
    "duration": 9,
    "start_time": "2023-03-20T08:05:08.302Z"
   },
   {
    "duration": 8,
    "start_time": "2023-03-20T08:05:08.313Z"
   },
   {
    "duration": 15,
    "start_time": "2023-03-20T08:05:08.323Z"
   },
   {
    "duration": 14,
    "start_time": "2023-03-20T08:05:08.340Z"
   },
   {
    "duration": 17,
    "start_time": "2023-03-20T08:05:08.355Z"
   },
   {
    "duration": 22,
    "start_time": "2023-03-20T08:05:08.374Z"
   },
   {
    "duration": 18,
    "start_time": "2023-03-20T08:05:08.398Z"
   },
   {
    "duration": 11,
    "start_time": "2023-03-20T08:09:31.033Z"
   },
   {
    "duration": 9,
    "start_time": "2023-03-20T08:11:09.404Z"
   },
   {
    "duration": 106,
    "start_time": "2023-03-20T08:12:05.556Z"
   },
   {
    "duration": 78,
    "start_time": "2023-03-20T08:12:10.724Z"
   },
   {
    "duration": 73,
    "start_time": "2023-03-20T08:12:43.767Z"
   },
   {
    "duration": 96,
    "start_time": "2023-03-20T08:12:46.941Z"
   },
   {
    "duration": 95,
    "start_time": "2023-03-20T08:12:51.663Z"
   },
   {
    "duration": 6,
    "start_time": "2023-03-20T08:13:03.589Z"
   },
   {
    "duration": 78,
    "start_time": "2023-03-20T08:13:21.072Z"
   },
   {
    "duration": 10,
    "start_time": "2023-03-20T08:13:52.018Z"
   },
   {
    "duration": 103,
    "start_time": "2023-03-20T08:14:56.999Z"
   },
   {
    "duration": 10,
    "start_time": "2023-03-20T08:15:17.698Z"
   },
   {
    "duration": 93,
    "start_time": "2023-03-20T08:15:35.549Z"
   },
   {
    "duration": 12,
    "start_time": "2023-03-20T08:15:38.407Z"
   },
   {
    "duration": 10,
    "start_time": "2023-03-20T08:16:45.961Z"
   },
   {
    "duration": 13,
    "start_time": "2023-03-20T08:17:07.237Z"
   },
   {
    "duration": 9,
    "start_time": "2023-03-20T08:17:30.379Z"
   },
   {
    "duration": 9,
    "start_time": "2023-03-20T08:17:48.101Z"
   },
   {
    "duration": 32,
    "start_time": "2023-03-20T08:22:25.241Z"
   },
   {
    "duration": 7,
    "start_time": "2023-03-20T08:23:07.626Z"
   },
   {
    "duration": 315,
    "start_time": "2023-03-20T08:23:09.866Z"
   },
   {
    "duration": 333,
    "start_time": "2023-03-20T08:23:20.100Z"
   },
   {
    "duration": 294,
    "start_time": "2023-03-20T08:23:34.245Z"
   },
   {
    "duration": 307,
    "start_time": "2023-03-20T08:24:04.539Z"
   },
   {
    "duration": 13,
    "start_time": "2023-03-20T08:25:09.289Z"
   },
   {
    "duration": 340,
    "start_time": "2023-03-20T08:25:31.492Z"
   },
   {
    "duration": 325,
    "start_time": "2023-03-20T08:25:46.507Z"
   },
   {
    "duration": 224,
    "start_time": "2023-03-20T08:26:02.588Z"
   },
   {
    "duration": 325,
    "start_time": "2023-03-20T08:31:09.298Z"
   },
   {
    "duration": 230,
    "start_time": "2023-03-20T08:31:10.043Z"
   },
   {
    "duration": 264,
    "start_time": "2023-03-20T08:32:01.101Z"
   },
   {
    "duration": 226,
    "start_time": "2023-03-20T08:33:19.811Z"
   },
   {
    "duration": 12,
    "start_time": "2023-03-20T08:41:12.604Z"
   },
   {
    "duration": 11,
    "start_time": "2023-03-20T08:41:19.950Z"
   },
   {
    "duration": 4,
    "start_time": "2023-03-20T08:42:20.280Z"
   },
   {
    "duration": 13,
    "start_time": "2023-03-20T08:42:22.473Z"
   },
   {
    "duration": 351,
    "start_time": "2023-03-20T08:43:51.518Z"
   },
   {
    "duration": 293,
    "start_time": "2023-03-20T08:44:30.200Z"
   },
   {
    "duration": 346,
    "start_time": "2023-03-20T08:45:24.070Z"
   },
   {
    "duration": 171,
    "start_time": "2023-03-20T08:56:18.831Z"
   },
   {
    "duration": 185,
    "start_time": "2023-03-20T08:56:29.516Z"
   },
   {
    "duration": 219,
    "start_time": "2023-03-20T08:56:49.010Z"
   },
   {
    "duration": 200,
    "start_time": "2023-03-20T08:57:57.314Z"
   },
   {
    "duration": 239,
    "start_time": "2023-03-20T08:58:17.703Z"
   },
   {
    "duration": 261,
    "start_time": "2023-03-20T08:58:29.653Z"
   },
   {
    "duration": 324,
    "start_time": "2023-03-20T08:58:39.037Z"
   },
   {
    "duration": 227,
    "start_time": "2023-03-20T08:58:42.624Z"
   },
   {
    "duration": 332,
    "start_time": "2023-03-20T08:59:03.872Z"
   },
   {
    "duration": 214,
    "start_time": "2023-03-20T08:59:17.513Z"
   },
   {
    "duration": 7,
    "start_time": "2023-03-20T09:06:39.333Z"
   },
   {
    "duration": 268,
    "start_time": "2023-03-20T09:07:28.910Z"
   },
   {
    "duration": 334,
    "start_time": "2023-03-20T09:07:38.536Z"
   },
   {
    "duration": 344,
    "start_time": "2023-03-20T09:07:49.123Z"
   },
   {
    "duration": 323,
    "start_time": "2023-03-20T09:08:23.269Z"
   },
   {
    "duration": 355,
    "start_time": "2023-03-20T09:08:40.473Z"
   },
   {
    "duration": 332,
    "start_time": "2023-03-20T09:10:00.803Z"
   },
   {
    "duration": 376,
    "start_time": "2023-03-20T09:10:18.271Z"
   },
   {
    "duration": 422,
    "start_time": "2023-03-20T09:11:58.488Z"
   },
   {
    "duration": 358,
    "start_time": "2023-03-20T09:12:18.123Z"
   },
   {
    "duration": 343,
    "start_time": "2023-03-20T09:12:29.324Z"
   },
   {
    "duration": 326,
    "start_time": "2023-03-20T09:12:40.107Z"
   },
   {
    "duration": 9,
    "start_time": "2023-03-20T09:19:22.714Z"
   },
   {
    "duration": 13,
    "start_time": "2023-03-20T09:21:35.719Z"
   },
   {
    "duration": 12,
    "start_time": "2023-03-20T09:22:19.072Z"
   },
   {
    "duration": 15,
    "start_time": "2023-03-20T09:22:47.740Z"
   },
   {
    "duration": 12,
    "start_time": "2023-03-20T09:23:56.705Z"
   },
   {
    "duration": 12,
    "start_time": "2023-03-20T09:24:07.739Z"
   },
   {
    "duration": 15,
    "start_time": "2023-03-20T09:24:11.212Z"
   },
   {
    "duration": 12,
    "start_time": "2023-03-20T09:24:15.604Z"
   },
   {
    "duration": 132,
    "start_time": "2023-03-20T09:25:59.512Z"
   },
   {
    "duration": 78,
    "start_time": "2023-03-20T09:26:48.612Z"
   },
   {
    "duration": 155,
    "start_time": "2023-03-20T09:27:14.306Z"
   },
   {
    "duration": 136,
    "start_time": "2023-03-20T09:28:05.069Z"
   },
   {
    "duration": 5,
    "start_time": "2023-03-20T09:31:17.953Z"
   },
   {
    "duration": 4,
    "start_time": "2023-03-20T09:32:20.164Z"
   },
   {
    "duration": 5,
    "start_time": "2023-03-20T09:32:24.864Z"
   },
   {
    "duration": 96,
    "start_time": "2023-03-20T09:34:04.263Z"
   },
   {
    "duration": 11,
    "start_time": "2023-03-20T09:34:08.119Z"
   },
   {
    "duration": 4,
    "start_time": "2023-03-20T09:34:16.224Z"
   },
   {
    "duration": 5,
    "start_time": "2023-03-20T09:34:21.344Z"
   },
   {
    "duration": 153,
    "start_time": "2023-03-20T09:40:14.891Z"
   },
   {
    "duration": 185,
    "start_time": "2023-03-20T09:42:00.219Z"
   },
   {
    "duration": 176,
    "start_time": "2023-03-20T09:50:24.623Z"
   },
   {
    "duration": 170,
    "start_time": "2023-03-20T09:51:41.428Z"
   },
   {
    "duration": 151,
    "start_time": "2023-03-20T09:53:26.531Z"
   },
   {
    "duration": 183,
    "start_time": "2023-03-20T09:53:36.409Z"
   },
   {
    "duration": 151,
    "start_time": "2023-03-20T09:53:58.610Z"
   },
   {
    "duration": 304,
    "start_time": "2023-03-20T09:54:00.931Z"
   },
   {
    "duration": 5,
    "start_time": "2023-03-20T09:56:54.769Z"
   },
   {
    "duration": 109,
    "start_time": "2023-03-20T10:28:40.134Z"
   },
   {
    "duration": 273,
    "start_time": "2023-03-20T10:29:20.099Z"
   },
   {
    "duration": 210,
    "start_time": "2023-03-20T10:29:25.923Z"
   },
   {
    "duration": 210,
    "start_time": "2023-03-20T10:30:59.245Z"
   },
   {
    "duration": 185,
    "start_time": "2023-03-20T10:32:02.996Z"
   },
   {
    "duration": 28,
    "start_time": "2023-03-20T10:32:40.086Z"
   },
   {
    "duration": 1151,
    "start_time": "2023-03-20T10:32:52.272Z"
   },
   {
    "duration": 84,
    "start_time": "2023-03-20T10:32:53.425Z"
   },
   {
    "duration": 13,
    "start_time": "2023-03-20T10:32:53.511Z"
   },
   {
    "duration": 8,
    "start_time": "2023-03-20T10:32:53.526Z"
   },
   {
    "duration": 11,
    "start_time": "2023-03-20T10:32:53.536Z"
   },
   {
    "duration": 3,
    "start_time": "2023-03-20T10:32:53.549Z"
   },
   {
    "duration": 11,
    "start_time": "2023-03-20T10:32:53.553Z"
   },
   {
    "duration": 13,
    "start_time": "2023-03-20T10:32:53.566Z"
   },
   {
    "duration": 15,
    "start_time": "2023-03-20T10:32:53.581Z"
   },
   {
    "duration": 8,
    "start_time": "2023-03-20T10:32:53.599Z"
   },
   {
    "duration": 8,
    "start_time": "2023-03-20T10:32:53.608Z"
   },
   {
    "duration": 10,
    "start_time": "2023-03-20T10:32:53.618Z"
   },
   {
    "duration": 21,
    "start_time": "2023-03-20T10:32:53.630Z"
   },
   {
    "duration": 9,
    "start_time": "2023-03-20T10:32:53.653Z"
   },
   {
    "duration": 4,
    "start_time": "2023-03-20T10:32:53.664Z"
   },
   {
    "duration": 7,
    "start_time": "2023-03-20T10:32:53.670Z"
   },
   {
    "duration": 12,
    "start_time": "2023-03-20T10:32:53.679Z"
   },
   {
    "duration": 18,
    "start_time": "2023-03-20T10:32:53.693Z"
   },
   {
    "duration": 14,
    "start_time": "2023-03-20T10:32:53.713Z"
   },
   {
    "duration": 18,
    "start_time": "2023-03-20T10:32:53.729Z"
   },
   {
    "duration": 11,
    "start_time": "2023-03-20T10:32:53.762Z"
   },
   {
    "duration": 402,
    "start_time": "2023-03-20T10:32:53.775Z"
   },
   {
    "duration": 361,
    "start_time": "2023-03-20T10:32:54.178Z"
   },
   {
    "duration": 228,
    "start_time": "2023-03-20T10:32:54.541Z"
   },
   {
    "duration": 14,
    "start_time": "2023-03-20T10:32:54.771Z"
   },
   {
    "duration": 317,
    "start_time": "2023-03-20T10:32:54.788Z"
   },
   {
    "duration": 229,
    "start_time": "2023-03-20T10:32:55.107Z"
   },
   {
    "duration": 374,
    "start_time": "2023-03-20T10:32:55.339Z"
   },
   {
    "duration": 12,
    "start_time": "2023-03-20T10:32:55.715Z"
   },
   {
    "duration": 139,
    "start_time": "2023-03-20T10:32:55.728Z"
   },
   {
    "duration": 160,
    "start_time": "2023-03-20T10:32:55.868Z"
   },
   {
    "duration": 4,
    "start_time": "2023-03-20T10:32:56.030Z"
   },
   {
    "duration": 182,
    "start_time": "2023-03-20T10:32:56.035Z"
   },
   {
    "duration": 268,
    "start_time": "2023-03-20T10:32:56.219Z"
   },
   {
    "duration": 4,
    "start_time": "2023-03-20T10:32:56.489Z"
   },
   {
    "duration": 231,
    "start_time": "2023-03-20T10:32:56.495Z"
   },
   {
    "duration": 35,
    "start_time": "2023-03-20T10:32:56.728Z"
   },
   {
    "duration": 143,
    "start_time": "2023-03-20T10:48:15.606Z"
   },
   {
    "duration": 7,
    "start_time": "2023-03-20T10:49:15.593Z"
   },
   {
    "duration": 6,
    "start_time": "2023-03-20T10:49:59.748Z"
   },
   {
    "duration": 20,
    "start_time": "2023-03-20T10:52:22.574Z"
   },
   {
    "duration": 26,
    "start_time": "2023-03-20T10:52:38.351Z"
   },
   {
    "duration": 23,
    "start_time": "2023-03-20T10:53:25.456Z"
   },
   {
    "duration": 22,
    "start_time": "2023-03-20T10:54:26.590Z"
   },
   {
    "duration": 22,
    "start_time": "2023-03-20T10:54:30.450Z"
   },
   {
    "duration": 133,
    "start_time": "2023-03-20T10:57:46.186Z"
   },
   {
    "duration": 7,
    "start_time": "2023-03-20T10:57:46.821Z"
   },
   {
    "duration": 34,
    "start_time": "2023-03-20T10:57:48.153Z"
   },
   {
    "duration": 25,
    "start_time": "2023-03-20T10:58:37.441Z"
   },
   {
    "duration": 13,
    "start_time": "2023-03-20T10:59:16.634Z"
   },
   {
    "duration": 11,
    "start_time": "2023-03-20T10:59:19.079Z"
   },
   {
    "duration": 12,
    "start_time": "2023-03-20T10:59:49.353Z"
   },
   {
    "duration": 25,
    "start_time": "2023-03-20T10:59:51.310Z"
   },
   {
    "duration": 13,
    "start_time": "2023-03-20T11:00:37.751Z"
   },
   {
    "duration": 10,
    "start_time": "2023-03-20T11:05:14.600Z"
   },
   {
    "duration": 5,
    "start_time": "2023-03-20T11:05:27.974Z"
   },
   {
    "duration": 9,
    "start_time": "2023-03-20T11:05:30.312Z"
   },
   {
    "duration": 10,
    "start_time": "2023-03-20T11:05:36.239Z"
   },
   {
    "duration": 4,
    "start_time": "2023-03-20T11:05:38.719Z"
   },
   {
    "duration": 101,
    "start_time": "2023-03-20T11:05:50.133Z"
   },
   {
    "duration": 3,
    "start_time": "2023-03-20T11:05:53.662Z"
   },
   {
    "duration": 4,
    "start_time": "2023-03-20T11:06:38.980Z"
   },
   {
    "duration": 4,
    "start_time": "2023-03-20T11:06:50.089Z"
   },
   {
    "duration": 9,
    "start_time": "2023-03-20T11:07:42.563Z"
   },
   {
    "duration": 7,
    "start_time": "2023-03-20T11:07:50.544Z"
   },
   {
    "duration": 12,
    "start_time": "2023-03-20T11:08:07.587Z"
   },
   {
    "duration": 22,
    "start_time": "2023-03-20T11:09:31.399Z"
   },
   {
    "duration": 20,
    "start_time": "2023-03-20T11:09:37.900Z"
   },
   {
    "duration": 74,
    "start_time": "2023-03-20T11:10:25.166Z"
   },
   {
    "duration": 74,
    "start_time": "2023-03-20T11:10:27.960Z"
   },
   {
    "duration": 30,
    "start_time": "2023-03-20T11:10:34.044Z"
   },
   {
    "duration": 20,
    "start_time": "2023-03-20T11:11:37.876Z"
   },
   {
    "duration": 1301,
    "start_time": "2023-03-20T11:15:18.913Z"
   },
   {
    "duration": 1203,
    "start_time": "2023-03-20T11:16:40.078Z"
   },
   {
    "duration": 18,
    "start_time": "2023-03-20T11:17:10.736Z"
   },
   {
    "duration": 1424,
    "start_time": "2023-03-20T11:52:18.453Z"
   },
   {
    "duration": 226,
    "start_time": "2023-03-20T11:52:19.880Z"
   },
   {
    "duration": 20,
    "start_time": "2023-03-20T11:52:20.108Z"
   },
   {
    "duration": 15,
    "start_time": "2023-03-20T11:52:20.131Z"
   },
   {
    "duration": 16,
    "start_time": "2023-03-20T11:52:20.148Z"
   },
   {
    "duration": 4,
    "start_time": "2023-03-20T11:52:20.166Z"
   },
   {
    "duration": 24,
    "start_time": "2023-03-20T11:52:20.172Z"
   },
   {
    "duration": 34,
    "start_time": "2023-03-20T11:52:20.198Z"
   },
   {
    "duration": 22,
    "start_time": "2023-03-20T11:52:20.234Z"
   },
   {
    "duration": 9,
    "start_time": "2023-03-20T11:52:20.259Z"
   },
   {
    "duration": 40,
    "start_time": "2023-03-20T11:52:20.270Z"
   },
   {
    "duration": 30,
    "start_time": "2023-03-20T11:52:20.313Z"
   },
   {
    "duration": 25,
    "start_time": "2023-03-20T11:52:20.346Z"
   },
   {
    "duration": 43,
    "start_time": "2023-03-20T11:52:20.373Z"
   },
   {
    "duration": 17,
    "start_time": "2023-03-20T11:52:20.418Z"
   },
   {
    "duration": 35,
    "start_time": "2023-03-20T11:52:20.437Z"
   },
   {
    "duration": 19,
    "start_time": "2023-03-20T11:52:20.476Z"
   },
   {
    "duration": 24,
    "start_time": "2023-03-20T11:52:20.497Z"
   },
   {
    "duration": 27,
    "start_time": "2023-03-20T11:52:20.523Z"
   },
   {
    "duration": 41,
    "start_time": "2023-03-20T11:52:20.552Z"
   },
   {
    "duration": 25,
    "start_time": "2023-03-20T11:52:20.595Z"
   },
   {
    "duration": 485,
    "start_time": "2023-03-20T11:52:20.622Z"
   },
   {
    "duration": 369,
    "start_time": "2023-03-20T11:52:21.109Z"
   },
   {
    "duration": 240,
    "start_time": "2023-03-20T11:52:21.479Z"
   },
   {
    "duration": 15,
    "start_time": "2023-03-20T11:52:21.721Z"
   },
   {
    "duration": 405,
    "start_time": "2023-03-20T11:52:21.737Z"
   },
   {
    "duration": 276,
    "start_time": "2023-03-20T11:52:22.144Z"
   },
   {
    "duration": 435,
    "start_time": "2023-03-20T11:52:22.423Z"
   },
   {
    "duration": 21,
    "start_time": "2023-03-20T11:52:22.860Z"
   },
   {
    "duration": 150,
    "start_time": "2023-03-20T11:52:22.883Z"
   },
   {
    "duration": 177,
    "start_time": "2023-03-20T11:52:23.035Z"
   },
   {
    "duration": 7,
    "start_time": "2023-03-20T11:52:23.214Z"
   },
   {
    "duration": 184,
    "start_time": "2023-03-20T11:52:23.223Z"
   },
   {
    "duration": 299,
    "start_time": "2023-03-20T11:52:23.409Z"
   },
   {
    "duration": 5,
    "start_time": "2023-03-20T11:52:23.710Z"
   },
   {
    "duration": 243,
    "start_time": "2023-03-20T11:52:23.717Z"
   },
   {
    "duration": 54,
    "start_time": "2023-03-20T11:52:23.963Z"
   },
   {
    "duration": 165,
    "start_time": "2023-03-20T11:52:24.019Z"
   },
   {
    "duration": 6,
    "start_time": "2023-03-20T11:52:24.186Z"
   },
   {
    "duration": 33,
    "start_time": "2023-03-20T11:52:24.194Z"
   },
   {
    "duration": 15,
    "start_time": "2023-03-20T11:52:24.229Z"
   },
   {
    "duration": 35,
    "start_time": "2023-03-20T11:52:24.246Z"
   },
   {
    "duration": 47,
    "start_time": "2023-03-20T11:52:24.283Z"
   },
   {
    "duration": 16,
    "start_time": "2023-03-20T11:52:24.332Z"
   },
   {
    "duration": 12,
    "start_time": "2023-03-20T11:52:24.350Z"
   },
   {
    "duration": 46,
    "start_time": "2023-03-20T11:52:24.365Z"
   },
   {
    "duration": 19,
    "start_time": "2023-03-20T11:52:24.413Z"
   },
   {
    "duration": 1267,
    "start_time": "2023-03-20T12:14:08.635Z"
   },
   {
    "duration": 79,
    "start_time": "2023-03-20T12:14:09.904Z"
   },
   {
    "duration": 14,
    "start_time": "2023-03-20T12:14:09.985Z"
   },
   {
    "duration": 14,
    "start_time": "2023-03-20T12:14:10.000Z"
   },
   {
    "duration": 30,
    "start_time": "2023-03-20T12:14:10.017Z"
   },
   {
    "duration": 15,
    "start_time": "2023-03-20T12:14:10.049Z"
   },
   {
    "duration": 18,
    "start_time": "2023-03-20T12:14:10.066Z"
   },
   {
    "duration": 18,
    "start_time": "2023-03-20T12:14:10.086Z"
   },
   {
    "duration": 17,
    "start_time": "2023-03-20T12:14:10.106Z"
   },
   {
    "duration": 9,
    "start_time": "2023-03-20T12:14:10.125Z"
   },
   {
    "duration": 9,
    "start_time": "2023-03-20T12:14:10.136Z"
   },
   {
    "duration": 11,
    "start_time": "2023-03-20T12:14:10.146Z"
   },
   {
    "duration": 20,
    "start_time": "2023-03-20T12:14:10.159Z"
   },
   {
    "duration": 6,
    "start_time": "2023-03-20T12:14:10.183Z"
   },
   {
    "duration": 7,
    "start_time": "2023-03-20T12:14:10.192Z"
   },
   {
    "duration": 10,
    "start_time": "2023-03-20T12:14:10.201Z"
   },
   {
    "duration": 12,
    "start_time": "2023-03-20T12:14:10.213Z"
   },
   {
    "duration": 8,
    "start_time": "2023-03-20T12:14:10.227Z"
   },
   {
    "duration": 43,
    "start_time": "2023-03-20T12:14:10.237Z"
   },
   {
    "duration": 12,
    "start_time": "2023-03-20T12:14:10.282Z"
   },
   {
    "duration": 9,
    "start_time": "2023-03-20T12:14:10.296Z"
   },
   {
    "duration": 425,
    "start_time": "2023-03-20T12:14:10.307Z"
   },
   {
    "duration": 346,
    "start_time": "2023-03-20T12:14:10.734Z"
   },
   {
    "duration": 227,
    "start_time": "2023-03-20T12:14:11.081Z"
   },
   {
    "duration": 13,
    "start_time": "2023-03-20T12:14:11.310Z"
   },
   {
    "duration": 338,
    "start_time": "2023-03-20T12:14:11.324Z"
   },
   {
    "duration": 248,
    "start_time": "2023-03-20T12:14:11.673Z"
   },
   {
    "duration": 403,
    "start_time": "2023-03-20T12:14:11.923Z"
   },
   {
    "duration": 15,
    "start_time": "2023-03-20T12:14:12.329Z"
   },
   {
    "duration": 170,
    "start_time": "2023-03-20T12:14:12.346Z"
   },
   {
    "duration": 166,
    "start_time": "2023-03-20T12:14:12.518Z"
   },
   {
    "duration": 5,
    "start_time": "2023-03-20T12:14:12.686Z"
   },
   {
    "duration": 191,
    "start_time": "2023-03-20T12:14:12.692Z"
   },
   {
    "duration": 275,
    "start_time": "2023-03-20T12:14:12.885Z"
   },
   {
    "duration": 11,
    "start_time": "2023-03-20T12:14:13.162Z"
   },
   {
    "duration": 226,
    "start_time": "2023-03-20T12:14:13.174Z"
   },
   {
    "duration": 30,
    "start_time": "2023-03-20T12:14:13.402Z"
   },
   {
    "duration": 163,
    "start_time": "2023-03-20T12:14:13.434Z"
   },
   {
    "duration": 7,
    "start_time": "2023-03-20T12:14:13.599Z"
   },
   {
    "duration": 28,
    "start_time": "2023-03-20T12:14:13.608Z"
   },
   {
    "duration": 36,
    "start_time": "2023-03-20T12:14:13.640Z"
   },
   {
    "duration": 11,
    "start_time": "2023-03-20T12:14:13.677Z"
   },
   {
    "duration": 12,
    "start_time": "2023-03-20T12:14:13.690Z"
   },
   {
    "duration": 12,
    "start_time": "2023-03-20T12:14:13.704Z"
   },
   {
    "duration": 11,
    "start_time": "2023-03-20T12:14:13.718Z"
   },
   {
    "duration": 49,
    "start_time": "2023-03-20T12:14:13.730Z"
   },
   {
    "duration": 14,
    "start_time": "2023-03-20T12:14:13.782Z"
   },
   {
    "duration": 94,
    "start_time": "2023-03-20T12:28:33.901Z"
   },
   {
    "duration": 218,
    "start_time": "2023-03-20T12:29:18.090Z"
   },
   {
    "duration": 235,
    "start_time": "2023-03-20T12:29:38.160Z"
   },
   {
    "duration": 9,
    "start_time": "2023-03-20T12:30:27.041Z"
   },
   {
    "duration": 10,
    "start_time": "2023-03-20T12:30:32.093Z"
   },
   {
    "duration": 9,
    "start_time": "2023-03-20T12:30:34.234Z"
   },
   {
    "duration": 11,
    "start_time": "2023-03-20T12:34:02.624Z"
   },
   {
    "duration": 10,
    "start_time": "2023-03-20T12:34:11.198Z"
   },
   {
    "duration": 15,
    "start_time": "2023-03-20T12:35:05.937Z"
   },
   {
    "duration": 124,
    "start_time": "2023-03-20T12:35:17.487Z"
   },
   {
    "duration": 13,
    "start_time": "2023-03-20T12:35:56.361Z"
   },
   {
    "duration": 15,
    "start_time": "2023-03-20T12:36:35.537Z"
   },
   {
    "duration": 16,
    "start_time": "2023-03-20T12:36:42.593Z"
   },
   {
    "duration": 5,
    "start_time": "2023-03-20T12:47:46.548Z"
   },
   {
    "duration": 16,
    "start_time": "2023-03-20T12:47:48.894Z"
   },
   {
    "duration": 17,
    "start_time": "2023-03-20T12:55:08.650Z"
   },
   {
    "duration": 14,
    "start_time": "2023-03-20T12:55:21.470Z"
   },
   {
    "duration": 12,
    "start_time": "2023-03-20T14:51:10.934Z"
   },
   {
    "duration": 81,
    "start_time": "2023-03-20T14:53:45.350Z"
   },
   {
    "duration": 72,
    "start_time": "2023-03-20T14:54:01.890Z"
   },
   {
    "duration": 14,
    "start_time": "2023-03-20T14:54:11.142Z"
   },
   {
    "duration": 7,
    "start_time": "2023-03-20T14:56:46.687Z"
   },
   {
    "duration": 14,
    "start_time": "2023-03-20T14:56:50.307Z"
   },
   {
    "duration": 6,
    "start_time": "2023-03-20T14:57:48.278Z"
   },
   {
    "duration": 11,
    "start_time": "2023-03-20T14:57:49.440Z"
   },
   {
    "duration": 17,
    "start_time": "2023-03-20T14:57:55.829Z"
   },
   {
    "duration": 6,
    "start_time": "2023-03-20T14:58:01.558Z"
   },
   {
    "duration": 11,
    "start_time": "2023-03-20T14:58:01.916Z"
   },
   {
    "duration": 8,
    "start_time": "2023-03-20T14:58:02.077Z"
   },
   {
    "duration": 292,
    "start_time": "2023-03-20T14:58:02.333Z"
   },
   {
    "duration": 0,
    "start_time": "2023-03-20T14:58:02.627Z"
   },
   {
    "duration": 5,
    "start_time": "2023-03-20T14:58:02.751Z"
   },
   {
    "duration": 10,
    "start_time": "2023-03-20T14:58:03.146Z"
   },
   {
    "duration": 6,
    "start_time": "2023-03-20T14:58:03.279Z"
   },
   {
    "duration": 10,
    "start_time": "2023-03-20T14:58:03.550Z"
   },
   {
    "duration": 10,
    "start_time": "2023-03-20T14:58:03.679Z"
   },
   {
    "duration": 9,
    "start_time": "2023-03-20T14:58:04.345Z"
   },
   {
    "duration": 292,
    "start_time": "2023-03-20T14:58:04.605Z"
   },
   {
    "duration": 1113,
    "start_time": "2023-03-20T14:58:16.206Z"
   },
   {
    "duration": 79,
    "start_time": "2023-03-20T14:58:17.321Z"
   },
   {
    "duration": 15,
    "start_time": "2023-03-20T14:58:17.402Z"
   },
   {
    "duration": 8,
    "start_time": "2023-03-20T14:58:17.419Z"
   },
   {
    "duration": 13,
    "start_time": "2023-03-20T14:58:17.429Z"
   },
   {
    "duration": 3,
    "start_time": "2023-03-20T14:58:17.445Z"
   },
   {
    "duration": 15,
    "start_time": "2023-03-20T14:58:17.450Z"
   },
   {
    "duration": 20,
    "start_time": "2023-03-20T14:58:17.466Z"
   },
   {
    "duration": 17,
    "start_time": "2023-03-20T14:58:17.488Z"
   },
   {
    "duration": 5,
    "start_time": "2023-03-20T14:58:17.508Z"
   },
   {
    "duration": 12,
    "start_time": "2023-03-20T14:58:17.514Z"
   },
   {
    "duration": 14,
    "start_time": "2023-03-20T14:58:17.528Z"
   },
   {
    "duration": 30,
    "start_time": "2023-03-20T14:58:17.544Z"
   },
   {
    "duration": 6,
    "start_time": "2023-03-20T14:58:17.575Z"
   },
   {
    "duration": 19,
    "start_time": "2023-03-20T14:58:17.582Z"
   },
   {
    "duration": 13,
    "start_time": "2023-03-20T14:58:17.603Z"
   },
   {
    "duration": 6,
    "start_time": "2023-03-20T14:58:17.618Z"
   },
   {
    "duration": 5,
    "start_time": "2023-03-20T14:58:17.626Z"
   },
   {
    "duration": 12,
    "start_time": "2023-03-20T14:58:17.632Z"
   },
   {
    "duration": 23,
    "start_time": "2023-03-20T14:58:17.645Z"
   },
   {
    "duration": 8,
    "start_time": "2023-03-20T14:58:17.669Z"
   },
   {
    "duration": 18,
    "start_time": "2023-03-20T14:58:17.678Z"
   },
   {
    "duration": 16,
    "start_time": "2023-03-20T14:58:17.698Z"
   },
   {
    "duration": 13,
    "start_time": "2023-03-20T14:58:17.716Z"
   },
   {
    "duration": 318,
    "start_time": "2023-03-20T14:58:17.731Z"
   },
   {
    "duration": 295,
    "start_time": "2023-03-20T14:58:18.051Z"
   },
   {
    "duration": 221,
    "start_time": "2023-03-20T14:58:18.348Z"
   },
   {
    "duration": 12,
    "start_time": "2023-03-20T14:58:18.572Z"
   },
   {
    "duration": 310,
    "start_time": "2023-03-20T14:58:18.585Z"
   },
   {
    "duration": 217,
    "start_time": "2023-03-20T14:58:18.897Z"
   },
   {
    "duration": 338,
    "start_time": "2023-03-20T14:58:19.115Z"
   },
   {
    "duration": 11,
    "start_time": "2023-03-20T14:58:19.460Z"
   },
   {
    "duration": 138,
    "start_time": "2023-03-20T14:58:19.473Z"
   },
   {
    "duration": 141,
    "start_time": "2023-03-20T14:58:19.612Z"
   },
   {
    "duration": 9,
    "start_time": "2023-03-20T14:58:19.755Z"
   },
   {
    "duration": 163,
    "start_time": "2023-03-20T14:58:19.765Z"
   },
   {
    "duration": 249,
    "start_time": "2023-03-20T14:58:19.930Z"
   },
   {
    "duration": 4,
    "start_time": "2023-03-20T14:58:20.181Z"
   },
   {
    "duration": 224,
    "start_time": "2023-03-20T14:58:20.187Z"
   },
   {
    "duration": 32,
    "start_time": "2023-03-20T14:58:20.412Z"
   },
   {
    "duration": 170,
    "start_time": "2023-03-20T14:58:20.446Z"
   },
   {
    "duration": 6,
    "start_time": "2023-03-20T14:58:20.618Z"
   },
   {
    "duration": 38,
    "start_time": "2023-03-20T14:58:20.626Z"
   },
   {
    "duration": 12,
    "start_time": "2023-03-20T14:58:20.666Z"
   },
   {
    "duration": 10,
    "start_time": "2023-03-20T14:58:20.680Z"
   },
   {
    "duration": 13,
    "start_time": "2023-03-20T14:58:20.692Z"
   },
   {
    "duration": 28,
    "start_time": "2023-03-20T14:58:20.707Z"
   },
   {
    "duration": 20,
    "start_time": "2023-03-20T14:58:20.737Z"
   },
   {
    "duration": 41,
    "start_time": "2023-03-20T14:58:20.760Z"
   },
   {
    "duration": 14,
    "start_time": "2023-03-20T14:58:20.803Z"
   },
   {
    "duration": 8,
    "start_time": "2023-03-20T14:58:37.058Z"
   },
   {
    "duration": 13,
    "start_time": "2023-03-20T14:59:04.824Z"
   },
   {
    "duration": 10,
    "start_time": "2023-03-20T15:00:26.017Z"
   },
   {
    "duration": 7,
    "start_time": "2023-03-20T15:02:05.986Z"
   },
   {
    "duration": 8,
    "start_time": "2023-03-20T15:02:07.529Z"
   },
   {
    "duration": 7,
    "start_time": "2023-03-20T15:02:27.421Z"
   },
   {
    "duration": 10,
    "start_time": "2023-03-20T15:02:29.953Z"
   },
   {
    "duration": 9,
    "start_time": "2023-03-20T15:03:19.993Z"
   },
   {
    "duration": 116,
    "start_time": "2023-03-20T15:03:29.024Z"
   },
   {
    "duration": 11,
    "start_time": "2023-03-20T15:04:05.789Z"
   },
   {
    "duration": 11,
    "start_time": "2023-03-20T15:04:09.460Z"
   },
   {
    "duration": 9,
    "start_time": "2023-03-20T15:04:09.725Z"
   },
   {
    "duration": 28,
    "start_time": "2023-03-20T15:04:10.057Z"
   },
   {
    "duration": 1096,
    "start_time": "2023-03-20T15:04:35.887Z"
   },
   {
    "duration": 80,
    "start_time": "2023-03-20T15:04:36.985Z"
   },
   {
    "duration": 13,
    "start_time": "2023-03-20T15:04:37.067Z"
   },
   {
    "duration": 7,
    "start_time": "2023-03-20T15:04:37.082Z"
   },
   {
    "duration": 11,
    "start_time": "2023-03-20T15:04:37.091Z"
   },
   {
    "duration": 2,
    "start_time": "2023-03-20T15:04:37.104Z"
   },
   {
    "duration": 12,
    "start_time": "2023-03-20T15:04:37.108Z"
   },
   {
    "duration": 8,
    "start_time": "2023-03-20T15:04:37.122Z"
   },
   {
    "duration": 43,
    "start_time": "2023-03-20T15:04:37.132Z"
   },
   {
    "duration": 4,
    "start_time": "2023-03-20T15:04:37.177Z"
   },
   {
    "duration": 7,
    "start_time": "2023-03-20T15:04:37.183Z"
   },
   {
    "duration": 13,
    "start_time": "2023-03-20T15:04:37.192Z"
   },
   {
    "duration": 11,
    "start_time": "2023-03-20T15:04:37.207Z"
   },
   {
    "duration": 8,
    "start_time": "2023-03-20T15:04:37.220Z"
   },
   {
    "duration": 145,
    "start_time": "2023-03-20T15:04:37.230Z"
   },
   {
    "duration": 0,
    "start_time": "2023-03-20T15:04:37.378Z"
   },
   {
    "duration": 0,
    "start_time": "2023-03-20T15:04:37.380Z"
   },
   {
    "duration": 0,
    "start_time": "2023-03-20T15:04:37.381Z"
   },
   {
    "duration": 0,
    "start_time": "2023-03-20T15:04:37.383Z"
   },
   {
    "duration": 0,
    "start_time": "2023-03-20T15:04:37.384Z"
   },
   {
    "duration": 0,
    "start_time": "2023-03-20T15:04:37.386Z"
   },
   {
    "duration": 0,
    "start_time": "2023-03-20T15:04:37.387Z"
   },
   {
    "duration": 0,
    "start_time": "2023-03-20T15:04:37.389Z"
   },
   {
    "duration": 0,
    "start_time": "2023-03-20T15:04:37.390Z"
   },
   {
    "duration": 0,
    "start_time": "2023-03-20T15:04:37.391Z"
   },
   {
    "duration": 0,
    "start_time": "2023-03-20T15:04:37.393Z"
   },
   {
    "duration": 0,
    "start_time": "2023-03-20T15:04:37.395Z"
   },
   {
    "duration": 0,
    "start_time": "2023-03-20T15:04:37.396Z"
   },
   {
    "duration": 0,
    "start_time": "2023-03-20T15:04:37.397Z"
   },
   {
    "duration": 0,
    "start_time": "2023-03-20T15:04:37.399Z"
   },
   {
    "duration": 0,
    "start_time": "2023-03-20T15:04:37.400Z"
   },
   {
    "duration": 0,
    "start_time": "2023-03-20T15:04:37.401Z"
   },
   {
    "duration": 0,
    "start_time": "2023-03-20T15:04:37.402Z"
   },
   {
    "duration": 0,
    "start_time": "2023-03-20T15:04:37.404Z"
   },
   {
    "duration": 1,
    "start_time": "2023-03-20T15:04:37.404Z"
   },
   {
    "duration": 0,
    "start_time": "2023-03-20T15:04:37.405Z"
   },
   {
    "duration": 0,
    "start_time": "2023-03-20T15:04:37.406Z"
   },
   {
    "duration": 0,
    "start_time": "2023-03-20T15:04:37.407Z"
   },
   {
    "duration": 0,
    "start_time": "2023-03-20T15:04:37.409Z"
   },
   {
    "duration": 0,
    "start_time": "2023-03-20T15:04:37.462Z"
   },
   {
    "duration": 0,
    "start_time": "2023-03-20T15:04:37.464Z"
   },
   {
    "duration": 0,
    "start_time": "2023-03-20T15:04:37.464Z"
   },
   {
    "duration": 0,
    "start_time": "2023-03-20T15:04:37.466Z"
   },
   {
    "duration": 0,
    "start_time": "2023-03-20T15:04:37.467Z"
   },
   {
    "duration": 0,
    "start_time": "2023-03-20T15:04:37.468Z"
   },
   {
    "duration": 0,
    "start_time": "2023-03-20T15:04:37.469Z"
   },
   {
    "duration": 0,
    "start_time": "2023-03-20T15:04:37.470Z"
   },
   {
    "duration": 0,
    "start_time": "2023-03-20T15:04:37.472Z"
   },
   {
    "duration": 0,
    "start_time": "2023-03-20T15:04:37.473Z"
   },
   {
    "duration": 0,
    "start_time": "2023-03-20T15:04:37.475Z"
   },
   {
    "duration": 0,
    "start_time": "2023-03-20T15:04:37.475Z"
   },
   {
    "duration": 0,
    "start_time": "2023-03-20T15:04:37.476Z"
   },
   {
    "duration": 11,
    "start_time": "2023-03-20T15:05:26.396Z"
   },
   {
    "duration": 8,
    "start_time": "2023-03-20T15:05:26.950Z"
   },
   {
    "duration": 24,
    "start_time": "2023-03-20T15:05:27.312Z"
   },
   {
    "duration": 12,
    "start_time": "2023-03-20T15:05:33.318Z"
   },
   {
    "duration": 8,
    "start_time": "2023-03-20T15:05:33.797Z"
   },
   {
    "duration": 8,
    "start_time": "2023-03-20T15:05:38.092Z"
   },
   {
    "duration": 25,
    "start_time": "2023-03-20T15:05:38.467Z"
   },
   {
    "duration": 27,
    "start_time": "2023-03-20T15:08:25.260Z"
   },
   {
    "duration": 18,
    "start_time": "2023-03-20T15:09:30.254Z"
   },
   {
    "duration": 25,
    "start_time": "2023-03-20T15:09:31.181Z"
   },
   {
    "duration": 10,
    "start_time": "2023-03-20T15:09:38.344Z"
   },
   {
    "duration": 6,
    "start_time": "2023-03-20T15:09:38.886Z"
   },
   {
    "duration": 13,
    "start_time": "2023-03-20T15:09:39.706Z"
   },
   {
    "duration": 10,
    "start_time": "2023-03-20T15:09:52.068Z"
   },
   {
    "duration": 5,
    "start_time": "2023-03-20T15:10:12.830Z"
   },
   {
    "duration": 11,
    "start_time": "2023-03-20T15:10:29.730Z"
   },
   {
    "duration": 8,
    "start_time": "2023-03-20T15:10:30.375Z"
   },
   {
    "duration": 6,
    "start_time": "2023-03-20T15:10:30.865Z"
   },
   {
    "duration": 7,
    "start_time": "2023-03-20T15:11:14.895Z"
   },
   {
    "duration": 5,
    "start_time": "2023-03-20T15:11:42.645Z"
   },
   {
    "duration": 3,
    "start_time": "2023-03-20T15:11:46.134Z"
   },
   {
    "duration": 10,
    "start_time": "2023-03-20T15:12:21.078Z"
   },
   {
    "duration": 14,
    "start_time": "2023-03-20T15:12:27.656Z"
   },
   {
    "duration": 10,
    "start_time": "2023-03-20T15:12:30.694Z"
   },
   {
    "duration": 15,
    "start_time": "2023-03-20T15:12:44.336Z"
   },
   {
    "duration": 14,
    "start_time": "2023-03-20T15:12:49.041Z"
   },
   {
    "duration": 10,
    "start_time": "2023-03-20T15:12:49.456Z"
   },
   {
    "duration": 5,
    "start_time": "2023-03-20T15:12:49.763Z"
   },
   {
    "duration": 10,
    "start_time": "2023-03-20T15:12:50.044Z"
   },
   {
    "duration": 11,
    "start_time": "2023-03-20T15:12:50.435Z"
   },
   {
    "duration": 1193,
    "start_time": "2023-03-20T15:12:56.548Z"
   },
   {
    "duration": 78,
    "start_time": "2023-03-20T15:12:57.743Z"
   },
   {
    "duration": 15,
    "start_time": "2023-03-20T15:12:57.823Z"
   },
   {
    "duration": 14,
    "start_time": "2023-03-20T15:12:57.841Z"
   },
   {
    "duration": 15,
    "start_time": "2023-03-20T15:12:57.857Z"
   },
   {
    "duration": 3,
    "start_time": "2023-03-20T15:12:57.874Z"
   },
   {
    "duration": 16,
    "start_time": "2023-03-20T15:12:57.879Z"
   },
   {
    "duration": 8,
    "start_time": "2023-03-20T15:12:57.897Z"
   },
   {
    "duration": 13,
    "start_time": "2023-03-20T15:12:57.907Z"
   },
   {
    "duration": 4,
    "start_time": "2023-03-20T15:12:57.922Z"
   },
   {
    "duration": 33,
    "start_time": "2023-03-20T15:12:57.928Z"
   },
   {
    "duration": 15,
    "start_time": "2023-03-20T15:12:57.963Z"
   },
   {
    "duration": 18,
    "start_time": "2023-03-20T15:12:57.980Z"
   },
   {
    "duration": 9,
    "start_time": "2023-03-20T15:12:58.000Z"
   },
   {
    "duration": 11,
    "start_time": "2023-03-20T15:12:58.010Z"
   },
   {
    "duration": 13,
    "start_time": "2023-03-20T15:12:58.023Z"
   },
   {
    "duration": 31,
    "start_time": "2023-03-20T15:12:58.038Z"
   },
   {
    "duration": 18,
    "start_time": "2023-03-20T15:12:58.070Z"
   },
   {
    "duration": 16,
    "start_time": "2023-03-20T15:12:58.090Z"
   },
   {
    "duration": 5,
    "start_time": "2023-03-20T15:12:58.108Z"
   },
   {
    "duration": 6,
    "start_time": "2023-03-20T15:12:58.115Z"
   },
   {
    "duration": 7,
    "start_time": "2023-03-20T15:12:58.123Z"
   },
   {
    "duration": 12,
    "start_time": "2023-03-20T15:12:58.132Z"
   },
   {
    "duration": 7,
    "start_time": "2023-03-20T15:12:58.162Z"
   },
   {
    "duration": 11,
    "start_time": "2023-03-20T15:12:58.171Z"
   },
   {
    "duration": 12,
    "start_time": "2023-03-20T15:12:58.184Z"
   },
   {
    "duration": 10,
    "start_time": "2023-03-20T15:12:58.197Z"
   },
   {
    "duration": 345,
    "start_time": "2023-03-20T15:12:58.210Z"
   },
   {
    "duration": 321,
    "start_time": "2023-03-20T15:12:58.556Z"
   },
   {
    "duration": 246,
    "start_time": "2023-03-20T15:12:58.879Z"
   },
   {
    "duration": 13,
    "start_time": "2023-03-20T15:12:59.127Z"
   },
   {
    "duration": 360,
    "start_time": "2023-03-20T15:12:59.142Z"
   },
   {
    "duration": 229,
    "start_time": "2023-03-20T15:12:59.504Z"
   },
   {
    "duration": 388,
    "start_time": "2023-03-20T15:12:59.735Z"
   },
   {
    "duration": 12,
    "start_time": "2023-03-20T15:13:00.125Z"
   },
   {
    "duration": 149,
    "start_time": "2023-03-20T15:13:00.138Z"
   },
   {
    "duration": 157,
    "start_time": "2023-03-20T15:13:00.290Z"
   },
   {
    "duration": 13,
    "start_time": "2023-03-20T15:13:00.449Z"
   },
   {
    "duration": 192,
    "start_time": "2023-03-20T15:13:00.464Z"
   },
   {
    "duration": 256,
    "start_time": "2023-03-20T15:13:00.662Z"
   },
   {
    "duration": 5,
    "start_time": "2023-03-20T15:13:00.920Z"
   },
   {
    "duration": 274,
    "start_time": "2023-03-20T15:13:00.926Z"
   },
   {
    "duration": 28,
    "start_time": "2023-03-20T15:13:01.202Z"
   },
   {
    "duration": 151,
    "start_time": "2023-03-20T15:13:01.232Z"
   },
   {
    "duration": 6,
    "start_time": "2023-03-20T15:13:01.385Z"
   },
   {
    "duration": 52,
    "start_time": "2023-03-20T15:13:01.392Z"
   },
   {
    "duration": 28,
    "start_time": "2023-03-20T15:13:01.446Z"
   },
   {
    "duration": 74,
    "start_time": "2023-03-20T15:13:01.475Z"
   },
   {
    "duration": 66,
    "start_time": "2023-03-20T15:13:01.551Z"
   },
   {
    "duration": 37,
    "start_time": "2023-03-20T15:13:01.619Z"
   },
   {
    "duration": 52,
    "start_time": "2023-03-20T15:13:01.658Z"
   },
   {
    "duration": 45,
    "start_time": "2023-03-20T15:13:01.711Z"
   },
   {
    "duration": 14,
    "start_time": "2023-03-20T15:13:01.758Z"
   },
   {
    "duration": 8,
    "start_time": "2023-03-20T15:13:56.383Z"
   },
   {
    "duration": 6,
    "start_time": "2023-03-20T15:13:56.733Z"
   },
   {
    "duration": 9,
    "start_time": "2023-03-20T15:14:04.415Z"
   },
   {
    "duration": 7,
    "start_time": "2023-03-20T15:14:04.768Z"
   },
   {
    "duration": 12,
    "start_time": "2023-03-20T15:14:05.105Z"
   },
   {
    "duration": 10,
    "start_time": "2023-03-20T15:14:05.585Z"
   },
   {
    "duration": 12,
    "start_time": "2023-03-20T15:14:07.996Z"
   },
   {
    "duration": 23,
    "start_time": "2023-03-20T15:14:53.283Z"
   },
   {
    "duration": 11,
    "start_time": "2023-03-20T15:14:54.465Z"
   },
   {
    "duration": 11,
    "start_time": "2023-03-20T15:14:55.064Z"
   },
   {
    "duration": 3,
    "start_time": "2023-03-20T15:14:55.302Z"
   },
   {
    "duration": 3,
    "start_time": "2023-03-20T15:15:00.136Z"
   },
   {
    "duration": 78,
    "start_time": "2023-03-20T15:15:00.204Z"
   },
   {
    "duration": 15,
    "start_time": "2023-03-20T15:15:00.285Z"
   },
   {
    "duration": 71,
    "start_time": "2023-03-20T15:15:00.312Z"
   },
   {
    "duration": 76,
    "start_time": "2023-03-20T15:15:00.384Z"
   },
   {
    "duration": 29,
    "start_time": "2023-03-20T15:15:00.461Z"
   },
   {
    "duration": 47,
    "start_time": "2023-03-20T15:15:00.492Z"
   },
   {
    "duration": 42,
    "start_time": "2023-03-20T15:15:00.541Z"
   },
   {
    "duration": 126,
    "start_time": "2023-03-20T15:15:00.585Z"
   },
   {
    "duration": 29,
    "start_time": "2023-03-20T15:15:00.713Z"
   },
   {
    "duration": 41,
    "start_time": "2023-03-20T15:15:00.744Z"
   },
   {
    "duration": 46,
    "start_time": "2023-03-20T15:15:00.787Z"
   },
   {
    "duration": 52,
    "start_time": "2023-03-20T15:15:00.835Z"
   },
   {
    "duration": 58,
    "start_time": "2023-03-20T15:15:00.889Z"
   },
   {
    "duration": 58,
    "start_time": "2023-03-20T15:15:00.949Z"
   },
   {
    "duration": 101,
    "start_time": "2023-03-20T15:15:01.009Z"
   },
   {
    "duration": 77,
    "start_time": "2023-03-20T15:15:01.113Z"
   },
   {
    "duration": 49,
    "start_time": "2023-03-20T15:15:01.191Z"
   },
   {
    "duration": 69,
    "start_time": "2023-03-20T15:15:01.242Z"
   },
   {
    "duration": 95,
    "start_time": "2023-03-20T15:15:01.313Z"
   },
   {
    "duration": 65,
    "start_time": "2023-03-20T15:15:01.410Z"
   },
   {
    "duration": 80,
    "start_time": "2023-03-20T15:15:01.477Z"
   },
   {
    "duration": 32,
    "start_time": "2023-03-20T15:15:01.559Z"
   },
   {
    "duration": 57,
    "start_time": "2023-03-20T15:15:01.593Z"
   },
   {
    "duration": 69,
    "start_time": "2023-03-20T15:15:01.651Z"
   },
   {
    "duration": 63,
    "start_time": "2023-03-20T15:15:01.722Z"
   },
   {
    "duration": 55,
    "start_time": "2023-03-20T15:15:01.787Z"
   },
   {
    "duration": 335,
    "start_time": "2023-03-20T15:15:01.843Z"
   },
   {
    "duration": 241,
    "start_time": "2023-03-20T15:15:02.180Z"
   },
   {
    "duration": 234,
    "start_time": "2023-03-20T15:15:02.423Z"
   },
   {
    "duration": 13,
    "start_time": "2023-03-20T15:15:02.662Z"
   },
   {
    "duration": 366,
    "start_time": "2023-03-20T15:15:03.858Z"
   },
   {
    "duration": 238,
    "start_time": "2023-03-20T15:15:05.139Z"
   },
   {
    "duration": 308,
    "start_time": "2023-03-20T15:15:05.912Z"
   },
   {
    "duration": 14,
    "start_time": "2023-03-20T15:15:06.571Z"
   },
   {
    "duration": 120,
    "start_time": "2023-03-20T15:15:06.812Z"
   },
   {
    "duration": 156,
    "start_time": "2023-03-20T15:15:07.170Z"
   },
   {
    "duration": 5,
    "start_time": "2023-03-20T15:15:07.665Z"
   },
   {
    "duration": 173,
    "start_time": "2023-03-20T15:15:08.169Z"
   },
   {
    "duration": 187,
    "start_time": "2023-03-20T15:15:08.565Z"
   },
   {
    "duration": 5,
    "start_time": "2023-03-20T15:15:09.171Z"
   },
   {
    "duration": 229,
    "start_time": "2023-03-20T15:15:09.979Z"
   },
   {
    "duration": 28,
    "start_time": "2023-03-20T15:15:12.010Z"
   },
   {
    "duration": 140,
    "start_time": "2023-03-20T15:15:12.330Z"
   },
   {
    "duration": 7,
    "start_time": "2023-03-20T15:15:12.665Z"
   },
   {
    "duration": 24,
    "start_time": "2023-03-20T15:15:14.607Z"
   },
   {
    "duration": 12,
    "start_time": "2023-03-20T15:15:16.874Z"
   },
   {
    "duration": 13,
    "start_time": "2023-03-20T15:15:17.716Z"
   },
   {
    "duration": 4,
    "start_time": "2023-03-20T15:15:18.038Z"
   },
   {
    "duration": 9,
    "start_time": "2023-03-20T15:15:18.535Z"
   },
   {
    "duration": 6,
    "start_time": "2023-03-20T15:15:18.704Z"
   },
   {
    "duration": 21,
    "start_time": "2023-03-20T15:15:19.611Z"
   },
   {
    "duration": 17,
    "start_time": "2023-03-20T15:15:20.388Z"
   },
   {
    "duration": 222,
    "start_time": "2023-03-20T15:21:35.484Z"
   },
   {
    "duration": 336,
    "start_time": "2023-03-20T15:21:38.364Z"
   },
   {
    "duration": 270,
    "start_time": "2023-03-20T15:21:48.191Z"
   },
   {
    "duration": 250,
    "start_time": "2023-03-20T15:21:53.437Z"
   },
   {
    "duration": 256,
    "start_time": "2023-03-20T15:22:01.519Z"
   },
   {
    "duration": 268,
    "start_time": "2023-03-20T15:22:08.286Z"
   },
   {
    "duration": 228,
    "start_time": "2023-03-20T15:22:12.448Z"
   },
   {
    "duration": 219,
    "start_time": "2023-03-20T15:22:17.846Z"
   },
   {
    "duration": 234,
    "start_time": "2023-03-20T15:22:21.385Z"
   },
   {
    "duration": 260,
    "start_time": "2023-03-20T15:22:25.282Z"
   },
   {
    "duration": 221,
    "start_time": "2023-03-20T15:22:27.444Z"
   },
   {
    "duration": 11,
    "start_time": "2023-03-20T15:37:35.876Z"
   },
   {
    "duration": 14,
    "start_time": "2023-03-20T15:37:39.037Z"
   },
   {
    "duration": 1391,
    "start_time": "2023-03-21T07:32:58.101Z"
   },
   {
    "duration": 235,
    "start_time": "2023-03-21T07:32:59.502Z"
   },
   {
    "duration": 12,
    "start_time": "2023-03-21T07:32:59.739Z"
   },
   {
    "duration": 8,
    "start_time": "2023-03-21T07:32:59.752Z"
   },
   {
    "duration": 18,
    "start_time": "2023-03-21T07:32:59.762Z"
   },
   {
    "duration": 9,
    "start_time": "2023-03-21T07:32:59.782Z"
   },
   {
    "duration": 15,
    "start_time": "2023-03-21T07:32:59.797Z"
   },
   {
    "duration": 10,
    "start_time": "2023-03-21T07:32:59.814Z"
   },
   {
    "duration": 13,
    "start_time": "2023-03-21T07:32:59.826Z"
   },
   {
    "duration": 9,
    "start_time": "2023-03-21T07:32:59.840Z"
   },
   {
    "duration": 19,
    "start_time": "2023-03-21T07:32:59.851Z"
   },
   {
    "duration": 32,
    "start_time": "2023-03-21T07:32:59.872Z"
   },
   {
    "duration": 13,
    "start_time": "2023-03-21T07:32:59.906Z"
   },
   {
    "duration": 8,
    "start_time": "2023-03-21T07:32:59.922Z"
   },
   {
    "duration": 5,
    "start_time": "2023-03-21T07:32:59.932Z"
   },
   {
    "duration": 24,
    "start_time": "2023-03-21T07:32:59.938Z"
   },
   {
    "duration": 37,
    "start_time": "2023-03-21T07:32:59.964Z"
   },
   {
    "duration": 19,
    "start_time": "2023-03-21T07:33:00.003Z"
   },
   {
    "duration": 30,
    "start_time": "2023-03-21T07:33:00.023Z"
   },
   {
    "duration": 25,
    "start_time": "2023-03-21T07:33:00.055Z"
   },
   {
    "duration": 32,
    "start_time": "2023-03-21T07:33:00.082Z"
   },
   {
    "duration": 91,
    "start_time": "2023-03-21T07:33:00.116Z"
   },
   {
    "duration": 22,
    "start_time": "2023-03-21T07:33:00.209Z"
   },
   {
    "duration": 42,
    "start_time": "2023-03-21T07:33:00.233Z"
   },
   {
    "duration": 48,
    "start_time": "2023-03-21T07:33:00.276Z"
   },
   {
    "duration": 15,
    "start_time": "2023-03-21T07:33:00.326Z"
   },
   {
    "duration": 11,
    "start_time": "2023-03-21T07:33:00.343Z"
   },
   {
    "duration": 343,
    "start_time": "2023-03-21T07:33:00.357Z"
   },
   {
    "duration": 325,
    "start_time": "2023-03-21T07:33:00.702Z"
   },
   {
    "duration": 248,
    "start_time": "2023-03-21T07:33:01.028Z"
   },
   {
    "duration": 25,
    "start_time": "2023-03-21T07:33:01.278Z"
   },
   {
    "duration": 335,
    "start_time": "2023-03-21T07:33:01.305Z"
   },
   {
    "duration": 238,
    "start_time": "2023-03-21T07:33:01.642Z"
   },
   {
    "duration": 378,
    "start_time": "2023-03-21T07:33:01.882Z"
   },
   {
    "duration": 10,
    "start_time": "2023-03-21T07:33:02.262Z"
   },
   {
    "duration": 144,
    "start_time": "2023-03-21T07:33:02.274Z"
   },
   {
    "duration": 151,
    "start_time": "2023-03-21T07:33:02.420Z"
   },
   {
    "duration": 4,
    "start_time": "2023-03-21T07:33:02.573Z"
   },
   {
    "duration": 180,
    "start_time": "2023-03-21T07:33:02.591Z"
   },
   {
    "duration": 269,
    "start_time": "2023-03-21T07:33:02.773Z"
   },
   {
    "duration": 5,
    "start_time": "2023-03-21T07:33:03.046Z"
   },
   {
    "duration": 211,
    "start_time": "2023-03-21T07:33:03.052Z"
   },
   {
    "duration": 39,
    "start_time": "2023-03-21T07:33:03.264Z"
   },
   {
    "duration": 135,
    "start_time": "2023-03-21T07:33:03.305Z"
   },
   {
    "duration": 7,
    "start_time": "2023-03-21T07:33:03.442Z"
   },
   {
    "duration": 44,
    "start_time": "2023-03-21T07:33:03.451Z"
   },
   {
    "duration": 13,
    "start_time": "2023-03-21T07:33:03.496Z"
   },
   {
    "duration": 10,
    "start_time": "2023-03-21T07:33:03.510Z"
   },
   {
    "duration": 7,
    "start_time": "2023-03-21T07:33:03.521Z"
   },
   {
    "duration": 9,
    "start_time": "2023-03-21T07:33:03.529Z"
   },
   {
    "duration": 9,
    "start_time": "2023-03-21T07:33:03.539Z"
   },
   {
    "duration": 52,
    "start_time": "2023-03-21T07:33:03.550Z"
   },
   {
    "duration": 15,
    "start_time": "2023-03-21T07:33:03.603Z"
   },
   {
    "duration": 1177,
    "start_time": "2023-03-21T07:34:49.986Z"
   },
   {
    "duration": 76,
    "start_time": "2023-03-21T07:34:51.165Z"
   },
   {
    "duration": 12,
    "start_time": "2023-03-21T07:34:51.242Z"
   },
   {
    "duration": 16,
    "start_time": "2023-03-21T07:34:51.256Z"
   },
   {
    "duration": 18,
    "start_time": "2023-03-21T07:34:51.274Z"
   },
   {
    "duration": 2,
    "start_time": "2023-03-21T07:34:51.294Z"
   },
   {
    "duration": 15,
    "start_time": "2023-03-21T07:34:51.298Z"
   },
   {
    "duration": 14,
    "start_time": "2023-03-21T07:34:51.315Z"
   },
   {
    "duration": 21,
    "start_time": "2023-03-21T07:34:51.330Z"
   },
   {
    "duration": 5,
    "start_time": "2023-03-21T07:34:51.353Z"
   },
   {
    "duration": 10,
    "start_time": "2023-03-21T07:34:51.359Z"
   },
   {
    "duration": 27,
    "start_time": "2023-03-21T07:34:51.370Z"
   },
   {
    "duration": 14,
    "start_time": "2023-03-21T07:34:51.399Z"
   },
   {
    "duration": 17,
    "start_time": "2023-03-21T07:34:51.415Z"
   },
   {
    "duration": 16,
    "start_time": "2023-03-21T07:34:51.434Z"
   },
   {
    "duration": 12,
    "start_time": "2023-03-21T07:34:51.451Z"
   },
   {
    "duration": 10,
    "start_time": "2023-03-21T07:34:51.464Z"
   },
   {
    "duration": 8,
    "start_time": "2023-03-21T07:34:51.475Z"
   },
   {
    "duration": 6,
    "start_time": "2023-03-21T07:34:51.489Z"
   },
   {
    "duration": 11,
    "start_time": "2023-03-21T07:34:51.496Z"
   },
   {
    "duration": 17,
    "start_time": "2023-03-21T07:34:51.509Z"
   },
   {
    "duration": 11,
    "start_time": "2023-03-21T07:34:51.527Z"
   },
   {
    "duration": 15,
    "start_time": "2023-03-21T07:34:51.540Z"
   },
   {
    "duration": 10,
    "start_time": "2023-03-21T07:34:51.556Z"
   },
   {
    "duration": 21,
    "start_time": "2023-03-21T07:34:51.568Z"
   },
   {
    "duration": 11,
    "start_time": "2023-03-21T07:34:51.590Z"
   },
   {
    "duration": 8,
    "start_time": "2023-03-21T07:34:51.602Z"
   },
   {
    "duration": 298,
    "start_time": "2023-03-21T07:34:51.612Z"
   },
   {
    "duration": 299,
    "start_time": "2023-03-21T07:34:51.912Z"
   },
   {
    "duration": 233,
    "start_time": "2023-03-21T07:34:52.213Z"
   },
   {
    "duration": 14,
    "start_time": "2023-03-21T07:34:52.448Z"
   },
   {
    "duration": 410,
    "start_time": "2023-03-21T07:34:52.464Z"
   },
   {
    "duration": 336,
    "start_time": "2023-03-21T07:34:52.877Z"
   },
   {
    "duration": 339,
    "start_time": "2023-03-21T07:34:53.215Z"
   },
   {
    "duration": 11,
    "start_time": "2023-03-21T07:34:53.555Z"
   },
   {
    "duration": 139,
    "start_time": "2023-03-21T07:34:53.568Z"
   },
   {
    "duration": 157,
    "start_time": "2023-03-21T07:34:53.708Z"
   },
   {
    "duration": 4,
    "start_time": "2023-03-21T07:34:53.867Z"
   },
   {
    "duration": 168,
    "start_time": "2023-03-21T07:34:53.873Z"
   },
   {
    "duration": 247,
    "start_time": "2023-03-21T07:34:54.042Z"
   },
   {
    "duration": 5,
    "start_time": "2023-03-21T07:34:54.292Z"
   },
   {
    "duration": 203,
    "start_time": "2023-03-21T07:34:54.298Z"
   },
   {
    "duration": 28,
    "start_time": "2023-03-21T07:34:54.502Z"
   },
   {
    "duration": 151,
    "start_time": "2023-03-21T07:34:54.531Z"
   },
   {
    "duration": 10,
    "start_time": "2023-03-21T07:34:54.684Z"
   },
   {
    "duration": 24,
    "start_time": "2023-03-21T07:34:54.695Z"
   },
   {
    "duration": 11,
    "start_time": "2023-03-21T07:34:54.721Z"
   },
   {
    "duration": 10,
    "start_time": "2023-03-21T07:34:54.734Z"
   },
   {
    "duration": 3,
    "start_time": "2023-03-21T07:34:54.747Z"
   },
   {
    "duration": 42,
    "start_time": "2023-03-21T07:34:54.752Z"
   },
   {
    "duration": 7,
    "start_time": "2023-03-21T07:34:54.796Z"
   },
   {
    "duration": 24,
    "start_time": "2023-03-21T07:34:54.805Z"
   },
   {
    "duration": 14,
    "start_time": "2023-03-21T07:34:54.831Z"
   },
   {
    "duration": 1221,
    "start_time": "2023-03-21T10:58:28.106Z"
   },
   {
    "duration": 77,
    "start_time": "2023-03-21T10:58:29.330Z"
   },
   {
    "duration": 14,
    "start_time": "2023-03-21T10:58:29.408Z"
   },
   {
    "duration": 9,
    "start_time": "2023-03-21T10:58:29.423Z"
   },
   {
    "duration": 10,
    "start_time": "2023-03-21T10:58:29.435Z"
   },
   {
    "duration": 3,
    "start_time": "2023-03-21T10:58:29.447Z"
   },
   {
    "duration": 13,
    "start_time": "2023-03-21T10:58:29.451Z"
   },
   {
    "duration": 24,
    "start_time": "2023-03-21T10:58:29.466Z"
   },
   {
    "duration": 15,
    "start_time": "2023-03-21T10:58:29.492Z"
   },
   {
    "duration": 16,
    "start_time": "2023-03-21T10:58:29.509Z"
   },
   {
    "duration": 10,
    "start_time": "2023-03-21T10:58:29.526Z"
   },
   {
    "duration": 12,
    "start_time": "2023-03-21T10:58:29.537Z"
   },
   {
    "duration": 13,
    "start_time": "2023-03-21T10:58:29.551Z"
   },
   {
    "duration": 23,
    "start_time": "2023-03-21T10:58:29.568Z"
   },
   {
    "duration": 5,
    "start_time": "2023-03-21T10:58:29.593Z"
   },
   {
    "duration": 27,
    "start_time": "2023-03-21T10:58:29.599Z"
   },
   {
    "duration": 11,
    "start_time": "2023-03-21T10:58:29.628Z"
   },
   {
    "duration": 10,
    "start_time": "2023-03-21T10:58:29.641Z"
   },
   {
    "duration": 9,
    "start_time": "2023-03-21T10:58:29.653Z"
   },
   {
    "duration": 25,
    "start_time": "2023-03-21T10:58:29.664Z"
   },
   {
    "duration": 6,
    "start_time": "2023-03-21T10:58:29.691Z"
   },
   {
    "duration": 10,
    "start_time": "2023-03-21T10:58:29.699Z"
   },
   {
    "duration": 17,
    "start_time": "2023-03-21T10:58:29.711Z"
   },
   {
    "duration": 12,
    "start_time": "2023-03-21T10:58:29.730Z"
   },
   {
    "duration": 15,
    "start_time": "2023-03-21T10:58:29.743Z"
   },
   {
    "duration": 14,
    "start_time": "2023-03-21T10:58:29.759Z"
   },
   {
    "duration": 19,
    "start_time": "2023-03-21T10:58:29.774Z"
   },
   {
    "duration": 323,
    "start_time": "2023-03-21T10:58:29.795Z"
   },
   {
    "duration": 343,
    "start_time": "2023-03-21T10:58:30.120Z"
   },
   {
    "duration": 247,
    "start_time": "2023-03-21T10:58:30.465Z"
   },
   {
    "duration": 13,
    "start_time": "2023-03-21T10:58:30.715Z"
   },
   {
    "duration": 398,
    "start_time": "2023-03-21T10:58:30.730Z"
   },
   {
    "duration": 240,
    "start_time": "2023-03-21T10:58:31.130Z"
   },
   {
    "duration": 375,
    "start_time": "2023-03-21T10:58:31.373Z"
   },
   {
    "duration": 11,
    "start_time": "2023-03-21T10:58:31.750Z"
   },
   {
    "duration": 145,
    "start_time": "2023-03-21T10:58:31.763Z"
   },
   {
    "duration": 162,
    "start_time": "2023-03-21T10:58:31.910Z"
   },
   {
    "duration": 4,
    "start_time": "2023-03-21T10:58:32.074Z"
   },
   {
    "duration": 180,
    "start_time": "2023-03-21T10:58:32.080Z"
   },
   {
    "duration": 269,
    "start_time": "2023-03-21T10:58:32.262Z"
   },
   {
    "duration": 4,
    "start_time": "2023-03-21T10:58:32.535Z"
   },
   {
    "duration": 232,
    "start_time": "2023-03-21T10:58:32.540Z"
   },
   {
    "duration": 33,
    "start_time": "2023-03-21T10:58:32.774Z"
   },
   {
    "duration": 160,
    "start_time": "2023-03-21T10:58:32.808Z"
   },
   {
    "duration": 9,
    "start_time": "2023-03-21T10:58:32.969Z"
   },
   {
    "duration": 46,
    "start_time": "2023-03-21T10:58:32.980Z"
   },
   {
    "duration": 14,
    "start_time": "2023-03-21T10:58:33.028Z"
   },
   {
    "duration": 22,
    "start_time": "2023-03-21T10:58:33.045Z"
   },
   {
    "duration": 28,
    "start_time": "2023-03-21T10:58:33.090Z"
   },
   {
    "duration": 24,
    "start_time": "2023-03-21T10:58:33.120Z"
   },
   {
    "duration": 20,
    "start_time": "2023-03-21T10:58:33.146Z"
   },
   {
    "duration": 36,
    "start_time": "2023-03-21T10:58:33.167Z"
   },
   {
    "duration": 14,
    "start_time": "2023-03-21T10:58:33.204Z"
   },
   {
    "duration": 1213,
    "start_time": "2023-03-21T10:58:49.892Z"
   },
   {
    "duration": 77,
    "start_time": "2023-03-21T10:58:51.107Z"
   },
   {
    "duration": 14,
    "start_time": "2023-03-21T10:58:51.185Z"
   },
   {
    "duration": 14,
    "start_time": "2023-03-21T10:58:51.200Z"
   },
   {
    "duration": 18,
    "start_time": "2023-03-21T10:58:51.217Z"
   },
   {
    "duration": 6,
    "start_time": "2023-03-21T10:58:51.237Z"
   },
   {
    "duration": 14,
    "start_time": "2023-03-21T10:58:51.245Z"
   },
   {
    "duration": 23,
    "start_time": "2023-03-21T10:58:51.261Z"
   },
   {
    "duration": 16,
    "start_time": "2023-03-21T10:58:51.286Z"
   },
   {
    "duration": 46,
    "start_time": "2023-03-21T10:58:51.304Z"
   },
   {
    "duration": 19,
    "start_time": "2023-03-21T10:58:51.352Z"
   },
   {
    "duration": 16,
    "start_time": "2023-03-21T10:58:51.374Z"
   },
   {
    "duration": 20,
    "start_time": "2023-03-21T10:58:51.392Z"
   },
   {
    "duration": 7,
    "start_time": "2023-03-21T10:58:51.415Z"
   },
   {
    "duration": 28,
    "start_time": "2023-03-21T10:58:51.424Z"
   },
   {
    "duration": 37,
    "start_time": "2023-03-21T10:58:51.454Z"
   },
   {
    "duration": 12,
    "start_time": "2023-03-21T10:58:51.493Z"
   },
   {
    "duration": 32,
    "start_time": "2023-03-21T10:58:51.506Z"
   },
   {
    "duration": 22,
    "start_time": "2023-03-21T10:58:51.540Z"
   },
   {
    "duration": 19,
    "start_time": "2023-03-21T10:58:51.563Z"
   },
   {
    "duration": 13,
    "start_time": "2023-03-21T10:58:51.584Z"
   },
   {
    "duration": 25,
    "start_time": "2023-03-21T10:58:51.598Z"
   },
   {
    "duration": 49,
    "start_time": "2023-03-21T10:58:51.625Z"
   },
   {
    "duration": 9,
    "start_time": "2023-03-21T10:58:51.676Z"
   },
   {
    "duration": 34,
    "start_time": "2023-03-21T10:58:51.686Z"
   },
   {
    "duration": 50,
    "start_time": "2023-03-21T10:58:51.722Z"
   },
   {
    "duration": 21,
    "start_time": "2023-03-21T10:58:51.775Z"
   },
   {
    "duration": 328,
    "start_time": "2023-03-21T10:58:51.798Z"
   },
   {
    "duration": 341,
    "start_time": "2023-03-21T10:58:52.128Z"
   },
   {
    "duration": 233,
    "start_time": "2023-03-21T10:58:52.470Z"
   },
   {
    "duration": 12,
    "start_time": "2023-03-21T10:58:52.705Z"
   },
   {
    "duration": 436,
    "start_time": "2023-03-21T10:58:52.719Z"
   },
   {
    "duration": 275,
    "start_time": "2023-03-21T10:58:53.157Z"
   },
   {
    "duration": 352,
    "start_time": "2023-03-21T10:58:53.434Z"
   },
   {
    "duration": 16,
    "start_time": "2023-03-21T10:58:53.790Z"
   },
   {
    "duration": 140,
    "start_time": "2023-03-21T10:58:53.808Z"
   },
   {
    "duration": 151,
    "start_time": "2023-03-21T10:58:53.949Z"
   },
   {
    "duration": 4,
    "start_time": "2023-03-21T10:58:54.102Z"
   },
   {
    "duration": 196,
    "start_time": "2023-03-21T10:58:54.108Z"
   },
   {
    "duration": 261,
    "start_time": "2023-03-21T10:58:54.306Z"
   },
   {
    "duration": 5,
    "start_time": "2023-03-21T10:58:54.571Z"
   },
   {
    "duration": 233,
    "start_time": "2023-03-21T10:58:54.590Z"
   },
   {
    "duration": 28,
    "start_time": "2023-03-21T10:58:54.825Z"
   },
   {
    "duration": 155,
    "start_time": "2023-03-21T10:58:54.854Z"
   },
   {
    "duration": 7,
    "start_time": "2023-03-21T10:58:55.011Z"
   },
   {
    "duration": 41,
    "start_time": "2023-03-21T10:58:55.019Z"
   },
   {
    "duration": 12,
    "start_time": "2023-03-21T10:58:55.061Z"
   },
   {
    "duration": 18,
    "start_time": "2023-03-21T10:58:55.075Z"
   },
   {
    "duration": 36,
    "start_time": "2023-03-21T10:58:55.095Z"
   },
   {
    "duration": 27,
    "start_time": "2023-03-21T10:58:55.132Z"
   },
   {
    "duration": 7,
    "start_time": "2023-03-21T10:58:55.161Z"
   },
   {
    "duration": 25,
    "start_time": "2023-03-21T10:58:55.170Z"
   },
   {
    "duration": 15,
    "start_time": "2023-03-21T10:58:55.197Z"
   },
   {
    "duration": 1114,
    "start_time": "2023-06-19T11:04:32.414Z"
   },
   {
    "duration": 203,
    "start_time": "2023-06-19T11:04:33.530Z"
   },
   {
    "duration": 14,
    "start_time": "2023-06-19T11:04:33.735Z"
   },
   {
    "duration": 13,
    "start_time": "2023-06-19T11:04:33.751Z"
   },
   {
    "duration": 17,
    "start_time": "2023-06-19T11:04:33.766Z"
   },
   {
    "duration": 8,
    "start_time": "2023-06-19T11:04:33.787Z"
   },
   {
    "duration": 12,
    "start_time": "2023-06-19T11:04:33.796Z"
   },
   {
    "duration": 15,
    "start_time": "2023-06-19T11:04:33.809Z"
   },
   {
    "duration": 14,
    "start_time": "2023-06-19T11:04:33.825Z"
   },
   {
    "duration": 7,
    "start_time": "2023-06-19T11:04:33.841Z"
   },
   {
    "duration": 9,
    "start_time": "2023-06-19T11:04:33.850Z"
   },
   {
    "duration": 15,
    "start_time": "2023-06-19T11:04:33.870Z"
   },
   {
    "duration": 12,
    "start_time": "2023-06-19T11:04:33.888Z"
   },
   {
    "duration": 9,
    "start_time": "2023-06-19T11:04:33.902Z"
   },
   {
    "duration": 22,
    "start_time": "2023-06-19T11:04:33.913Z"
   },
   {
    "duration": 44,
    "start_time": "2023-06-19T11:04:33.937Z"
   },
   {
    "duration": 13,
    "start_time": "2023-06-19T11:04:33.984Z"
   },
   {
    "duration": 31,
    "start_time": "2023-06-19T11:04:33.999Z"
   },
   {
    "duration": 22,
    "start_time": "2023-06-19T11:04:34.033Z"
   },
   {
    "duration": 6,
    "start_time": "2023-06-19T11:04:34.057Z"
   },
   {
    "duration": 6,
    "start_time": "2023-06-19T11:04:34.065Z"
   },
   {
    "duration": 17,
    "start_time": "2023-06-19T11:04:34.074Z"
   },
   {
    "duration": 17,
    "start_time": "2023-06-19T11:04:34.096Z"
   },
   {
    "duration": 8,
    "start_time": "2023-06-19T11:04:34.115Z"
   },
   {
    "duration": 14,
    "start_time": "2023-06-19T11:04:34.125Z"
   },
   {
    "duration": 18,
    "start_time": "2023-06-19T11:04:34.141Z"
   },
   {
    "duration": 27,
    "start_time": "2023-06-19T11:04:34.161Z"
   },
   {
    "duration": 310,
    "start_time": "2023-06-19T11:04:34.192Z"
   },
   {
    "duration": 332,
    "start_time": "2023-06-19T11:04:34.503Z"
   },
   {
    "duration": 227,
    "start_time": "2023-06-19T11:04:34.836Z"
   },
   {
    "duration": 23,
    "start_time": "2023-06-19T11:04:35.065Z"
   },
   {
    "duration": 317,
    "start_time": "2023-06-19T11:04:35.090Z"
   },
   {
    "duration": 221,
    "start_time": "2023-06-19T11:04:35.409Z"
   },
   {
    "duration": 388,
    "start_time": "2023-06-19T11:04:35.631Z"
   },
   {
    "duration": 12,
    "start_time": "2023-06-19T11:04:36.021Z"
   },
   {
    "duration": 148,
    "start_time": "2023-06-19T11:04:36.035Z"
   },
   {
    "duration": 146,
    "start_time": "2023-06-19T11:04:36.186Z"
   },
   {
    "duration": 6,
    "start_time": "2023-06-19T11:04:36.334Z"
   },
   {
    "duration": 167,
    "start_time": "2023-06-19T11:04:36.342Z"
   },
   {
    "duration": 255,
    "start_time": "2023-06-19T11:04:36.511Z"
   },
   {
    "duration": 9,
    "start_time": "2023-06-19T11:04:36.768Z"
   },
   {
    "duration": 209,
    "start_time": "2023-06-19T11:04:36.779Z"
   },
   {
    "duration": 29,
    "start_time": "2023-06-19T11:04:36.990Z"
   },
   {
    "duration": 144,
    "start_time": "2023-06-19T11:04:37.020Z"
   },
   {
    "duration": 14,
    "start_time": "2023-06-19T11:04:37.168Z"
   },
   {
    "duration": 29,
    "start_time": "2023-06-19T11:04:37.185Z"
   },
   {
    "duration": 11,
    "start_time": "2023-06-19T11:04:37.215Z"
   },
   {
    "duration": 14,
    "start_time": "2023-06-19T11:04:37.228Z"
   },
   {
    "duration": 3,
    "start_time": "2023-06-19T11:04:37.244Z"
   },
   {
    "duration": 34,
    "start_time": "2023-06-19T11:04:37.248Z"
   },
   {
    "duration": 7,
    "start_time": "2023-06-19T11:04:37.285Z"
   },
   {
    "duration": 37,
    "start_time": "2023-06-19T11:04:37.295Z"
   },
   {
    "duration": 14,
    "start_time": "2023-06-19T11:04:37.335Z"
   }
  ],
  "kernelspec": {
   "display_name": "Python 3 (ipykernel)",
   "language": "python",
   "name": "python3"
  },
  "language_info": {
   "codemirror_mode": {
    "name": "ipython",
    "version": 3
   },
   "file_extension": ".py",
   "mimetype": "text/x-python",
   "name": "python",
   "nbconvert_exporter": "python",
   "pygments_lexer": "ipython3",
   "version": "3.9.5"
  },
  "toc": {
   "base_numbering": 1,
   "nav_menu": {},
   "number_sections": true,
   "sideBar": true,
   "skip_h1_title": true,
   "title_cell": "Table of Contents",
   "title_sidebar": "Contents",
   "toc_cell": false,
   "toc_position": {},
   "toc_section_display": true,
   "toc_window_display": false
  }
 },
 "nbformat": 4,
 "nbformat_minor": 2
}
